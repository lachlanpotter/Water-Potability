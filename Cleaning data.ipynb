{
 "cells": [
  {
   "cell_type": "code",
   "execution_count": 1,
   "metadata": {},
   "outputs": [
    {
     "name": "stdout",
     "output_type": "stream",
     "text": [
      "Collecting package metadata (current_repodata.json): / WARNING conda.models.version:get_matcher(538): Using .* with relational operator is superfluous and deprecated and will be removed in a future version of conda. Your spec was 1.7.1.*, but conda is ignoring the .* and treating it as 1.7.1\n",
      "done\n",
      "Solving environment: done\n",
      "\n",
      "\n",
      "==> WARNING: A newer version of conda exists. <==\n",
      "  current version: 4.14.0\n",
      "  latest version: 23.10.0\n",
      "\n",
      "Please update conda by running\n",
      "\n",
      "    $ conda update -n base -c conda-forge conda\n",
      "\n",
      "\n",
      "\n",
      "# All requested packages already installed.\n",
      "\n",
      "Retrieving notices: ...working... done\n",
      "\n",
      "Note: you may need to restart the kernel to use updated packages.\n"
     ]
    }
   ],
   "source": [
    "import pandas as pd\n",
    "%conda install -c conda-forge pandasql"
   ]
  },
  {
   "cell_type": "code",
   "execution_count": null,
   "metadata": {},
   "outputs": [],
   "source": []
  },
  {
   "cell_type": "code",
   "execution_count": 2,
   "metadata": {},
   "outputs": [],
   "source": [
    "import pandasql as psql\n",
    "import random as rand\n"
   ]
  },
  {
   "cell_type": "code",
   "execution_count": 3,
   "metadata": {},
   "outputs": [],
   "source": [
    "water = pd.read_csv('water_potability.csv')"
   ]
  },
  {
   "cell_type": "code",
   "execution_count": 4,
   "metadata": {},
   "outputs": [
    {
     "data": {
      "text/html": [
       "<div>\n",
       "<style scoped>\n",
       "    .dataframe tbody tr th:only-of-type {\n",
       "        vertical-align: middle;\n",
       "    }\n",
       "\n",
       "    .dataframe tbody tr th {\n",
       "        vertical-align: top;\n",
       "    }\n",
       "\n",
       "    .dataframe thead th {\n",
       "        text-align: right;\n",
       "    }\n",
       "</style>\n",
       "<table border=\"1\" class=\"dataframe\">\n",
       "  <thead>\n",
       "    <tr style=\"text-align: right;\">\n",
       "      <th></th>\n",
       "      <th>ph</th>\n",
       "      <th>Hardness</th>\n",
       "      <th>Solids</th>\n",
       "      <th>Chloramines</th>\n",
       "      <th>Sulfate</th>\n",
       "      <th>Conductivity</th>\n",
       "      <th>Organic_carbon</th>\n",
       "      <th>Trihalomethanes</th>\n",
       "      <th>Turbidity</th>\n",
       "      <th>Potability</th>\n",
       "    </tr>\n",
       "  </thead>\n",
       "  <tbody>\n",
       "    <tr>\n",
       "      <th>0</th>\n",
       "      <td>NaN</td>\n",
       "      <td>204.890455</td>\n",
       "      <td>20791.318981</td>\n",
       "      <td>7.300212</td>\n",
       "      <td>368.516441</td>\n",
       "      <td>564.308654</td>\n",
       "      <td>10.379783</td>\n",
       "      <td>86.990970</td>\n",
       "      <td>2.963135</td>\n",
       "      <td>0</td>\n",
       "    </tr>\n",
       "    <tr>\n",
       "      <th>1</th>\n",
       "      <td>3.716080</td>\n",
       "      <td>129.422921</td>\n",
       "      <td>18630.057858</td>\n",
       "      <td>6.635246</td>\n",
       "      <td>NaN</td>\n",
       "      <td>592.885359</td>\n",
       "      <td>15.180013</td>\n",
       "      <td>56.329076</td>\n",
       "      <td>4.500656</td>\n",
       "      <td>0</td>\n",
       "    </tr>\n",
       "    <tr>\n",
       "      <th>2</th>\n",
       "      <td>8.099124</td>\n",
       "      <td>224.236259</td>\n",
       "      <td>19909.541732</td>\n",
       "      <td>9.275884</td>\n",
       "      <td>NaN</td>\n",
       "      <td>418.606213</td>\n",
       "      <td>16.868637</td>\n",
       "      <td>66.420093</td>\n",
       "      <td>3.055934</td>\n",
       "      <td>0</td>\n",
       "    </tr>\n",
       "    <tr>\n",
       "      <th>3</th>\n",
       "      <td>8.316766</td>\n",
       "      <td>214.373394</td>\n",
       "      <td>22018.417441</td>\n",
       "      <td>8.059332</td>\n",
       "      <td>356.886136</td>\n",
       "      <td>363.266516</td>\n",
       "      <td>18.436524</td>\n",
       "      <td>100.341674</td>\n",
       "      <td>4.628771</td>\n",
       "      <td>0</td>\n",
       "    </tr>\n",
       "    <tr>\n",
       "      <th>4</th>\n",
       "      <td>9.092223</td>\n",
       "      <td>181.101509</td>\n",
       "      <td>17978.986339</td>\n",
       "      <td>6.546600</td>\n",
       "      <td>310.135738</td>\n",
       "      <td>398.410813</td>\n",
       "      <td>11.558279</td>\n",
       "      <td>31.997993</td>\n",
       "      <td>4.075075</td>\n",
       "      <td>0</td>\n",
       "    </tr>\n",
       "    <tr>\n",
       "      <th>...</th>\n",
       "      <td>...</td>\n",
       "      <td>...</td>\n",
       "      <td>...</td>\n",
       "      <td>...</td>\n",
       "      <td>...</td>\n",
       "      <td>...</td>\n",
       "      <td>...</td>\n",
       "      <td>...</td>\n",
       "      <td>...</td>\n",
       "      <td>...</td>\n",
       "    </tr>\n",
       "    <tr>\n",
       "      <th>3271</th>\n",
       "      <td>4.668102</td>\n",
       "      <td>193.681735</td>\n",
       "      <td>47580.991603</td>\n",
       "      <td>7.166639</td>\n",
       "      <td>359.948574</td>\n",
       "      <td>526.424171</td>\n",
       "      <td>13.894419</td>\n",
       "      <td>66.687695</td>\n",
       "      <td>4.435821</td>\n",
       "      <td>1</td>\n",
       "    </tr>\n",
       "    <tr>\n",
       "      <th>3272</th>\n",
       "      <td>7.808856</td>\n",
       "      <td>193.553212</td>\n",
       "      <td>17329.802160</td>\n",
       "      <td>8.061362</td>\n",
       "      <td>NaN</td>\n",
       "      <td>392.449580</td>\n",
       "      <td>19.903225</td>\n",
       "      <td>NaN</td>\n",
       "      <td>2.798243</td>\n",
       "      <td>1</td>\n",
       "    </tr>\n",
       "    <tr>\n",
       "      <th>3273</th>\n",
       "      <td>9.419510</td>\n",
       "      <td>175.762646</td>\n",
       "      <td>33155.578218</td>\n",
       "      <td>7.350233</td>\n",
       "      <td>NaN</td>\n",
       "      <td>432.044783</td>\n",
       "      <td>11.039070</td>\n",
       "      <td>69.845400</td>\n",
       "      <td>3.298875</td>\n",
       "      <td>1</td>\n",
       "    </tr>\n",
       "    <tr>\n",
       "      <th>3274</th>\n",
       "      <td>5.126763</td>\n",
       "      <td>230.603758</td>\n",
       "      <td>11983.869376</td>\n",
       "      <td>6.303357</td>\n",
       "      <td>NaN</td>\n",
       "      <td>402.883113</td>\n",
       "      <td>11.168946</td>\n",
       "      <td>77.488213</td>\n",
       "      <td>4.708658</td>\n",
       "      <td>1</td>\n",
       "    </tr>\n",
       "    <tr>\n",
       "      <th>3275</th>\n",
       "      <td>7.874671</td>\n",
       "      <td>195.102299</td>\n",
       "      <td>17404.177061</td>\n",
       "      <td>7.509306</td>\n",
       "      <td>NaN</td>\n",
       "      <td>327.459760</td>\n",
       "      <td>16.140368</td>\n",
       "      <td>78.698446</td>\n",
       "      <td>2.309149</td>\n",
       "      <td>1</td>\n",
       "    </tr>\n",
       "  </tbody>\n",
       "</table>\n",
       "<p>3276 rows × 10 columns</p>\n",
       "</div>"
      ],
      "text/plain": [
       "            ph    Hardness        Solids  Chloramines     Sulfate  \\\n",
       "0          NaN  204.890455  20791.318981     7.300212  368.516441   \n",
       "1     3.716080  129.422921  18630.057858     6.635246         NaN   \n",
       "2     8.099124  224.236259  19909.541732     9.275884         NaN   \n",
       "3     8.316766  214.373394  22018.417441     8.059332  356.886136   \n",
       "4     9.092223  181.101509  17978.986339     6.546600  310.135738   \n",
       "...        ...         ...           ...          ...         ...   \n",
       "3271  4.668102  193.681735  47580.991603     7.166639  359.948574   \n",
       "3272  7.808856  193.553212  17329.802160     8.061362         NaN   \n",
       "3273  9.419510  175.762646  33155.578218     7.350233         NaN   \n",
       "3274  5.126763  230.603758  11983.869376     6.303357         NaN   \n",
       "3275  7.874671  195.102299  17404.177061     7.509306         NaN   \n",
       "\n",
       "      Conductivity  Organic_carbon  Trihalomethanes  Turbidity  Potability  \n",
       "0       564.308654       10.379783        86.990970   2.963135           0  \n",
       "1       592.885359       15.180013        56.329076   4.500656           0  \n",
       "2       418.606213       16.868637        66.420093   3.055934           0  \n",
       "3       363.266516       18.436524       100.341674   4.628771           0  \n",
       "4       398.410813       11.558279        31.997993   4.075075           0  \n",
       "...            ...             ...              ...        ...         ...  \n",
       "3271    526.424171       13.894419        66.687695   4.435821           1  \n",
       "3272    392.449580       19.903225              NaN   2.798243           1  \n",
       "3273    432.044783       11.039070        69.845400   3.298875           1  \n",
       "3274    402.883113       11.168946        77.488213   4.708658           1  \n",
       "3275    327.459760       16.140368        78.698446   2.309149           1  \n",
       "\n",
       "[3276 rows x 10 columns]"
      ]
     },
     "execution_count": 4,
     "metadata": {},
     "output_type": "execute_result"
    }
   ],
   "source": [
    "water"
   ]
  },
  {
   "cell_type": "code",
   "execution_count": 5,
   "metadata": {},
   "outputs": [],
   "source": [
    "seed_choice = 7\n",
    "seed = rand.Random(7)\n",
    "\n",
    "#Removing the NaN values for water data (only NaN values were in ph, sulfate and trihalomethanes)\n",
    "waternonan = psql.sqldf('select * from water where ph is not null and Sulfate is not null and Trihalomethanes is not null')"
   ]
  },
  {
   "cell_type": "code",
   "execution_count": 6,
   "metadata": {},
   "outputs": [
    {
     "data": {
      "text/html": [
       "<div>\n",
       "<style scoped>\n",
       "    .dataframe tbody tr th:only-of-type {\n",
       "        vertical-align: middle;\n",
       "    }\n",
       "\n",
       "    .dataframe tbody tr th {\n",
       "        vertical-align: top;\n",
       "    }\n",
       "\n",
       "    .dataframe thead th {\n",
       "        text-align: right;\n",
       "    }\n",
       "</style>\n",
       "<table border=\"1\" class=\"dataframe\">\n",
       "  <thead>\n",
       "    <tr style=\"text-align: right;\">\n",
       "      <th></th>\n",
       "      <th>ph</th>\n",
       "      <th>Hardness</th>\n",
       "      <th>Solids</th>\n",
       "      <th>Chloramines</th>\n",
       "      <th>Sulfate</th>\n",
       "      <th>Conductivity</th>\n",
       "      <th>Organic_carbon</th>\n",
       "      <th>Trihalomethanes</th>\n",
       "      <th>Turbidity</th>\n",
       "      <th>Potability</th>\n",
       "    </tr>\n",
       "  </thead>\n",
       "  <tbody>\n",
       "    <tr>\n",
       "      <th>754</th>\n",
       "      <td>5.068796</td>\n",
       "      <td>211.689502</td>\n",
       "      <td>22781.364534</td>\n",
       "      <td>5.330123</td>\n",
       "      <td>317.103903</td>\n",
       "      <td>483.442018</td>\n",
       "      <td>14.495791</td>\n",
       "      <td>77.212274</td>\n",
       "      <td>4.362086</td>\n",
       "      <td>1</td>\n",
       "    </tr>\n",
       "    <tr>\n",
       "      <th>842</th>\n",
       "      <td>5.613563</td>\n",
       "      <td>204.569366</td>\n",
       "      <td>16615.908152</td>\n",
       "      <td>5.618949</td>\n",
       "      <td>316.099824</td>\n",
       "      <td>341.523672</td>\n",
       "      <td>15.173956</td>\n",
       "      <td>73.450164</td>\n",
       "      <td>3.465089</td>\n",
       "      <td>0</td>\n",
       "    </tr>\n",
       "    <tr>\n",
       "      <th>1830</th>\n",
       "      <td>7.719001</td>\n",
       "      <td>196.007518</td>\n",
       "      <td>13939.294022</td>\n",
       "      <td>6.935551</td>\n",
       "      <td>345.653662</td>\n",
       "      <td>423.203533</td>\n",
       "      <td>16.836786</td>\n",
       "      <td>89.338649</td>\n",
       "      <td>2.884819</td>\n",
       "      <td>0</td>\n",
       "    </tr>\n",
       "    <tr>\n",
       "      <th>69</th>\n",
       "      <td>6.877457</td>\n",
       "      <td>136.879214</td>\n",
       "      <td>27433.587294</td>\n",
       "      <td>7.091522</td>\n",
       "      <td>307.397088</td>\n",
       "      <td>342.196347</td>\n",
       "      <td>18.403846</td>\n",
       "      <td>81.193412</td>\n",
       "      <td>3.827650</td>\n",
       "      <td>0</td>\n",
       "    </tr>\n",
       "    <tr>\n",
       "      <th>453</th>\n",
       "      <td>6.161779</td>\n",
       "      <td>202.756973</td>\n",
       "      <td>12229.647584</td>\n",
       "      <td>11.523598</td>\n",
       "      <td>324.048035</td>\n",
       "      <td>344.365689</td>\n",
       "      <td>14.685927</td>\n",
       "      <td>47.803194</td>\n",
       "      <td>4.003547</td>\n",
       "      <td>1</td>\n",
       "    </tr>\n",
       "    <tr>\n",
       "      <th>...</th>\n",
       "      <td>...</td>\n",
       "      <td>...</td>\n",
       "      <td>...</td>\n",
       "      <td>...</td>\n",
       "      <td>...</td>\n",
       "      <td>...</td>\n",
       "      <td>...</td>\n",
       "      <td>...</td>\n",
       "      <td>...</td>\n",
       "      <td>...</td>\n",
       "    </tr>\n",
       "    <tr>\n",
       "      <th>1710</th>\n",
       "      <td>7.266781</td>\n",
       "      <td>178.257710</td>\n",
       "      <td>27468.681707</td>\n",
       "      <td>6.043959</td>\n",
       "      <td>314.390628</td>\n",
       "      <td>400.624987</td>\n",
       "      <td>13.665328</td>\n",
       "      <td>87.131873</td>\n",
       "      <td>3.919827</td>\n",
       "      <td>1</td>\n",
       "    </tr>\n",
       "    <tr>\n",
       "      <th>871</th>\n",
       "      <td>6.966835</td>\n",
       "      <td>158.043065</td>\n",
       "      <td>12256.678287</td>\n",
       "      <td>7.105619</td>\n",
       "      <td>371.517435</td>\n",
       "      <td>382.443863</td>\n",
       "      <td>14.408080</td>\n",
       "      <td>78.100735</td>\n",
       "      <td>2.957441</td>\n",
       "      <td>0</td>\n",
       "    </tr>\n",
       "    <tr>\n",
       "      <th>1753</th>\n",
       "      <td>7.376161</td>\n",
       "      <td>199.170160</td>\n",
       "      <td>17181.008814</td>\n",
       "      <td>6.602452</td>\n",
       "      <td>388.028517</td>\n",
       "      <td>357.372931</td>\n",
       "      <td>16.948292</td>\n",
       "      <td>75.886160</td>\n",
       "      <td>4.010235</td>\n",
       "      <td>1</td>\n",
       "    </tr>\n",
       "    <tr>\n",
       "      <th>782</th>\n",
       "      <td>8.575673</td>\n",
       "      <td>197.560283</td>\n",
       "      <td>15888.625207</td>\n",
       "      <td>4.865463</td>\n",
       "      <td>311.557381</td>\n",
       "      <td>464.725567</td>\n",
       "      <td>18.736927</td>\n",
       "      <td>40.224521</td>\n",
       "      <td>3.506229</td>\n",
       "      <td>0</td>\n",
       "    </tr>\n",
       "    <tr>\n",
       "      <th>212</th>\n",
       "      <td>5.910252</td>\n",
       "      <td>282.739017</td>\n",
       "      <td>15244.846395</td>\n",
       "      <td>6.636551</td>\n",
       "      <td>363.384683</td>\n",
       "      <td>695.369528</td>\n",
       "      <td>13.138353</td>\n",
       "      <td>89.801011</td>\n",
       "      <td>3.660923</td>\n",
       "      <td>1</td>\n",
       "    </tr>\n",
       "  </tbody>\n",
       "</table>\n",
       "<p>2011 rows × 10 columns</p>\n",
       "</div>"
      ],
      "text/plain": [
       "            ph    Hardness        Solids  Chloramines     Sulfate  \\\n",
       "754   5.068796  211.689502  22781.364534     5.330123  317.103903   \n",
       "842   5.613563  204.569366  16615.908152     5.618949  316.099824   \n",
       "1830  7.719001  196.007518  13939.294022     6.935551  345.653662   \n",
       "69    6.877457  136.879214  27433.587294     7.091522  307.397088   \n",
       "453   6.161779  202.756973  12229.647584    11.523598  324.048035   \n",
       "...        ...         ...           ...          ...         ...   \n",
       "1710  7.266781  178.257710  27468.681707     6.043959  314.390628   \n",
       "871   6.966835  158.043065  12256.678287     7.105619  371.517435   \n",
       "1753  7.376161  199.170160  17181.008814     6.602452  388.028517   \n",
       "782   8.575673  197.560283  15888.625207     4.865463  311.557381   \n",
       "212   5.910252  282.739017  15244.846395     6.636551  363.384683   \n",
       "\n",
       "      Conductivity  Organic_carbon  Trihalomethanes  Turbidity  Potability  \n",
       "754     483.442018       14.495791        77.212274   4.362086           1  \n",
       "842     341.523672       15.173956        73.450164   3.465089           0  \n",
       "1830    423.203533       16.836786        89.338649   2.884819           0  \n",
       "69      342.196347       18.403846        81.193412   3.827650           0  \n",
       "453     344.365689       14.685927        47.803194   4.003547           1  \n",
       "...            ...             ...              ...        ...         ...  \n",
       "1710    400.624987       13.665328        87.131873   3.919827           1  \n",
       "871     382.443863       14.408080        78.100735   2.957441           0  \n",
       "1753    357.372931       16.948292        75.886160   4.010235           1  \n",
       "782     464.725567       18.736927        40.224521   3.506229           0  \n",
       "212     695.369528       13.138353        89.801011   3.660923           1  \n",
       "\n",
       "[2011 rows x 10 columns]"
      ]
     },
     "execution_count": 6,
     "metadata": {},
     "output_type": "execute_result"
    }
   ],
   "source": [
    "#shuffling data\n",
    "waternonan = waternonan.sample(frac=1)\n",
    "\n",
    "waternonan"
   ]
  },
  {
   "cell_type": "code",
   "execution_count": 7,
   "metadata": {},
   "outputs": [
    {
     "name": "stdout",
     "output_type": "stream",
     "text": [
      "0\n"
     ]
    }
   ],
   "source": [
    "#checking no NaN anywhere\n",
    "check_nan = waternonan['ph' or 'Trihalomethanes' or 'Hardness' or 'Solids' or 'Chloramines' or 'Sulfate' or 'Conductivity' or 'Organic_carbon' or 'Turbidity' or 'Potability'].isnull().sum()\n",
    "print(check_nan)"
   ]
  },
  {
   "cell_type": "code",
   "execution_count": 8,
   "metadata": {},
   "outputs": [],
   "source": [
    "#data visualisation\n",
    "import matplotlib.pyplot as plt\n",
    "import numpy as np"
   ]
  },
  {
   "cell_type": "code",
   "execution_count": 9,
   "metadata": {},
   "outputs": [],
   "source": [
    "#plt.hist(waternonan.ph)"
   ]
  },
  {
   "cell_type": "code",
   "execution_count": 10,
   "metadata": {},
   "outputs": [],
   "source": [
    "#plt.hist(waternonan.Trihalomethanes)\n"
   ]
  },
  {
   "cell_type": "code",
   "execution_count": 11,
   "metadata": {},
   "outputs": [],
   "source": [
    "#plt.hist(waternonan.Hardness)\n"
   ]
  },
  {
   "cell_type": "code",
   "execution_count": 12,
   "metadata": {},
   "outputs": [],
   "source": [
    "#plt.hist(waternonan.Solids)\n"
   ]
  },
  {
   "cell_type": "code",
   "execution_count": 13,
   "metadata": {},
   "outputs": [],
   "source": [
    "#plt.hist(waternonan.Chloramines)\n"
   ]
  },
  {
   "cell_type": "code",
   "execution_count": 14,
   "metadata": {},
   "outputs": [],
   "source": [
    "#plt.hist(waternonan.Sulfate)\n"
   ]
  },
  {
   "cell_type": "code",
   "execution_count": 15,
   "metadata": {},
   "outputs": [],
   "source": [
    "#plt.hist(waternonan.Conductivity)\n"
   ]
  },
  {
   "cell_type": "code",
   "execution_count": 16,
   "metadata": {},
   "outputs": [],
   "source": [
    "#plt.hist(waternonan.Organic_carbon)\n"
   ]
  },
  {
   "cell_type": "code",
   "execution_count": 17,
   "metadata": {},
   "outputs": [],
   "source": [
    "#plt.hist(waternonan.Turbidity)\n"
   ]
  },
  {
   "cell_type": "code",
   "execution_count": 18,
   "metadata": {},
   "outputs": [],
   "source": [
    "#plt.hist(waternonan.Potability)"
   ]
  },
  {
   "cell_type": "code",
   "execution_count": 19,
   "metadata": {},
   "outputs": [],
   "source": [
    "#corellation heat map\n",
    "import seaborn as sns"
   ]
  },
  {
   "cell_type": "code",
   "execution_count": 20,
   "metadata": {},
   "outputs": [
    {
     "data": {
      "text/plain": [
       "<AxesSubplot:>"
      ]
     },
     "execution_count": 20,
     "metadata": {},
     "output_type": "execute_result"
    },
    {
     "data": {
      "image/png": "[encoded data removed]",
      "text/plain": [
       "<Figure size 432x288 with 2 Axes>"
      ]
     },
     "metadata": {
      "needs_background": "light"
     },
     "output_type": "display_data"
    }
   ],
   "source": [
    "sns.heatmap(waternonan.corr())\n",
    "#Upshot: not many extraneous variables"
   ]
  },
  {
   "cell_type": "code",
   "execution_count": 21,
   "metadata": {},
   "outputs": [],
   "source": [
    "#Creating test-train split in data\n",
    "import random as rand\n"
   ]
  },
  {
   "cell_type": "code",
   "execution_count": 22,
   "metadata": {},
   "outputs": [
    {
     "data": {
      "text/html": [
       "<div>\n",
       "<style scoped>\n",
       "    .dataframe tbody tr th:only-of-type {\n",
       "        vertical-align: middle;\n",
       "    }\n",
       "\n",
       "    .dataframe tbody tr th {\n",
       "        vertical-align: top;\n",
       "    }\n",
       "\n",
       "    .dataframe thead th {\n",
       "        text-align: right;\n",
       "    }\n",
       "</style>\n",
       "<table border=\"1\" class=\"dataframe\">\n",
       "  <thead>\n",
       "    <tr style=\"text-align: right;\">\n",
       "      <th></th>\n",
       "      <th>ph</th>\n",
       "      <th>Hardness</th>\n",
       "      <th>Solids</th>\n",
       "      <th>Chloramines</th>\n",
       "      <th>Sulfate</th>\n",
       "      <th>Conductivity</th>\n",
       "      <th>Organic_carbon</th>\n",
       "      <th>Trihalomethanes</th>\n",
       "      <th>Turbidity</th>\n",
       "      <th>Potability</th>\n",
       "    </tr>\n",
       "  </thead>\n",
       "  <tbody>\n",
       "    <tr>\n",
       "      <th>1530</th>\n",
       "      <td>6.653650</td>\n",
       "      <td>172.584512</td>\n",
       "      <td>34816.444538</td>\n",
       "      <td>8.289307</td>\n",
       "      <td>293.611048</td>\n",
       "      <td>389.471149</td>\n",
       "      <td>15.872474</td>\n",
       "      <td>67.976869</td>\n",
       "      <td>4.871406</td>\n",
       "      <td>0</td>\n",
       "    </tr>\n",
       "    <tr>\n",
       "      <th>1342</th>\n",
       "      <td>6.977406</td>\n",
       "      <td>205.563499</td>\n",
       "      <td>16100.967947</td>\n",
       "      <td>5.527299</td>\n",
       "      <td>371.361851</td>\n",
       "      <td>532.342083</td>\n",
       "      <td>10.346574</td>\n",
       "      <td>72.573959</td>\n",
       "      <td>5.327585</td>\n",
       "      <td>0</td>\n",
       "    </tr>\n",
       "    <tr>\n",
       "      <th>1590</th>\n",
       "      <td>5.946161</td>\n",
       "      <td>190.551572</td>\n",
       "      <td>12767.656229</td>\n",
       "      <td>8.939748</td>\n",
       "      <td>323.742827</td>\n",
       "      <td>499.937502</td>\n",
       "      <td>12.415430</td>\n",
       "      <td>54.095581</td>\n",
       "      <td>4.903632</td>\n",
       "      <td>0</td>\n",
       "    </tr>\n",
       "    <tr>\n",
       "      <th>925</th>\n",
       "      <td>7.958871</td>\n",
       "      <td>184.828557</td>\n",
       "      <td>26845.661013</td>\n",
       "      <td>7.673719</td>\n",
       "      <td>327.239109</td>\n",
       "      <td>389.264216</td>\n",
       "      <td>11.032867</td>\n",
       "      <td>52.510520</td>\n",
       "      <td>4.007903</td>\n",
       "      <td>1</td>\n",
       "    </tr>\n",
       "    <tr>\n",
       "      <th>552</th>\n",
       "      <td>4.487517</td>\n",
       "      <td>199.051403</td>\n",
       "      <td>36860.468899</td>\n",
       "      <td>9.751561</td>\n",
       "      <td>338.049428</td>\n",
       "      <td>390.566945</td>\n",
       "      <td>8.123470</td>\n",
       "      <td>75.668785</td>\n",
       "      <td>2.765722</td>\n",
       "      <td>0</td>\n",
       "    </tr>\n",
       "    <tr>\n",
       "      <th>...</th>\n",
       "      <td>...</td>\n",
       "      <td>...</td>\n",
       "      <td>...</td>\n",
       "      <td>...</td>\n",
       "      <td>...</td>\n",
       "      <td>...</td>\n",
       "      <td>...</td>\n",
       "      <td>...</td>\n",
       "      <td>...</td>\n",
       "      <td>...</td>\n",
       "    </tr>\n",
       "    <tr>\n",
       "      <th>489</th>\n",
       "      <td>9.393148</td>\n",
       "      <td>215.051365</td>\n",
       "      <td>20592.258942</td>\n",
       "      <td>10.089537</td>\n",
       "      <td>331.338739</td>\n",
       "      <td>447.074460</td>\n",
       "      <td>10.778633</td>\n",
       "      <td>54.426968</td>\n",
       "      <td>4.665681</td>\n",
       "      <td>1</td>\n",
       "    </tr>\n",
       "    <tr>\n",
       "      <th>1603</th>\n",
       "      <td>7.387434</td>\n",
       "      <td>214.293032</td>\n",
       "      <td>11694.635285</td>\n",
       "      <td>9.273679</td>\n",
       "      <td>375.505583</td>\n",
       "      <td>356.805855</td>\n",
       "      <td>15.184509</td>\n",
       "      <td>80.231172</td>\n",
       "      <td>3.830577</td>\n",
       "      <td>0</td>\n",
       "    </tr>\n",
       "    <tr>\n",
       "      <th>252</th>\n",
       "      <td>4.725786</td>\n",
       "      <td>249.670999</td>\n",
       "      <td>20834.294278</td>\n",
       "      <td>5.036010</td>\n",
       "      <td>378.998684</td>\n",
       "      <td>411.114485</td>\n",
       "      <td>17.769641</td>\n",
       "      <td>78.817436</td>\n",
       "      <td>3.156331</td>\n",
       "      <td>1</td>\n",
       "    </tr>\n",
       "    <tr>\n",
       "      <th>1194</th>\n",
       "      <td>4.704698</td>\n",
       "      <td>160.211822</td>\n",
       "      <td>5128.457646</td>\n",
       "      <td>8.283069</td>\n",
       "      <td>357.731077</td>\n",
       "      <td>344.693740</td>\n",
       "      <td>14.219532</td>\n",
       "      <td>34.288413</td>\n",
       "      <td>4.109925</td>\n",
       "      <td>1</td>\n",
       "    </tr>\n",
       "    <tr>\n",
       "      <th>968</th>\n",
       "      <td>5.736676</td>\n",
       "      <td>180.290908</td>\n",
       "      <td>12683.483292</td>\n",
       "      <td>7.907877</td>\n",
       "      <td>423.876297</td>\n",
       "      <td>415.006576</td>\n",
       "      <td>12.392869</td>\n",
       "      <td>83.707045</td>\n",
       "      <td>2.741791</td>\n",
       "      <td>1</td>\n",
       "    </tr>\n",
       "  </tbody>\n",
       "</table>\n",
       "<p>1609 rows × 10 columns</p>\n",
       "</div>"
      ],
      "text/plain": [
       "            ph    Hardness        Solids  Chloramines     Sulfate  \\\n",
       "1530  6.653650  172.584512  34816.444538     8.289307  293.611048   \n",
       "1342  6.977406  205.563499  16100.967947     5.527299  371.361851   \n",
       "1590  5.946161  190.551572  12767.656229     8.939748  323.742827   \n",
       "925   7.958871  184.828557  26845.661013     7.673719  327.239109   \n",
       "552   4.487517  199.051403  36860.468899     9.751561  338.049428   \n",
       "...        ...         ...           ...          ...         ...   \n",
       "489   9.393148  215.051365  20592.258942    10.089537  331.338739   \n",
       "1603  7.387434  214.293032  11694.635285     9.273679  375.505583   \n",
       "252   4.725786  249.670999  20834.294278     5.036010  378.998684   \n",
       "1194  4.704698  160.211822   5128.457646     8.283069  357.731077   \n",
       "968   5.736676  180.290908  12683.483292     7.907877  423.876297   \n",
       "\n",
       "      Conductivity  Organic_carbon  Trihalomethanes  Turbidity  Potability  \n",
       "1530    389.471149       15.872474        67.976869   4.871406           0  \n",
       "1342    532.342083       10.346574        72.573959   5.327585           0  \n",
       "1590    499.937502       12.415430        54.095581   4.903632           0  \n",
       "925     389.264216       11.032867        52.510520   4.007903           1  \n",
       "552     390.566945        8.123470        75.668785   2.765722           0  \n",
       "...            ...             ...              ...        ...         ...  \n",
       "489     447.074460       10.778633        54.426968   4.665681           1  \n",
       "1603    356.805855       15.184509        80.231172   3.830577           0  \n",
       "252     411.114485       17.769641        78.817436   3.156331           1  \n",
       "1194    344.693740       14.219532        34.288413   4.109925           1  \n",
       "968     415.006576       12.392869        83.707045   2.741791           1  \n",
       "\n",
       "[1609 rows x 10 columns]"
      ]
     },
     "execution_count": 22,
     "metadata": {},
     "output_type": "execute_result"
    }
   ],
   "source": [
    "# 80-20 split training data\n",
    "index_list = seed.sample(range(2010), 1609)\n",
    "train_set = waternonan.iloc[index_list]\n",
    "train_set"
   ]
  },
  {
   "cell_type": "code",
   "execution_count": 23,
   "metadata": {},
   "outputs": [
    {
     "data": {
      "text/html": [
       "<div>\n",
       "<style scoped>\n",
       "    .dataframe tbody tr th:only-of-type {\n",
       "        vertical-align: middle;\n",
       "    }\n",
       "\n",
       "    .dataframe tbody tr th {\n",
       "        vertical-align: top;\n",
       "    }\n",
       "\n",
       "    .dataframe thead th {\n",
       "        text-align: right;\n",
       "    }\n",
       "</style>\n",
       "<table border=\"1\" class=\"dataframe\">\n",
       "  <thead>\n",
       "    <tr style=\"text-align: right;\">\n",
       "      <th></th>\n",
       "      <th>ph</th>\n",
       "      <th>Hardness</th>\n",
       "      <th>Solids</th>\n",
       "      <th>Chloramines</th>\n",
       "      <th>Sulfate</th>\n",
       "      <th>Conductivity</th>\n",
       "      <th>Organic_carbon</th>\n",
       "      <th>Trihalomethanes</th>\n",
       "      <th>Turbidity</th>\n",
       "      <th>Potability</th>\n",
       "    </tr>\n",
       "  </thead>\n",
       "  <tbody>\n",
       "    <tr>\n",
       "      <th>1673</th>\n",
       "      <td>6.179312</td>\n",
       "      <td>159.773264</td>\n",
       "      <td>21532.519232</td>\n",
       "      <td>8.063335</td>\n",
       "      <td>272.440848</td>\n",
       "      <td>509.772110</td>\n",
       "      <td>11.010545</td>\n",
       "      <td>99.996286</td>\n",
       "      <td>2.951961</td>\n",
       "      <td>1</td>\n",
       "    </tr>\n",
       "    <tr>\n",
       "      <th>1059</th>\n",
       "      <td>7.566517</td>\n",
       "      <td>205.396582</td>\n",
       "      <td>30823.730490</td>\n",
       "      <td>7.816636</td>\n",
       "      <td>354.175972</td>\n",
       "      <td>395.297275</td>\n",
       "      <td>12.095251</td>\n",
       "      <td>63.767702</td>\n",
       "      <td>3.275142</td>\n",
       "      <td>0</td>\n",
       "    </tr>\n",
       "    <tr>\n",
       "      <th>884</th>\n",
       "      <td>6.280905</td>\n",
       "      <td>178.707200</td>\n",
       "      <td>16950.015907</td>\n",
       "      <td>7.866135</td>\n",
       "      <td>370.326350</td>\n",
       "      <td>388.552621</td>\n",
       "      <td>10.971432</td>\n",
       "      <td>74.608023</td>\n",
       "      <td>3.021289</td>\n",
       "      <td>0</td>\n",
       "    </tr>\n",
       "    <tr>\n",
       "      <th>434</th>\n",
       "      <td>5.624820</td>\n",
       "      <td>215.822873</td>\n",
       "      <td>9028.760345</td>\n",
       "      <td>9.256098</td>\n",
       "      <td>274.292305</td>\n",
       "      <td>340.648393</td>\n",
       "      <td>10.680673</td>\n",
       "      <td>72.487450</td>\n",
       "      <td>4.355489</td>\n",
       "      <td>1</td>\n",
       "    </tr>\n",
       "    <tr>\n",
       "      <th>1303</th>\n",
       "      <td>4.908900</td>\n",
       "      <td>161.243192</td>\n",
       "      <td>13516.911495</td>\n",
       "      <td>8.206212</td>\n",
       "      <td>343.305288</td>\n",
       "      <td>535.224517</td>\n",
       "      <td>14.356101</td>\n",
       "      <td>71.444915</td>\n",
       "      <td>4.196429</td>\n",
       "      <td>0</td>\n",
       "    </tr>\n",
       "    <tr>\n",
       "      <th>...</th>\n",
       "      <td>...</td>\n",
       "      <td>...</td>\n",
       "      <td>...</td>\n",
       "      <td>...</td>\n",
       "      <td>...</td>\n",
       "      <td>...</td>\n",
       "      <td>...</td>\n",
       "      <td>...</td>\n",
       "      <td>...</td>\n",
       "      <td>...</td>\n",
       "    </tr>\n",
       "    <tr>\n",
       "      <th>151</th>\n",
       "      <td>6.321259</td>\n",
       "      <td>207.257710</td>\n",
       "      <td>8532.139517</td>\n",
       "      <td>5.987877</td>\n",
       "      <td>286.489280</td>\n",
       "      <td>491.765313</td>\n",
       "      <td>10.546886</td>\n",
       "      <td>74.502808</td>\n",
       "      <td>4.501457</td>\n",
       "      <td>0</td>\n",
       "    </tr>\n",
       "    <tr>\n",
       "      <th>204</th>\n",
       "      <td>6.964226</td>\n",
       "      <td>212.764494</td>\n",
       "      <td>29957.191215</td>\n",
       "      <td>7.675188</td>\n",
       "      <td>321.250898</td>\n",
       "      <td>378.085546</td>\n",
       "      <td>13.127694</td>\n",
       "      <td>72.089001</td>\n",
       "      <td>3.990438</td>\n",
       "      <td>1</td>\n",
       "    </tr>\n",
       "    <tr>\n",
       "      <th>415</th>\n",
       "      <td>9.107330</td>\n",
       "      <td>202.514711</td>\n",
       "      <td>24678.329289</td>\n",
       "      <td>5.575906</td>\n",
       "      <td>334.717335</td>\n",
       "      <td>467.110762</td>\n",
       "      <td>12.937329</td>\n",
       "      <td>46.935252</td>\n",
       "      <td>4.492140</td>\n",
       "      <td>1</td>\n",
       "    </tr>\n",
       "    <tr>\n",
       "      <th>782</th>\n",
       "      <td>8.575673</td>\n",
       "      <td>197.560283</td>\n",
       "      <td>15888.625207</td>\n",
       "      <td>4.865463</td>\n",
       "      <td>311.557381</td>\n",
       "      <td>464.725567</td>\n",
       "      <td>18.736927</td>\n",
       "      <td>40.224521</td>\n",
       "      <td>3.506229</td>\n",
       "      <td>0</td>\n",
       "    </tr>\n",
       "    <tr>\n",
       "      <th>212</th>\n",
       "      <td>5.910252</td>\n",
       "      <td>282.739017</td>\n",
       "      <td>15244.846395</td>\n",
       "      <td>6.636551</td>\n",
       "      <td>363.384683</td>\n",
       "      <td>695.369528</td>\n",
       "      <td>13.138353</td>\n",
       "      <td>89.801011</td>\n",
       "      <td>3.660923</td>\n",
       "      <td>1</td>\n",
       "    </tr>\n",
       "  </tbody>\n",
       "</table>\n",
       "<p>402 rows × 10 columns</p>\n",
       "</div>"
      ],
      "text/plain": [
       "            ph    Hardness        Solids  Chloramines     Sulfate  \\\n",
       "1673  6.179312  159.773264  21532.519232     8.063335  272.440848   \n",
       "1059  7.566517  205.396582  30823.730490     7.816636  354.175972   \n",
       "884   6.280905  178.707200  16950.015907     7.866135  370.326350   \n",
       "434   5.624820  215.822873   9028.760345     9.256098  274.292305   \n",
       "1303  4.908900  161.243192  13516.911495     8.206212  343.305288   \n",
       "...        ...         ...           ...          ...         ...   \n",
       "151   6.321259  207.257710   8532.139517     5.987877  286.489280   \n",
       "204   6.964226  212.764494  29957.191215     7.675188  321.250898   \n",
       "415   9.107330  202.514711  24678.329289     5.575906  334.717335   \n",
       "782   8.575673  197.560283  15888.625207     4.865463  311.557381   \n",
       "212   5.910252  282.739017  15244.846395     6.636551  363.384683   \n",
       "\n",
       "      Conductivity  Organic_carbon  Trihalomethanes  Turbidity  Potability  \n",
       "1673    509.772110       11.010545        99.996286   2.951961           1  \n",
       "1059    395.297275       12.095251        63.767702   3.275142           0  \n",
       "884     388.552621       10.971432        74.608023   3.021289           0  \n",
       "434     340.648393       10.680673        72.487450   4.355489           1  \n",
       "1303    535.224517       14.356101        71.444915   4.196429           0  \n",
       "...            ...             ...              ...        ...         ...  \n",
       "151     491.765313       10.546886        74.502808   4.501457           0  \n",
       "204     378.085546       13.127694        72.089001   3.990438           1  \n",
       "415     467.110762       12.937329        46.935252   4.492140           1  \n",
       "782     464.725567       18.736927        40.224521   3.506229           0  \n",
       "212     695.369528       13.138353        89.801011   3.660923           1  \n",
       "\n",
       "[402 rows x 10 columns]"
      ]
     },
     "execution_count": 23,
     "metadata": {},
     "output_type": "execute_result"
    }
   ],
   "source": [
    "# test data\n",
    "test_data = waternonan.iloc[waternonan.index.difference(index_list)]\n",
    "test_data"
   ]
  },
  {
   "cell_type": "code",
   "execution_count": 61,
   "metadata": {},
   "outputs": [],
   "source": [
    "#starting the pipeline\n",
    "# preprocessing\n",
    "from sklearn.preprocessing import Normalizer, StandardScaler, MinMaxScaler, PowerTransformer, MaxAbsScaler, LabelEncoder, QuantileTransformer, RobustScaler\n",
    "from sklearn.feature_selection import VarianceThreshold, SelectFpr, f_classif\n",
    "from sklearn.impute import SimpleImputer\n",
    "\n",
    "\n",
    "# model training/tuning\n",
    "from sklearn.pipeline import Pipeline, make_pipeline \n",
    "from sklearn.model_selection import train_test_split, GridSearchCV \n",
    "from sklearn.dummy import DummyClassifier\n",
    "from sklearn.compose import ColumnTransformer\n",
    "\n",
    "\n",
    "# models\n",
    "from sklearn.neighbors import KNeighborsClassifier \n",
    "from sklearn.linear_model import LogisticRegression\n",
    "from sklearn.naive_bayes import GaussianNB\n",
    "from sklearn.ensemble import RandomForestClassifier, GradientBoostingClassifier\n",
    "\n",
    "# model validation\n",
    "from sklearn.metrics import confusion_matrix, ConfusionMatrixDisplay, classification_report, recall_score, accuracy_score, make_scorer\n",
    "\n",
    "\n",
    "# dataframe viewing rows\n",
    "pd.set_option('display.max_rows', 100)"
   ]
  },
  {
   "cell_type": "code",
   "execution_count": 25,
   "metadata": {},
   "outputs": [],
   "source": [
    "feature_list = ['ph', # indicate ph\n",
    "                'Hardness', # indicates hardness\n",
    "                'Solids', # indicates solids\n",
    "                'Chloramines', # indicates Chloramines\n",
    "                'Sulfate', # indicates Sulfate\n",
    "                'Conductivity', # indicates Conductivity\n",
    "                'Organic_carbon', # indicates Organic_carbon\n",
    "                'Trihalomethanes', # indicates Trihalomethanes\n",
    "                'Turbidity'] # indicates Turbidity"
   ]
  },
  {
   "cell_type": "code",
   "execution_count": 26,
   "metadata": {},
   "outputs": [],
   "source": [
    "# define feature column data, list of features feature_list was created in the section above\n",
    "X = waternonan[feature_list].values\n",
    "\n",
    "# define label column\n",
    "y = waternonan['Potability'].values"
   ]
  },
  {
   "cell_type": "code",
   "execution_count": 27,
   "metadata": {},
   "outputs": [],
   "source": [
    "# make 75/25 train/test split, stratified because I have imbalanced label\n",
    "X_train, X_test, y_train, y_test = train_test_split(X, y, stratify=y, test_size=0.2, random_state=seed_choice)"
   ]
  },
  {
   "cell_type": "code",
   "execution_count": 28,
   "metadata": {
    "scrolled": true
   },
   "outputs": [
    {
     "name": "stdout",
     "output_type": "stream",
     "text": [
      "(1608, 9)\n",
      "(403, 9)\n",
      "(1608,)\n",
      "(403,)\n"
     ]
    }
   ],
   "source": [
    "# check size of data splits\n",
    "print(X_train.shape)\n",
    "print(X_test.shape)\n",
    "print(y_train.shape)\n",
    "print(y_test.shape)"
   ]
  },
  {
   "cell_type": "code",
   "execution_count": 29,
   "metadata": {},
   "outputs": [],
   "source": [
    "# Define scaler step of pipeline\n",
    "scaler = Normalizer()"
   ]
  },
  {
   "cell_type": "code",
   "execution_count": 30,
   "metadata": {},
   "outputs": [],
   "source": [
    "# Define machine learning models\n",
    "\n",
    "# Logistic Regression:\n",
    "lr = LogisticRegression(random_state=seed_choice)\n",
    "\n",
    "# K-nearest Neighbors:\n",
    "knn = KNeighborsClassifier(n_neighbors=5)\n",
    "\n",
    "# Naive Bayes:\n",
    "nb = GaussianNB()\n",
    "\n",
    "# Random Forest:\n",
    "rf = RandomForestClassifier(random_state=seed_choice, n_estimators=5, max_depth=10, min_samples_split=10, max_leaf_nodes=13)\n",
    "\n",
    "# Gradient Boosted Trees:\n",
    "gb = GradientBoostingClassifier()\n",
    "\n",
    "# select model to train:\n",
    "model_name = rf"
   ]
  },
  {
   "cell_type": "code",
   "execution_count": 31,
   "metadata": {},
   "outputs": [],
   "source": [
    "# define function to get model metrics\n",
    "def model_metrics(predictions, pipe):\n",
    "    \n",
    "    # print summary statistics\n",
    "    print('Training set score: ' + str(pipe.score(X_train,y_train)))\n",
    "    print('Test set score: ' + str(pipe.score(X_test,y_test)))\n",
    "    print(classification_report(y_test, predictions, digits=5))\n",
    "\n",
    "    # plot confusion matrix\n",
    "    cm = confusion_matrix(y_test, predictions, normalize='all')\n",
    "    print(cm)\n",
    "    disp_cm = ConfusionMatrixDisplay(confusion_matrix=cm, display_labels=pipe.classes_)\n",
    "    disp_cm.plot()"
   ]
  },
  {
   "cell_type": "code",
   "execution_count": 32,
   "metadata": {},
   "outputs": [
    {
     "name": "stdout",
     "output_type": "stream",
     "text": [
      "Training set score: 0.6616915422885572\n",
      "Test set score: 0.6203473945409429\n",
      "              precision    recall  f1-score   support\n",
      "\n",
      "           0    0.00000   0.00000   0.00000       240\n",
      "           1    0.40447   1.00000   0.57597       163\n",
      "\n",
      "    accuracy                        0.40447       403\n",
      "   macro avg    0.20223   0.50000   0.28799       403\n",
      "weighted avg    0.16359   0.40447   0.23296       403\n",
      "\n",
      "[1 1 1 1 1 1 1 1 1 1 1 1 1 1 1 1 1 1 1 1 1 1 1 1 1 1 1 1 1 1 1 1 1 1 1 1 1\n",
      " 1 1 1 1 1 1 1 1 1 1 1 1 1 1 1 1 1 1 1 1 1 1 1 1 1 1 1 1 1 1 1 1 1 1 1 1 1\n",
      " 1 1 1 1 1 1 1 1 1 1 1 1 1 1 1 1 1 1 1 1 1 1 1 1 1 1 1 1 1 1 1 1 1 1 1 1 1\n",
      " 1 1 1 1 1 1 1 1 1 1 1 1 1 1 1 1 1 1 1 1 1 1 1 1 1 1 1 1 1 1 1 1 1 1 1 1 1\n",
      " 1 1 1 1 1 1 1 1 1 1 1 1 1 1 1 1 1 1 1 1 1 1 1 1 1 1 1 1 1 1 1 1 1 1 1 1 1\n",
      " 1 1 1 1 1 1 1 1 1 1 1 1 1 1 1 1 1 1 1 1 1 1 1 1 1 1 1 1 1 1 1 1 1 1 1 1 1\n",
      " 1 1 1 1 1 1 1 1 1 1 1 1 1 1 1 1 1 1 1 1 1 1 1 1 1 1 1 1 1 1 1 1 1 1 1 1 1\n",
      " 1 1 1 1 1 1 1 1 1 1 1 1 1 1 1 1 1 1 1 1 1 1 1 1 1 1 1 1 1 1 1 1 1 1 1 1 1\n",
      " 1 1 1 1 1 1 1 1 1 1 1 1 1 1 1 1 1 1 1 1 1 1 1 1 1 1 1 1 1 1 1 1 1 1 1 1 1\n",
      " 1 1 1 1 1 1 1 1 1 1 1 1 1 1 1 1 1 1 1 1 1 1 1 1 1 1 1 1 1 1 1 1 1 1 1 1 1\n",
      " 1 1 1 1 1 1 1 1 1 1 1 1 1 1 1 1 1 1 1 1 1 1 1 1 1 1 1 1 1 1 1 1 1]\n",
      "[[0.        0.5955335]\n",
      " [0.        0.4044665]]\n"
     ]
    },
    {
     "name": "stderr",
     "output_type": "stream",
     "text": [
      "/Users/lachlan/opt/anaconda3/lib/python3.8/site-packages/sklearn/metrics/_classification.py:1471: UndefinedMetricWarning: Precision and F-score are ill-defined and being set to 0.0 in labels with no predicted samples. Use `zero_division` parameter to control this behavior.\n",
      "  _warn_prf(average, modifier, msg_start, len(result))\n",
      "/Users/lachlan/opt/anaconda3/lib/python3.8/site-packages/sklearn/metrics/_classification.py:1471: UndefinedMetricWarning: Precision and F-score are ill-defined and being set to 0.0 in labels with no predicted samples. Use `zero_division` parameter to control this behavior.\n",
      "  _warn_prf(average, modifier, msg_start, len(result))\n",
      "/Users/lachlan/opt/anaconda3/lib/python3.8/site-packages/sklearn/metrics/_classification.py:1471: UndefinedMetricWarning: Precision and F-score are ill-defined and being set to 0.0 in labels with no predicted samples. Use `zero_division` parameter to control this behavior.\n",
      "  _warn_prf(average, modifier, msg_start, len(result))\n"
     ]
    },
    {
     "data": {
      "text/plain": [
       "<sklearn.metrics._plot.confusion_matrix.ConfusionMatrixDisplay at 0x7ff41c826a60>"
      ]
     },
     "execution_count": 32,
     "metadata": {},
     "output_type": "execute_result"
    },
    {
     "data": {
      "image/png": "[encoded data removed]",
      "text/plain": [
       "<Figure size 432x288 with 2 Axes>"
      ]
     },
     "metadata": {
      "needs_background": "light"
     },
     "output_type": "display_data"
    }
   ],
   "source": [
    "# make pipeline steps\n",
    "pipe = make_pipeline(scaler,model_name)\n",
    "\n",
    "# fit data to model\n",
    "pipe.fit(X_train, y_train)\n",
    "\n",
    "# save predictions on test set\n",
    "predictions = model_name.predict(X_test)\n",
    "\n",
    "# print summary statistics\n",
    "print('Training set score: ' + str(pipe.score(X_train,y_train)))\n",
    "print('Test set score: ' + str(pipe.score(X_test,y_test)))\n",
    "print(classification_report(y_test, predictions, digits=5))\n",
    "print(predictions)\n",
    "\n",
    "# plot confusion matrix\n",
    "cm = confusion_matrix(y_test, predictions, normalize='all')\n",
    "print(cm)\n",
    "\n",
    "ConfusionMatrixDisplay(confusion_matrix=cm).plot()"
   ]
  },
  {
   "cell_type": "code",
   "execution_count": null,
   "metadata": {},
   "outputs": [],
   "source": []
  },
  {
   "cell_type": "code",
   "execution_count": null,
   "metadata": {},
   "outputs": [],
   "source": []
  },
  {
   "cell_type": "code",
   "execution_count": 33,
   "metadata": {},
   "outputs": [
    {
     "name": "stdout",
     "output_type": "stream",
     "text": [
      "training model:LogisticRegression(random_state=7)\n",
      "Training set score: 0.5970149253731343\n",
      "Test set score: 0.5955334987593052\n",
      "              precision    recall  f1-score   support\n",
      "\n",
      "           0    0.00000   0.00000   0.00000       240\n",
      "           1    0.40447   1.00000   0.57597       163\n",
      "\n",
      "    accuracy                        0.40447       403\n",
      "   macro avg    0.20223   0.50000   0.28799       403\n",
      "weighted avg    0.16359   0.40447   0.23296       403\n",
      "\n",
      "[[0.        0.5955335]\n",
      " [0.        0.4044665]]\n",
      "training model:KNeighborsClassifier()\n"
     ]
    },
    {
     "name": "stderr",
     "output_type": "stream",
     "text": [
      "/Users/lachlan/opt/anaconda3/lib/python3.8/site-packages/sklearn/metrics/_classification.py:1471: UndefinedMetricWarning: Precision and F-score are ill-defined and being set to 0.0 in labels with no predicted samples. Use `zero_division` parameter to control this behavior.\n",
      "  _warn_prf(average, modifier, msg_start, len(result))\n",
      "/Users/lachlan/opt/anaconda3/lib/python3.8/site-packages/sklearn/metrics/_classification.py:1471: UndefinedMetricWarning: Precision and F-score are ill-defined and being set to 0.0 in labels with no predicted samples. Use `zero_division` parameter to control this behavior.\n",
      "  _warn_prf(average, modifier, msg_start, len(result))\n",
      "/Users/lachlan/opt/anaconda3/lib/python3.8/site-packages/sklearn/metrics/_classification.py:1471: UndefinedMetricWarning: Precision and F-score are ill-defined and being set to 0.0 in labels with no predicted samples. Use `zero_division` parameter to control this behavior.\n",
      "  _warn_prf(average, modifier, msg_start, len(result))\n"
     ]
    },
    {
     "name": "stdout",
     "output_type": "stream",
     "text": [
      "Training set score: 0.6990049751243781\n",
      "Test set score: 0.5607940446650124\n",
      "              precision    recall  f1-score   support\n",
      "\n",
      "           0    0.60976   0.72917   0.66414       240\n",
      "           1    0.43966   0.31288   0.36559       163\n",
      "\n",
      "    accuracy                        0.56079       403\n",
      "   macro avg    0.52471   0.52103   0.51486       403\n",
      "weighted avg    0.54096   0.56079   0.54339       403\n",
      "\n",
      "[[0.43424318 0.16129032]\n",
      " [0.27791563 0.12655087]]\n",
      "training model:GaussianNB()\n",
      "Training set score: 0.4098258706467662\n",
      "Test set score: 0.4317617866004963\n",
      "              precision    recall  f1-score   support\n",
      "\n",
      "           0    0.59553   1.00000   0.74650       240\n",
      "           1    0.00000   0.00000   0.00000       163\n",
      "\n",
      "    accuracy                        0.59553       403\n",
      "   macro avg    0.29777   0.50000   0.37325       403\n",
      "weighted avg    0.35466   0.59553   0.44457       403\n",
      "\n",
      "[[0.5955335 0.       ]\n",
      " [0.4044665 0.       ]]\n"
     ]
    },
    {
     "name": "stderr",
     "output_type": "stream",
     "text": [
      "/Users/lachlan/opt/anaconda3/lib/python3.8/site-packages/sklearn/metrics/_classification.py:1471: UndefinedMetricWarning: Precision and F-score are ill-defined and being set to 0.0 in labels with no predicted samples. Use `zero_division` parameter to control this behavior.\n",
      "  _warn_prf(average, modifier, msg_start, len(result))\n",
      "/Users/lachlan/opt/anaconda3/lib/python3.8/site-packages/sklearn/metrics/_classification.py:1471: UndefinedMetricWarning: Precision and F-score are ill-defined and being set to 0.0 in labels with no predicted samples. Use `zero_division` parameter to control this behavior.\n",
      "  _warn_prf(average, modifier, msg_start, len(result))\n",
      "/Users/lachlan/opt/anaconda3/lib/python3.8/site-packages/sklearn/metrics/_classification.py:1471: UndefinedMetricWarning: Precision and F-score are ill-defined and being set to 0.0 in labels with no predicted samples. Use `zero_division` parameter to control this behavior.\n",
      "  _warn_prf(average, modifier, msg_start, len(result))\n",
      "/Users/lachlan/opt/anaconda3/lib/python3.8/site-packages/sklearn/metrics/_classification.py:1471: UndefinedMetricWarning: Precision and F-score are ill-defined and being set to 0.0 in labels with no predicted samples. Use `zero_division` parameter to control this behavior.\n",
      "  _warn_prf(average, modifier, msg_start, len(result))\n",
      "/Users/lachlan/opt/anaconda3/lib/python3.8/site-packages/sklearn/metrics/_classification.py:1471: UndefinedMetricWarning: Precision and F-score are ill-defined and being set to 0.0 in labels with no predicted samples. Use `zero_division` parameter to control this behavior.\n",
      "  _warn_prf(average, modifier, msg_start, len(result))\n",
      "/Users/lachlan/opt/anaconda3/lib/python3.8/site-packages/sklearn/metrics/_classification.py:1471: UndefinedMetricWarning: Precision and F-score are ill-defined and being set to 0.0 in labels with no predicted samples. Use `zero_division` parameter to control this behavior.\n",
      "  _warn_prf(average, modifier, msg_start, len(result))\n"
     ]
    },
    {
     "name": "stdout",
     "output_type": "stream",
     "text": [
      "training model:RandomForestClassifier(max_depth=10, max_leaf_nodes=13, min_samples_split=10,\n",
      "                       n_estimators=5, random_state=7)\n",
      "Training set score: 0.6616915422885572\n",
      "Test set score: 0.6203473945409429\n",
      "              precision    recall  f1-score   support\n",
      "\n",
      "           0    0.00000   0.00000   0.00000       240\n",
      "           1    0.40447   1.00000   0.57597       163\n",
      "\n",
      "    accuracy                        0.40447       403\n",
      "   macro avg    0.20223   0.50000   0.28799       403\n",
      "weighted avg    0.16359   0.40447   0.23296       403\n",
      "\n",
      "[[0.        0.5955335]\n",
      " [0.        0.4044665]]\n",
      "training model:GradientBoostingClassifier()\n",
      "Training set score: 0.7873134328358209\n",
      "Test set score: 0.630272952853598\n",
      "              precision    recall  f1-score   support\n",
      "\n",
      "           0    0.00000   0.00000   0.00000       240\n",
      "           1    0.40447   1.00000   0.57597       163\n",
      "\n",
      "    accuracy                        0.40447       403\n",
      "   macro avg    0.20223   0.50000   0.28799       403\n",
      "weighted avg    0.16359   0.40447   0.23296       403\n",
      "\n",
      "[[0.        0.5955335]\n",
      " [0.        0.4044665]]\n"
     ]
    },
    {
     "name": "stderr",
     "output_type": "stream",
     "text": [
      "/Users/lachlan/opt/anaconda3/lib/python3.8/site-packages/sklearn/metrics/_classification.py:1471: UndefinedMetricWarning: Precision and F-score are ill-defined and being set to 0.0 in labels with no predicted samples. Use `zero_division` parameter to control this behavior.\n",
      "  _warn_prf(average, modifier, msg_start, len(result))\n",
      "/Users/lachlan/opt/anaconda3/lib/python3.8/site-packages/sklearn/metrics/_classification.py:1471: UndefinedMetricWarning: Precision and F-score are ill-defined and being set to 0.0 in labels with no predicted samples. Use `zero_division` parameter to control this behavior.\n",
      "  _warn_prf(average, modifier, msg_start, len(result))\n",
      "/Users/lachlan/opt/anaconda3/lib/python3.8/site-packages/sklearn/metrics/_classification.py:1471: UndefinedMetricWarning: Precision and F-score are ill-defined and being set to 0.0 in labels with no predicted samples. Use `zero_division` parameter to control this behavior.\n",
      "  _warn_prf(average, modifier, msg_start, len(result))\n"
     ]
    },
    {
     "data": {
      "image/png": "[encoded data removed]",
      "text/plain": [
       "<Figure size 432x288 with 2 Axes>"
      ]
     },
     "metadata": {
      "needs_background": "light"
     },
     "output_type": "display_data"
    },
    {
     "data": {
      "image/png": "[encoded data removed]",
      "text/plain": [
       "<Figure size 432x288 with 2 Axes>"
      ]
     },
     "metadata": {
      "needs_background": "light"
     },
     "output_type": "display_data"
    },
    {
     "data": {
      "image/png": "[encoded data removed]",
      "text/plain": [
       "<Figure size 432x288 with 2 Axes>"
      ]
     },
     "metadata": {
      "needs_background": "light"
     },
     "output_type": "display_data"
    },
    {
     "data": {
      "image/png": "[encoded data removed]",
      "text/plain": [
       "<Figure size 432x288 with 2 Axes>"
      ]
     },
     "metadata": {
      "needs_background": "light"
     },
     "output_type": "display_data"
    },
    {
     "data": {
      "image/png": "[encoded data removed]",
      "text/plain": [
       "<Figure size 432x288 with 2 Axes>"
      ]
     },
     "metadata": {
      "needs_background": "light"
     },
     "output_type": "display_data"
    }
   ],
   "source": [
    "# create loop to test all models at once\n",
    "\n",
    "model_names = [lr, knn, nb, rf, gb]\n",
    "for name in model_names:\n",
    "    print('training model:' + str(name))\n",
    "    \n",
    "    # define model name\n",
    "    model_name = name\n",
    "    \n",
    "    # make pipeline steps\n",
    "    pipe = make_pipeline(scaler,model_name)\n",
    "\n",
    "    # fit data to model\n",
    "    pipe.fit(X_train, y_train)\n",
    "\n",
    "    # save predictions on test set\n",
    "    predictions = model_name.predict(X_test)\n",
    "\n",
    "    # print summary statistics\n",
    "    print('Training set score: ' + str(pipe.score(X_train,y_train)))\n",
    "    print('Test set score: ' + str(pipe.score(X_test,y_test)))\n",
    "    print(classification_report(y_test, predictions, digits=5))\n",
    "#for debugging\n",
    "#    print(predictions)\n",
    "\n",
    "    # plot confusion matrix\n",
    "    cm = confusion_matrix(y_test, predictions, normalize='all')\n",
    "    print(cm)\n",
    "    ConfusionMatrixDisplay(confusion_matrix=cm).plot()"
   ]
  },
  {
   "cell_type": "markdown",
   "metadata": {},
   "source": [
    "## Suggestions on how to improve predictions:\n",
    "1. probably overfitting\n",
    "2. tweak some parameters to see if it does stuff\n",
    "3. simplify models\n",
    "4. start analysing \n",
    "\n"
   ]
  },
  {
   "cell_type": "code",
   "execution_count": null,
   "metadata": {},
   "outputs": [],
   "source": []
  },
  {
   "cell_type": "code",
   "execution_count": 34,
   "metadata": {},
   "outputs": [],
   "source": [
    "# This is a function I pulled from \n",
    "# https://stackoverflow.com/questions/37161563/how-to-graph-grid-scores-from-gridsearchcv\n",
    "\n",
    "# For each hyperparamter it fixes all other parameters to their best values \n",
    "# and plots the average score for each value of the hyperparamter.\n",
    "\n",
    "\n",
    "def plot_search_results(grid):\n",
    "    \n",
    "    # Results from grid search\n",
    "    results = grid.cv_results_\n",
    "    means_test = results['mean_test_score']\n",
    "    stds_test = results['std_test_score']\n",
    "    means_train = results['mean_train_score']\n",
    "    stds_train = results['std_train_score']\n",
    "\n",
    "    # Getting indexes of values per hyper-parameter\n",
    "    masks=[]\n",
    "    masks_names= list(grid.best_params_.keys())\n",
    "    for p_k, p_v in grid.best_params_.items():\n",
    "        masks.append(list(results['param_'+p_k].data==p_v))\n",
    "\n",
    "    params=grid.param_grid\n",
    "\n",
    "    # Ploting results\n",
    "    fig, ax = plt.subplots(1,len(params),sharex='none', sharey='all',figsize=(20,5))\n",
    "    fig.suptitle('Score per parameter')\n",
    "    fig.text(0.04, 0.5, 'MEAN SCORE', va='center', rotation='vertical')\n",
    "    pram_preformace_in_best = {}\n",
    "    for i, p in enumerate(masks_names):\n",
    "        m = np.stack(masks[:i] + masks[i+1:])\n",
    "        pram_preformace_in_best\n",
    "        best_parms_mask = m.all(axis=0)\n",
    "        best_index = np.where(best_parms_mask)[0]\n",
    "        x = np.array(params[p])\n",
    "        y_1 = np.array(means_test[best_index])\n",
    "        e_1 = np.array(stds_test[best_index])\n",
    "        y_2 = np.array(means_train[best_index])\n",
    "        e_2 = np.array(stds_train[best_index])\n",
    "        ax[i].errorbar(x, y_1, e_1, linestyle='--', marker='o', label='test')\n",
    "        ax[i].errorbar(x, y_2, e_2, linestyle='-', marker='^',label='train' )\n",
    "        ax[i].set_xlabel(p.upper())\n",
    "\n",
    "    plt.legend()\n",
    "    plt.show()"
   ]
  },
  {
   "cell_type": "code",
   "execution_count": 35,
   "metadata": {},
   "outputs": [],
   "source": [
    "# define parameter search for each model\n",
    "\n",
    "# Logistic Regression:\n",
    "lr = LogisticRegression(random_state=seed_choice, solver='liblinear', max_iter=1000)\n",
    "\n",
    "lr_param_grid = {'logisticregression__penalty': ['l1', 'l2'],\n",
    "                 'logisticregression__C': [0.001, 0.01, 0.1, 1.0, 10, 25]\n",
    "                }\n",
    "\n",
    "# K-nearest Neighbors:\n",
    "knn = KNeighborsClassifier(n_neighbors=10)\n",
    "\n",
    "knn_param_grid = {'kneighborsclassifier__n_neighbors': [3, 5, 7, 9],\n",
    "                  'kneighborsclassifier__weights': ['uniform', 'distance'],\n",
    "                  'kneighborsclassifier__p': [1,2]\n",
    "                 }\n",
    "\n",
    "# Naive Bayes:\n",
    "nb = GaussianNB()\n",
    "# There are no meaningful paramters to tune for Naive Bayes model so we willl accept the default implementation.\n",
    "\n",
    "# Random Forest:\n",
    "rf = RandomForestClassifier(random_state=seed_choice, n_jobs=-1)\n",
    "\n",
    "rf_param_grid = {'randomforestclassifier__n_estimators': [5, 10, 25, 50, 100],\n",
    "                 'randomforestclassifier__criterion': ['gini', 'entropy', 'log_loss'],\n",
    "                 'randomforestclassifier__max_depth': [3, 5, 10, 16],\n",
    "                 'randomforestclassifier__max_features': ['sqrt', 'log2', 9],\n",
    "                 'randomforestclassifier__max_samples': [0.25, 0.5, 0.75, 1]\n",
    "                }\n",
    "\n",
    "# Gradient Boosted Trees:\n",
    "gb = GradientBoostingClassifier(random_state=seed_choice)\n",
    "\n",
    "gb_param_grid = {'gradientboostingclassifier__n_estimators': [10, 25, 50, 100],\n",
    "                 'gradientboostingclassifier__loss': ['log_loss', 'exponential'],\n",
    "                 'gradientboostingclassifier__learning_rate': [0.01, 0.1, 0.5, 1],\n",
    "                 'gradientboostingclassifier__subsample': [0.1, 0.5, 0.75, 1],\n",
    "                 'gradientboostingclassifier__max_depth': [3, 5, 10, 16],\n",
    "                 'gradientboostingclassifier__max_features': ['sqrt', 'log2', 9],\n",
    "                }"
   ]
  },
  {
   "cell_type": "code",
   "execution_count": 36,
   "metadata": {},
   "outputs": [],
   "source": [
    "# define workflow to perform grid search on a model \n",
    "#  and print the summary statistics for the best parameters \n",
    "#   and plot the results of the cross validation.\n",
    "def search_train_evaluate_plot(model_name, param_grid, scorer):\n",
    "    \n",
    "    # define pipeline\n",
    "    pipe = make_pipeline(scaler,model_name)\n",
    "\n",
    "    # define parameter search\n",
    "    grid_search = GridSearchCV(pipe, param_grid, cv=4, refit = True, verbose = 1, return_train_score=True, scoring=scorer, n_jobs=-1) \n",
    "\n",
    "    # train the model on grid search \n",
    "    grid_search.fit(X_train, y_train) \n",
    "\n",
    "    # print best parameters after tuning \n",
    "    print(grid_search.best_params_) \n",
    "    best_predictions = grid_search.predict(X_test) \n",
    "\n",
    "    # print summary of metrics for best parameters\n",
    "    model_metrics(best_predictions, grid_search)\n",
    "    \n",
    "    # plot results of grid search\n",
    "    plot_search_results(grid_search)\n",
    "\n"
   ]
  },
  {
   "cell_type": "code",
   "execution_count": 37,
   "metadata": {},
   "outputs": [
    {
     "name": "stdout",
     "output_type": "stream",
     "text": [
      "Fitting 4 folds for each of 16 candidates, totalling 64 fits\n",
      "{'kneighborsclassifier__n_neighbors': 7, 'kneighborsclassifier__p': 2, 'kneighborsclassifier__weights': 'uniform'}\n",
      "Training set score: 0.6871890547263682\n",
      "Test set score: 0.5235732009925558\n",
      "              precision    recall  f1-score   support\n",
      "\n",
      "           0    0.58108   0.71667   0.64179       240\n",
      "           1    0.36449   0.23926   0.28889       163\n",
      "\n",
      "    accuracy                        0.52357       403\n",
      "   macro avg    0.47278   0.47797   0.46534       403\n",
      "weighted avg    0.49348   0.52357   0.49905       403\n",
      "\n",
      "[[0.42679901 0.16873449]\n",
      " [0.30769231 0.09677419]]\n"
     ]
    },
    {
     "data": {
      "image/png": "[encoded data removed]",
      "text/plain": [
       "<Figure size 432x288 with 2 Axes>"
      ]
     },
     "metadata": {
      "needs_background": "light"
     },
     "output_type": "display_data"
    },
    {
     "data": {
      "image/png": "[encoded data removed]",
      "text/plain": [
       "<Figure size 1440x360 with 3 Axes>"
      ]
     },
     "metadata": {
      "needs_background": "light"
     },
     "output_type": "display_data"
    }
   ],
   "source": [
    "# define names for model\n",
    "model_name = knn\n",
    "param_grid = knn_param_grid\n",
    "scorer = make_scorer(accuracy_score)\n",
    "#scorer = make_scorer(recall_score)\n",
    "\n",
    "# run model workflow\n",
    "search_train_evaluate_plot(model_name, param_grid, scorer)"
   ]
  },
  {
   "cell_type": "code",
   "execution_count": 38,
   "metadata": {},
   "outputs": [],
   "source": [
    "# define workflow for training and printing model evaluation metrics\n",
    "def train_and_evaluate(scaler,model_name):\n",
    "    \n",
    "    # make pipeline steps\n",
    "    pipe = make_pipeline(scaler,model_name)\n",
    "\n",
    "    # fit data to model\n",
    "    pipe.fit(X_train, y_train)\n",
    "\n",
    "    # save predictions on test set\n",
    "    predictions = pipe.predict(X_test)\n",
    "\n",
    "    # display results and metrics\n",
    "    model_metrics(predictions, pipe)\n"
   ]
  },
  {
   "cell_type": "code",
   "execution_count": 39,
   "metadata": {},
   "outputs": [
    {
     "name": "stdout",
     "output_type": "stream",
     "text": [
      "training model:LogisticRegression(max_iter=1000, random_state=7, solver='liblinear')\n",
      "Fitting 4 folds for each of 12 candidates, totalling 48 fits\n",
      "{'logisticregression__C': 0.001, 'logisticregression__penalty': 'l1'}\n",
      "Training set score: 0.5970149253731343\n",
      "Test set score: 0.5955334987593052\n",
      "              precision    recall  f1-score   support\n",
      "\n",
      "           0    0.59553   1.00000   0.74650       240\n",
      "           1    0.00000   0.00000   0.00000       163\n",
      "\n",
      "    accuracy                        0.59553       403\n",
      "   macro avg    0.29777   0.50000   0.37325       403\n",
      "weighted avg    0.35466   0.59553   0.44457       403\n",
      "\n",
      "[[0.5955335 0.       ]\n",
      " [0.4044665 0.       ]]\n"
     ]
    },
    {
     "name": "stderr",
     "output_type": "stream",
     "text": [
      "/Users/lachlan/opt/anaconda3/lib/python3.8/site-packages/sklearn/metrics/_classification.py:1471: UndefinedMetricWarning: Precision and F-score are ill-defined and being set to 0.0 in labels with no predicted samples. Use `zero_division` parameter to control this behavior.\n",
      "  _warn_prf(average, modifier, msg_start, len(result))\n",
      "/Users/lachlan/opt/anaconda3/lib/python3.8/site-packages/sklearn/metrics/_classification.py:1471: UndefinedMetricWarning: Precision and F-score are ill-defined and being set to 0.0 in labels with no predicted samples. Use `zero_division` parameter to control this behavior.\n",
      "  _warn_prf(average, modifier, msg_start, len(result))\n",
      "/Users/lachlan/opt/anaconda3/lib/python3.8/site-packages/sklearn/metrics/_classification.py:1471: UndefinedMetricWarning: Precision and F-score are ill-defined and being set to 0.0 in labels with no predicted samples. Use `zero_division` parameter to control this behavior.\n",
      "  _warn_prf(average, modifier, msg_start, len(result))\n"
     ]
    },
    {
     "data": {
      "image/png": "[encoded data removed]",
      "text/plain": [
       "<Figure size 432x288 with 2 Axes>"
      ]
     },
     "metadata": {
      "needs_background": "light"
     },
     "output_type": "display_data"
    },
    {
     "data": {
      "image/png": "[encoded data removed]",
      "text/plain": [
       "<Figure size 1440x360 with 2 Axes>"
      ]
     },
     "metadata": {
      "needs_background": "light"
     },
     "output_type": "display_data"
    },
    {
     "name": "stdout",
     "output_type": "stream",
     "text": [
      "training model:KNeighborsClassifier(n_neighbors=10)\n",
      "Fitting 4 folds for each of 16 candidates, totalling 64 fits\n",
      "{'kneighborsclassifier__n_neighbors': 7, 'kneighborsclassifier__p': 2, 'kneighborsclassifier__weights': 'uniform'}\n",
      "Training set score: 0.6871890547263682\n",
      "Test set score: 0.5235732009925558\n",
      "              precision    recall  f1-score   support\n",
      "\n",
      "           0    0.58108   0.71667   0.64179       240\n",
      "           1    0.36449   0.23926   0.28889       163\n",
      "\n",
      "    accuracy                        0.52357       403\n",
      "   macro avg    0.47278   0.47797   0.46534       403\n",
      "weighted avg    0.49348   0.52357   0.49905       403\n",
      "\n",
      "[[0.42679901 0.16873449]\n",
      " [0.30769231 0.09677419]]\n"
     ]
    },
    {
     "data": {
      "image/png": "[encoded data removed]",
      "text/plain": [
       "<Figure size 432x288 with 2 Axes>"
      ]
     },
     "metadata": {
      "needs_background": "light"
     },
     "output_type": "display_data"
    },
    {
     "data": {
      "image/png": "[encoded data removed]",
      "text/plain": [
       "<Figure size 1440x360 with 3 Axes>"
      ]
     },
     "metadata": {
      "needs_background": "light"
     },
     "output_type": "display_data"
    },
    {
     "name": "stdout",
     "output_type": "stream",
     "text": [
      "training model:GaussianNB()\n",
      "Training set score: 0.4098258706467662\n",
      "Test set score: 0.4317617866004963\n",
      "              precision    recall  f1-score   support\n",
      "\n",
      "           0    0.78947   0.06250   0.11583       240\n",
      "           1    0.41406   0.97546   0.58135       163\n",
      "\n",
      "    accuracy                        0.43176       403\n",
      "   macro avg    0.60177   0.51898   0.34859       403\n",
      "weighted avg    0.63763   0.43176   0.30412       403\n",
      "\n",
      "[[0.03722084 0.55831266]\n",
      " [0.00992556 0.39454094]]\n",
      "training model:RandomForestClassifier(n_jobs=-1, random_state=7)\n",
      "Fitting 4 folds for each of 720 candidates, totalling 2880 fits\n",
      "{'randomforestclassifier__criterion': 'entropy', 'randomforestclassifier__max_depth': 16, 'randomforestclassifier__max_features': 9, 'randomforestclassifier__max_samples': 0.75, 'randomforestclassifier__n_estimators': 100}\n",
      "Training set score: 0.9900497512437811\n",
      "Test set score: 0.6550868486352357\n",
      "              precision    recall  f1-score   support\n",
      "\n",
      "           0    0.66667   0.84167   0.74401       240\n",
      "           1    0.62000   0.38037   0.47148       163\n",
      "\n",
      "    accuracy                        0.65509       403\n",
      "   macro avg    0.64333   0.61102   0.60775       403\n",
      "weighted avg    0.64779   0.65509   0.63378       403\n",
      "\n",
      "[[0.50124069 0.0942928 ]\n",
      " [0.25062035 0.15384615]]\n"
     ]
    },
    {
     "data": {
      "image/png": "[encoded data removed]",
      "text/plain": [
       "<Figure size 432x288 with 2 Axes>"
      ]
     },
     "metadata": {
      "needs_background": "light"
     },
     "output_type": "display_data"
    },
    {
     "data": {
      "image/png": "[encoded data removed]",
      "text/plain": [
       "<Figure size 432x288 with 2 Axes>"
      ]
     },
     "metadata": {
      "needs_background": "light"
     },
     "output_type": "display_data"
    },
    {
     "data": {
      "image/png": "[encoded data removed]",
      "text/plain": [
       "<Figure size 1440x360 with 5 Axes>"
      ]
     },
     "metadata": {
      "needs_background": "light"
     },
     "output_type": "display_data"
    },
    {
     "name": "stdout",
     "output_type": "stream",
     "text": [
      "training model:GradientBoostingClassifier(random_state=7)\n",
      "Fitting 4 folds for each of 1536 candidates, totalling 6144 fits\n",
      "{'gradientboostingclassifier__learning_rate': 0.1, 'gradientboostingclassifier__loss': 'log_loss', 'gradientboostingclassifier__max_depth': 10, 'gradientboostingclassifier__max_features': 'sqrt', 'gradientboostingclassifier__n_estimators': 25, 'gradientboostingclassifier__subsample': 1}\n",
      "Training set score: 0.9813432835820896\n",
      "Test set score: 0.6451612903225806\n",
      "              precision    recall  f1-score   support\n",
      "\n",
      "           0    0.65696   0.84583   0.73953       240\n",
      "           1    0.60638   0.34969   0.44358       163\n",
      "\n",
      "    accuracy                        0.64516       403\n",
      "   macro avg    0.63167   0.59776   0.59155       403\n",
      "weighted avg    0.63650   0.64516   0.61983       403\n",
      "\n",
      "[[0.50372208 0.09181141]\n",
      " [0.2630273  0.14143921]]\n"
     ]
    },
    {
     "data": {
      "image/png": "[encoded data removed]",
      "text/plain": [
       "<Figure size 432x288 with 2 Axes>"
      ]
     },
     "metadata": {
      "needs_background": "light"
     },
     "output_type": "display_data"
    },
    {
     "data": {
      "image/png": "[encoded data removed]",
      "text/plain": [
       "<Figure size 1440x360 with 6 Axes>"
      ]
     },
     "metadata": {
      "needs_background": "light"
     },
     "output_type": "display_data"
    }
   ],
   "source": [
    "# create loop to test all models at once\n",
    "\n",
    "scorer = make_scorer(accuracy_score)\n",
    "#scorer = make_scorer(recall_score)\n",
    "\n",
    "model_and_param_names = [[lr, lr_param_grid], [knn, knn_param_grid], [nb], [rf, rf_param_grid], [gb, gb_param_grid]]\n",
    "for name in model_and_param_names:\n",
    "    \n",
    "    if name[0] == nb:\n",
    "        \n",
    "        print('training model:' + str(name[0]))\n",
    "    \n",
    "        train_and_evaluate(scaler,name[0])\n",
    "    else:\n",
    "        print('training model:' + str(name[0]))\n",
    "\n",
    "        search_train_evaluate_plot(name[0], name[1], scorer)"
   ]
  },
  {
   "cell_type": "code",
   "execution_count": null,
   "metadata": {},
   "outputs": [],
   "source": []
  },
  {
   "cell_type": "code",
   "execution_count": null,
   "metadata": {},
   "outputs": [],
   "source": []
  },
  {
   "cell_type": "code",
   "execution_count": 40,
   "metadata": {},
   "outputs": [],
   "source": [
    "# define best parameters for each model type\n",
    "\n",
    "# Logistic Regression:\n",
    "best_lr = LogisticRegression(random_state=seed_choice, solver='liblinear', max_iter=1000, penalty='l1', C=10)\n",
    "\n",
    "# K-nearest Neighbors:\n",
    "best_knn = KNeighborsClassifier(n_neighbors=9, weights='uniform', p=2)\n",
    "\n",
    "# Naive Bayes:\n",
    "best_nb = GaussianNB()\n",
    "# There are no meaningful paramters to tune for Naive Bayes model so we willl accept the default implementation.\n",
    "\n",
    "# Random Forest:\n",
    "best_rf = RandomForestClassifier(random_state=seed_choice, criterion='gini', max_depth=5, max_features=9, max_samples=0.5, n_estimators=50)\n",
    "\n",
    "# Gradient Boosted Trees:\n",
    "best_gb = GradientBoostingClassifier(random_state=seed_choice, n_estimators=25, loss='log_loss', learning_rate=.1, subsample=0.75, max_depth=3, max_features=9)\n",
    "\n"
   ]
  },
  {
   "cell_type": "code",
   "execution_count": 71,
   "metadata": {},
   "outputs": [],
   "source": [
    "# define workflow to perform grid search over model types \n",
    "#  and print the summary statistics for the best model \n",
    "#   and plot the results of the cross validation.\n",
    "\n",
    "def model_search_train_evaluate_plot(scorer):\n",
    "    \n",
    "    # define model type parameters\n",
    "    param_grid = [{'classifier': [best_lr]},\n",
    "                  {'classifier': [best_knn]},\n",
    "                  {'classifier': [best_nb]},\n",
    "                  {'classifier': [best_rf]},\n",
    "                  {'classifier': [best_gb]}\n",
    "                 ]\n",
    "\n",
    "    pipe = Pipeline([('scaler', scaler),\n",
    "                     ('classifier', DummyClassifier())\n",
    "                    ])\n",
    "    \n",
    "    \n",
    "    \n",
    "    # define parameter search\n",
    "    grid_search = GridSearchCV(pipe, param_grid, cv=5, refit = True, verbose = 1, return_train_score=True, scoring=scorer, n_jobs=-1) \n",
    "\n",
    "    # train the model on grid search \n",
    "    grid_search.fit(X_train, y_train) \n",
    "\n",
    "    # print best parameters after tuning \n",
    "    print(grid_search.best_params_) \n",
    "    best_predictions = grid_search.predict(X_test) \n",
    "\n",
    "    # print summary of metrics for best parameters\n",
    "    #model_metrics(best_predictions, grid_search)\n",
    "    \n",
    "    # print score for each fit\n",
    "    print('mean test scores:' + str(grid_search.cv_results_['mean_test_score']))\n",
    "    print('mean train scores:' + str(grid_search.cv_results_['mean_train_score']))\n",
    "    x = np.arange(grid_search.cv_results_['mean_test_score'].shape[0])\n",
    "    plt.plot(x, grid_search.cv_results_['mean_test_score'], 'bo-')\n",
    "    plt.plot(x, grid_search.cv_results_['mean_train_score'], 'go-')\n",
    "    \n",
    "    plt.show()\n",
    "    "
   ]
  },
  {
   "cell_type": "code",
   "execution_count": 72,
   "metadata": {},
   "outputs": [
    {
     "name": "stdout",
     "output_type": "stream",
     "text": [
      "Fitting 5 folds for each of 5 candidates, totalling 25 fits\n",
      "{'classifier': GradientBoostingClassifier(max_features=9, n_estimators=25, random_state=7,\n",
      "                           subsample=0.75)}\n",
      "mean test scores:[0.59701631 0.57026567 0.44211993 0.6175461  0.61815948]\n",
      "mean train scores:[0.59701501 0.66573366 0.44575084 0.68874062 0.69200849]\n"
     ]
    },
    {
     "data": {
      "image/png": "[encoded data removed]",
      "text/plain": [
       "<Figure size 432x288 with 1 Axes>"
      ]
     },
     "metadata": {
      "needs_background": "light"
     },
     "output_type": "display_data"
    }
   ],
   "source": [
    "# choose scorer\n",
    "scorer = make_scorer(accuracy_score)\n",
    "#scorer = make_scorer(recall_score)\n",
    "\n",
    "# search over model types\n",
    "model_search_train_evaluate_plot(scorer)"
   ]
  },
  {
   "cell_type": "code",
   "execution_count": 46,
   "metadata": {},
   "outputs": [],
   "source": [
    "## Best model is gradient boosted trees. We now undergo further parameter tuning"
   ]
  },
  {
   "cell_type": "code",
   "execution_count": 97,
   "metadata": {},
   "outputs": [],
   "source": [
    "# define workflow to perform grid search over preproccesing steps \n",
    "#  and print the summary statistics for the best model \n",
    "#   and plot the results of the cross validation.\n",
    "\n",
    "def model_search_train_evaluate_plot(scorer):\n",
    "    \n",
    "    # define model type parameters\n",
    "    param_grid = [{'preprocessor__num__scaler': [MaxAbsScaler(),MinMaxScaler(),Normalizer(),PowerTransformer(),QuantileTransformer(),RobustScaler(),StandardScaler()]}]\n",
    "\n",
    "\n",
    "    # define pipeline steps\n",
    "    numeric_transformer = Pipeline(steps=[('scaler', scaler),('num_selector',SelectFpr(score_func=f_classif, alpha=0.05))])\n",
    "\n",
    "    categorical_transformer = Pipeline(steps=[('dummy',SimpleImputer())])\n",
    "    \n",
    "    preprocessor = ColumnTransformer(transformers=[(\"num\", numeric_transformer, feature_list),\n",
    "                    (\"cat\", categorical_transformer, cat_features)])\n",
    "    \n",
    "    pipe = Pipeline([('preprocessor', preprocessor),\n",
    "                     ('classifier', best_gb)\n",
    "                    ])\n",
    "    \n",
    "    # define parameter search\n",
    "    grid_search = GridSearchCV(pipe, param_grid, cv=4, refit = True, verbose = 1, return_train_score=True, scoring=scorer, error_score='raise', n_jobs=-1) \n",
    "\n",
    "    # train the model on grid search \n",
    "    grid_search.fit(X_train, y_train) \n",
    "\n",
    "    # print best parameters after tuning \n",
    "    print(grid_search.best_params_) \n",
    "    best_predictions = grid_search.predict(X_test) \n",
    "\n",
    "    # print summary of metrics for best parameters\n",
    "    #model_metrics(best_predictions, grid_search)\n",
    "    \n",
    "    # print score for each fit\n",
    "    print('mean test scores:' + str(grid_search.cv_results_['mean_test_score']))\n",
    "    print('mean train scores:' + str(grid_search.cv_results_['mean_train_score']))\n",
    "    x = np.arange(grid_search.cv_results_['mean_test_score'].shape[0])\n",
    "    plt.plot(x, grid_search.cv_results_['mean_test_score'], 'bo-')\n",
    "    plt.plot(x, grid_search.cv_results_['mean_train_score'], 'go-')\n",
    "\n",
    "    plt.show()"
   ]
  },
  {
   "cell_type": "code",
   "execution_count": 98,
   "metadata": {},
   "outputs": [
    {
     "name": "stdout",
     "output_type": "stream",
     "text": [
      "Fitting 4 folds for each of 7 candidates, totalling 28 fits\n"
     ]
    },
    {
     "ename": "ValueError",
     "evalue": "Specifying the columns using strings is only supported for pandas DataFrames",
     "output_type": "error",
     "traceback": [
      "\u001b[0;31m---------------------------------------------------------------------------\u001b[0m",
      "\u001b[0;31m_RemoteTraceback\u001b[0m                          Traceback (most recent call last)",
      "\u001b[0;31m_RemoteTraceback\u001b[0m: \n\"\"\"\nTraceback (most recent call last):\n  File \"/Users/lachlan/opt/anaconda3/lib/python3.8/site-packages/sklearn/utils/__init__.py\", line 423, in _get_column_indices\n    all_columns = X.columns\nAttributeError: 'numpy.ndarray' object has no attribute 'columns'\n\nDuring handling of the above exception, another exception occurred:\n\nTraceback (most recent call last):\n  File \"/Users/lachlan/opt/anaconda3/lib/python3.8/site-packages/joblib/externals/loky/process_executor.py\", line 463, in _process_worker\n    r = call_item()\n  File \"/Users/lachlan/opt/anaconda3/lib/python3.8/site-packages/joblib/externals/loky/process_executor.py\", line 291, in __call__\n    return self.fn(*self.args, **self.kwargs)\n  File \"/Users/lachlan/opt/anaconda3/lib/python3.8/site-packages/joblib/parallel.py\", line 589, in __call__\n    return [func(*args, **kwargs)\n  File \"/Users/lachlan/opt/anaconda3/lib/python3.8/site-packages/joblib/parallel.py\", line 589, in <listcomp>\n    return [func(*args, **kwargs)\n  File \"/Users/lachlan/opt/anaconda3/lib/python3.8/site-packages/sklearn/utils/parallel.py\", line 127, in __call__\n    return self.function(*args, **kwargs)\n  File \"/Users/lachlan/opt/anaconda3/lib/python3.8/site-packages/sklearn/model_selection/_validation.py\", line 729, in _fit_and_score\n    estimator.fit(X_train, y_train, **fit_params)\n  File \"/Users/lachlan/opt/anaconda3/lib/python3.8/site-packages/sklearn/base.py\", line 1152, in wrapper\n    return fit_method(estimator, *args, **kwargs)\n  File \"/Users/lachlan/opt/anaconda3/lib/python3.8/site-packages/sklearn/pipeline.py\", line 423, in fit\n    Xt = self._fit(X, y, **fit_params_steps)\n  File \"/Users/lachlan/opt/anaconda3/lib/python3.8/site-packages/sklearn/pipeline.py\", line 377, in _fit\n    X, fitted_transformer = fit_transform_one_cached(\n  File \"/Users/lachlan/opt/anaconda3/lib/python3.8/site-packages/joblib/memory.py\", line 353, in __call__\n    return self.func(*args, **kwargs)\n  File \"/Users/lachlan/opt/anaconda3/lib/python3.8/site-packages/sklearn/pipeline.py\", line 957, in _fit_transform_one\n    res = transformer.fit_transform(X, y, **fit_params)\n  File \"/Users/lachlan/opt/anaconda3/lib/python3.8/site-packages/sklearn/utils/_set_output.py\", line 157, in wrapped\n    data_to_wrap = f(self, X, *args, **kwargs)\n  File \"/Users/lachlan/opt/anaconda3/lib/python3.8/site-packages/sklearn/base.py\", line 1152, in wrapper\n    return fit_method(estimator, *args, **kwargs)\n  File \"/Users/lachlan/opt/anaconda3/lib/python3.8/site-packages/sklearn/compose/_column_transformer.py\", line 751, in fit_transform\n    self._validate_column_callables(X)\n  File \"/Users/lachlan/opt/anaconda3/lib/python3.8/site-packages/sklearn/compose/_column_transformer.py\", line 459, in _validate_column_callables\n    transformer_to_input_indices[name] = _get_column_indices(X, columns)\n  File \"/Users/lachlan/opt/anaconda3/lib/python3.8/site-packages/sklearn/utils/__init__.py\", line 425, in _get_column_indices\n    raise ValueError(\nValueError: Specifying the columns using strings is only supported for pandas DataFrames\n\"\"\"",
      "\nThe above exception was the direct cause of the following exception:\n",
      "\u001b[0;31mValueError\u001b[0m                                Traceback (most recent call last)",
      "\u001b[0;32m<ipython-input-98-7e2d33d76f6c>\u001b[0m in \u001b[0;36m<module>\u001b[0;34m\u001b[0m\n\u001b[1;32m      4\u001b[0m \u001b[0;34m\u001b[0m\u001b[0m\n\u001b[1;32m      5\u001b[0m \u001b[0;31m# search over scalers\u001b[0m\u001b[0;34m\u001b[0m\u001b[0;34m\u001b[0m\u001b[0;34m\u001b[0m\u001b[0m\n\u001b[0;32m----> 6\u001b[0;31m \u001b[0mmodel_search_train_evaluate_plot\u001b[0m\u001b[0;34m(\u001b[0m\u001b[0mscorer\u001b[0m\u001b[0;34m)\u001b[0m\u001b[0;34m\u001b[0m\u001b[0;34m\u001b[0m\u001b[0m\n\u001b[0m",
      "\u001b[0;32m<ipython-input-97-a2f8663d514e>\u001b[0m in \u001b[0;36mmodel_search_train_evaluate_plot\u001b[0;34m(scorer)\u001b[0m\n\u001b[1;32m     25\u001b[0m \u001b[0;34m\u001b[0m\u001b[0m\n\u001b[1;32m     26\u001b[0m     \u001b[0;31m# train the model on grid search\u001b[0m\u001b[0;34m\u001b[0m\u001b[0;34m\u001b[0m\u001b[0;34m\u001b[0m\u001b[0m\n\u001b[0;32m---> 27\u001b[0;31m     \u001b[0mgrid_search\u001b[0m\u001b[0;34m.\u001b[0m\u001b[0mfit\u001b[0m\u001b[0;34m(\u001b[0m\u001b[0mX_train\u001b[0m\u001b[0;34m,\u001b[0m \u001b[0my_train\u001b[0m\u001b[0;34m)\u001b[0m\u001b[0;34m\u001b[0m\u001b[0;34m\u001b[0m\u001b[0m\n\u001b[0m\u001b[1;32m     28\u001b[0m \u001b[0;34m\u001b[0m\u001b[0m\n\u001b[1;32m     29\u001b[0m     \u001b[0;31m# print best parameters after tuning\u001b[0m\u001b[0;34m\u001b[0m\u001b[0;34m\u001b[0m\u001b[0;34m\u001b[0m\u001b[0m\n",
      "\u001b[0;32m~/opt/anaconda3/lib/python3.8/site-packages/sklearn/base.py\u001b[0m in \u001b[0;36mwrapper\u001b[0;34m(estimator, *args, **kwargs)\u001b[0m\n\u001b[1;32m   1150\u001b[0m                 )\n\u001b[1;32m   1151\u001b[0m             ):\n\u001b[0;32m-> 1152\u001b[0;31m                 \u001b[0;32mreturn\u001b[0m \u001b[0mfit_method\u001b[0m\u001b[0;34m(\u001b[0m\u001b[0mestimator\u001b[0m\u001b[0;34m,\u001b[0m \u001b[0;34m*\u001b[0m\u001b[0margs\u001b[0m\u001b[0;34m,\u001b[0m \u001b[0;34m**\u001b[0m\u001b[0mkwargs\u001b[0m\u001b[0;34m)\u001b[0m\u001b[0;34m\u001b[0m\u001b[0;34m\u001b[0m\u001b[0m\n\u001b[0m\u001b[1;32m   1153\u001b[0m \u001b[0;34m\u001b[0m\u001b[0m\n\u001b[1;32m   1154\u001b[0m         \u001b[0;32mreturn\u001b[0m \u001b[0mwrapper\u001b[0m\u001b[0;34m\u001b[0m\u001b[0;34m\u001b[0m\u001b[0m\n",
      "\u001b[0;32m~/opt/anaconda3/lib/python3.8/site-packages/sklearn/model_selection/_search.py\u001b[0m in \u001b[0;36mfit\u001b[0;34m(self, X, y, groups, **fit_params)\u001b[0m\n\u001b[1;32m    896\u001b[0m                 \u001b[0;32mreturn\u001b[0m \u001b[0mresults\u001b[0m\u001b[0;34m\u001b[0m\u001b[0;34m\u001b[0m\u001b[0m\n\u001b[1;32m    897\u001b[0m \u001b[0;34m\u001b[0m\u001b[0m\n\u001b[0;32m--> 898\u001b[0;31m             \u001b[0mself\u001b[0m\u001b[0;34m.\u001b[0m\u001b[0m_run_search\u001b[0m\u001b[0;34m(\u001b[0m\u001b[0mevaluate_candidates\u001b[0m\u001b[0;34m)\u001b[0m\u001b[0;34m\u001b[0m\u001b[0;34m\u001b[0m\u001b[0m\n\u001b[0m\u001b[1;32m    899\u001b[0m \u001b[0;34m\u001b[0m\u001b[0m\n\u001b[1;32m    900\u001b[0m             \u001b[0;31m# multimetric is determined here because in the case of a callable\u001b[0m\u001b[0;34m\u001b[0m\u001b[0;34m\u001b[0m\u001b[0;34m\u001b[0m\u001b[0m\n",
      "\u001b[0;32m~/opt/anaconda3/lib/python3.8/site-packages/sklearn/model_selection/_search.py\u001b[0m in \u001b[0;36m_run_search\u001b[0;34m(self, evaluate_candidates)\u001b[0m\n\u001b[1;32m   1420\u001b[0m     \u001b[0;32mdef\u001b[0m \u001b[0m_run_search\u001b[0m\u001b[0;34m(\u001b[0m\u001b[0mself\u001b[0m\u001b[0;34m,\u001b[0m \u001b[0mevaluate_candidates\u001b[0m\u001b[0;34m)\u001b[0m\u001b[0;34m:\u001b[0m\u001b[0;34m\u001b[0m\u001b[0;34m\u001b[0m\u001b[0m\n\u001b[1;32m   1421\u001b[0m         \u001b[0;34m\"\"\"Search all candidates in param_grid\"\"\"\u001b[0m\u001b[0;34m\u001b[0m\u001b[0;34m\u001b[0m\u001b[0m\n\u001b[0;32m-> 1422\u001b[0;31m         \u001b[0mevaluate_candidates\u001b[0m\u001b[0;34m(\u001b[0m\u001b[0mParameterGrid\u001b[0m\u001b[0;34m(\u001b[0m\u001b[0mself\u001b[0m\u001b[0;34m.\u001b[0m\u001b[0mparam_grid\u001b[0m\u001b[0;34m)\u001b[0m\u001b[0;34m)\u001b[0m\u001b[0;34m\u001b[0m\u001b[0;34m\u001b[0m\u001b[0m\n\u001b[0m\u001b[1;32m   1423\u001b[0m \u001b[0;34m\u001b[0m\u001b[0m\n\u001b[1;32m   1424\u001b[0m \u001b[0;34m\u001b[0m\u001b[0m\n",
      "\u001b[0;32m~/opt/anaconda3/lib/python3.8/site-packages/sklearn/model_selection/_search.py\u001b[0m in \u001b[0;36mevaluate_candidates\u001b[0;34m(candidate_params, cv, more_results)\u001b[0m\n\u001b[1;32m    843\u001b[0m                     )\n\u001b[1;32m    844\u001b[0m \u001b[0;34m\u001b[0m\u001b[0m\n\u001b[0;32m--> 845\u001b[0;31m                 out = parallel(\n\u001b[0m\u001b[1;32m    846\u001b[0m                     delayed(_fit_and_score)(\n\u001b[1;32m    847\u001b[0m                         \u001b[0mclone\u001b[0m\u001b[0;34m(\u001b[0m\u001b[0mbase_estimator\u001b[0m\u001b[0;34m)\u001b[0m\u001b[0;34m,\u001b[0m\u001b[0;34m\u001b[0m\u001b[0;34m\u001b[0m\u001b[0m\n",
      "\u001b[0;32m~/opt/anaconda3/lib/python3.8/site-packages/sklearn/utils/parallel.py\u001b[0m in \u001b[0;36m__call__\u001b[0;34m(self, iterable)\u001b[0m\n\u001b[1;32m     63\u001b[0m             \u001b[0;32mfor\u001b[0m \u001b[0mdelayed_func\u001b[0m\u001b[0;34m,\u001b[0m \u001b[0margs\u001b[0m\u001b[0;34m,\u001b[0m \u001b[0mkwargs\u001b[0m \u001b[0;32min\u001b[0m \u001b[0miterable\u001b[0m\u001b[0;34m\u001b[0m\u001b[0;34m\u001b[0m\u001b[0m\n\u001b[1;32m     64\u001b[0m         )\n\u001b[0;32m---> 65\u001b[0;31m         \u001b[0;32mreturn\u001b[0m \u001b[0msuper\u001b[0m\u001b[0;34m(\u001b[0m\u001b[0;34m)\u001b[0m\u001b[0;34m.\u001b[0m\u001b[0m__call__\u001b[0m\u001b[0;34m(\u001b[0m\u001b[0miterable_with_config\u001b[0m\u001b[0;34m)\u001b[0m\u001b[0;34m\u001b[0m\u001b[0;34m\u001b[0m\u001b[0m\n\u001b[0m\u001b[1;32m     66\u001b[0m \u001b[0;34m\u001b[0m\u001b[0m\n\u001b[1;32m     67\u001b[0m \u001b[0;34m\u001b[0m\u001b[0m\n",
      "\u001b[0;32m~/opt/anaconda3/lib/python3.8/site-packages/joblib/parallel.py\u001b[0m in \u001b[0;36m__call__\u001b[0;34m(self, iterable)\u001b[0m\n\u001b[1;32m   1950\u001b[0m         \u001b[0mnext\u001b[0m\u001b[0;34m(\u001b[0m\u001b[0moutput\u001b[0m\u001b[0;34m)\u001b[0m\u001b[0;34m\u001b[0m\u001b[0;34m\u001b[0m\u001b[0m\n\u001b[1;32m   1951\u001b[0m \u001b[0;34m\u001b[0m\u001b[0m\n\u001b[0;32m-> 1952\u001b[0;31m         \u001b[0;32mreturn\u001b[0m \u001b[0moutput\u001b[0m \u001b[0;32mif\u001b[0m \u001b[0mself\u001b[0m\u001b[0;34m.\u001b[0m\u001b[0mreturn_generator\u001b[0m \u001b[0;32melse\u001b[0m \u001b[0mlist\u001b[0m\u001b[0;34m(\u001b[0m\u001b[0moutput\u001b[0m\u001b[0;34m)\u001b[0m\u001b[0;34m\u001b[0m\u001b[0;34m\u001b[0m\u001b[0m\n\u001b[0m\u001b[1;32m   1953\u001b[0m \u001b[0;34m\u001b[0m\u001b[0m\n\u001b[1;32m   1954\u001b[0m     \u001b[0;32mdef\u001b[0m \u001b[0m__repr__\u001b[0m\u001b[0;34m(\u001b[0m\u001b[0mself\u001b[0m\u001b[0;34m)\u001b[0m\u001b[0;34m:\u001b[0m\u001b[0;34m\u001b[0m\u001b[0;34m\u001b[0m\u001b[0m\n",
      "\u001b[0;32m~/opt/anaconda3/lib/python3.8/site-packages/joblib/parallel.py\u001b[0m in \u001b[0;36m_get_outputs\u001b[0;34m(self, iterator, pre_dispatch)\u001b[0m\n\u001b[1;32m   1593\u001b[0m \u001b[0;34m\u001b[0m\u001b[0m\n\u001b[1;32m   1594\u001b[0m             \u001b[0;32mwith\u001b[0m \u001b[0mself\u001b[0m\u001b[0;34m.\u001b[0m\u001b[0m_backend\u001b[0m\u001b[0;34m.\u001b[0m\u001b[0mretrieval_context\u001b[0m\u001b[0;34m(\u001b[0m\u001b[0;34m)\u001b[0m\u001b[0;34m:\u001b[0m\u001b[0;34m\u001b[0m\u001b[0;34m\u001b[0m\u001b[0m\n\u001b[0;32m-> 1595\u001b[0;31m                 \u001b[0;32myield\u001b[0m \u001b[0;32mfrom\u001b[0m \u001b[0mself\u001b[0m\u001b[0;34m.\u001b[0m\u001b[0m_retrieve\u001b[0m\u001b[0;34m(\u001b[0m\u001b[0;34m)\u001b[0m\u001b[0;34m\u001b[0m\u001b[0;34m\u001b[0m\u001b[0m\n\u001b[0m\u001b[1;32m   1596\u001b[0m \u001b[0;34m\u001b[0m\u001b[0m\n\u001b[1;32m   1597\u001b[0m         \u001b[0;32mexcept\u001b[0m \u001b[0mGeneratorExit\u001b[0m\u001b[0;34m:\u001b[0m\u001b[0;34m\u001b[0m\u001b[0;34m\u001b[0m\u001b[0m\n",
      "\u001b[0;32m~/opt/anaconda3/lib/python3.8/site-packages/joblib/parallel.py\u001b[0m in \u001b[0;36m_retrieve\u001b[0;34m(self)\u001b[0m\n\u001b[1;32m   1697\u001b[0m             \u001b[0;31m# worker traceback.\u001b[0m\u001b[0;34m\u001b[0m\u001b[0;34m\u001b[0m\u001b[0;34m\u001b[0m\u001b[0m\n\u001b[1;32m   1698\u001b[0m             \u001b[0;32mif\u001b[0m \u001b[0mself\u001b[0m\u001b[0;34m.\u001b[0m\u001b[0m_aborting\u001b[0m\u001b[0;34m:\u001b[0m\u001b[0;34m\u001b[0m\u001b[0;34m\u001b[0m\u001b[0m\n\u001b[0;32m-> 1699\u001b[0;31m                 \u001b[0mself\u001b[0m\u001b[0;34m.\u001b[0m\u001b[0m_raise_error_fast\u001b[0m\u001b[0;34m(\u001b[0m\u001b[0;34m)\u001b[0m\u001b[0;34m\u001b[0m\u001b[0;34m\u001b[0m\u001b[0m\n\u001b[0m\u001b[1;32m   1700\u001b[0m                 \u001b[0;32mbreak\u001b[0m\u001b[0;34m\u001b[0m\u001b[0;34m\u001b[0m\u001b[0m\n\u001b[1;32m   1701\u001b[0m \u001b[0;34m\u001b[0m\u001b[0m\n",
      "\u001b[0;32m~/opt/anaconda3/lib/python3.8/site-packages/joblib/parallel.py\u001b[0m in \u001b[0;36m_raise_error_fast\u001b[0;34m(self)\u001b[0m\n\u001b[1;32m   1732\u001b[0m         \u001b[0;31m# called directly or if the generator is gc'ed.\u001b[0m\u001b[0;34m\u001b[0m\u001b[0;34m\u001b[0m\u001b[0;34m\u001b[0m\u001b[0m\n\u001b[1;32m   1733\u001b[0m         \u001b[0;32mif\u001b[0m \u001b[0merror_job\u001b[0m \u001b[0;32mis\u001b[0m \u001b[0;32mnot\u001b[0m \u001b[0;32mNone\u001b[0m\u001b[0;34m:\u001b[0m\u001b[0;34m\u001b[0m\u001b[0;34m\u001b[0m\u001b[0m\n\u001b[0;32m-> 1734\u001b[0;31m             \u001b[0merror_job\u001b[0m\u001b[0;34m.\u001b[0m\u001b[0mget_result\u001b[0m\u001b[0;34m(\u001b[0m\u001b[0mself\u001b[0m\u001b[0;34m.\u001b[0m\u001b[0mtimeout\u001b[0m\u001b[0;34m)\u001b[0m\u001b[0;34m\u001b[0m\u001b[0;34m\u001b[0m\u001b[0m\n\u001b[0m\u001b[1;32m   1735\u001b[0m \u001b[0;34m\u001b[0m\u001b[0m\n\u001b[1;32m   1736\u001b[0m     \u001b[0;32mdef\u001b[0m \u001b[0m_warn_exit_early\u001b[0m\u001b[0;34m(\u001b[0m\u001b[0mself\u001b[0m\u001b[0;34m)\u001b[0m\u001b[0;34m:\u001b[0m\u001b[0;34m\u001b[0m\u001b[0;34m\u001b[0m\u001b[0m\n",
      "\u001b[0;32m~/opt/anaconda3/lib/python3.8/site-packages/joblib/parallel.py\u001b[0m in \u001b[0;36mget_result\u001b[0;34m(self, timeout)\u001b[0m\n\u001b[1;32m    734\u001b[0m             \u001b[0;31m# callback thread, and is stored internally. It's just waiting to\u001b[0m\u001b[0;34m\u001b[0m\u001b[0;34m\u001b[0m\u001b[0;34m\u001b[0m\u001b[0m\n\u001b[1;32m    735\u001b[0m             \u001b[0;31m# be returned.\u001b[0m\u001b[0;34m\u001b[0m\u001b[0;34m\u001b[0m\u001b[0;34m\u001b[0m\u001b[0m\n\u001b[0;32m--> 736\u001b[0;31m             \u001b[0;32mreturn\u001b[0m \u001b[0mself\u001b[0m\u001b[0;34m.\u001b[0m\u001b[0m_return_or_raise\u001b[0m\u001b[0;34m(\u001b[0m\u001b[0;34m)\u001b[0m\u001b[0;34m\u001b[0m\u001b[0;34m\u001b[0m\u001b[0m\n\u001b[0m\u001b[1;32m    737\u001b[0m \u001b[0;34m\u001b[0m\u001b[0m\n\u001b[1;32m    738\u001b[0m         \u001b[0;31m# For other backends, the main thread needs to run the retrieval step.\u001b[0m\u001b[0;34m\u001b[0m\u001b[0;34m\u001b[0m\u001b[0;34m\u001b[0m\u001b[0m\n",
      "\u001b[0;32m~/opt/anaconda3/lib/python3.8/site-packages/joblib/parallel.py\u001b[0m in \u001b[0;36m_return_or_raise\u001b[0;34m(self)\u001b[0m\n\u001b[1;32m    752\u001b[0m         \u001b[0;32mtry\u001b[0m\u001b[0;34m:\u001b[0m\u001b[0;34m\u001b[0m\u001b[0;34m\u001b[0m\u001b[0m\n\u001b[1;32m    753\u001b[0m             \u001b[0;32mif\u001b[0m \u001b[0mself\u001b[0m\u001b[0;34m.\u001b[0m\u001b[0mstatus\u001b[0m \u001b[0;34m==\u001b[0m \u001b[0mTASK_ERROR\u001b[0m\u001b[0;34m:\u001b[0m\u001b[0;34m\u001b[0m\u001b[0;34m\u001b[0m\u001b[0m\n\u001b[0;32m--> 754\u001b[0;31m                 \u001b[0;32mraise\u001b[0m \u001b[0mself\u001b[0m\u001b[0;34m.\u001b[0m\u001b[0m_result\u001b[0m\u001b[0;34m\u001b[0m\u001b[0;34m\u001b[0m\u001b[0m\n\u001b[0m\u001b[1;32m    755\u001b[0m             \u001b[0;32mreturn\u001b[0m \u001b[0mself\u001b[0m\u001b[0;34m.\u001b[0m\u001b[0m_result\u001b[0m\u001b[0;34m\u001b[0m\u001b[0;34m\u001b[0m\u001b[0m\n\u001b[1;32m    756\u001b[0m         \u001b[0;32mfinally\u001b[0m\u001b[0;34m:\u001b[0m\u001b[0;34m\u001b[0m\u001b[0;34m\u001b[0m\u001b[0m\n",
      "\u001b[0;31mValueError\u001b[0m: Specifying the columns using strings is only supported for pandas DataFrames"
     ]
    }
   ],
   "source": [
    "# choose score\n",
    "#scorer = make_scorer(accuracy_score)\n",
    "scorer = make_scorer(recall_score)\n",
    "\n",
    "# search over scalers\n",
    "model_search_train_evaluate_plot(scorer)"
   ]
  },
  {
   "cell_type": "code",
   "execution_count": 92,
   "metadata": {},
   "outputs": [
    {
     "name": "stdout",
     "output_type": "stream",
     "text": [
      "Fitting 5 folds for each of 7 candidates, totalling 35 fits\n"
     ]
    },
    {
     "ename": "IndexError",
     "evalue": "list index out of range",
     "output_type": "error",
     "traceback": [
      "\u001b[0;31m---------------------------------------------------------------------------\u001b[0m",
      "\u001b[0;31m_RemoteTraceback\u001b[0m                          Traceback (most recent call last)",
      "\u001b[0;31m_RemoteTraceback\u001b[0m: \n\"\"\"\nTraceback (most recent call last):\n  File \"/Users/lachlan/opt/anaconda3/lib/python3.8/site-packages/joblib/externals/loky/process_executor.py\", line 463, in _process_worker\n    r = call_item()\n  File \"/Users/lachlan/opt/anaconda3/lib/python3.8/site-packages/joblib/externals/loky/process_executor.py\", line 291, in __call__\n    return self.fn(*self.args, **self.kwargs)\n  File \"/Users/lachlan/opt/anaconda3/lib/python3.8/site-packages/joblib/parallel.py\", line 589, in __call__\n    return [func(*args, **kwargs)\n  File \"/Users/lachlan/opt/anaconda3/lib/python3.8/site-packages/joblib/parallel.py\", line 589, in <listcomp>\n    return [func(*args, **kwargs)\n  File \"/Users/lachlan/opt/anaconda3/lib/python3.8/site-packages/sklearn/utils/parallel.py\", line 127, in __call__\n    return self.function(*args, **kwargs)\n  File \"/Users/lachlan/opt/anaconda3/lib/python3.8/site-packages/sklearn/model_selection/_validation.py\", line 729, in _fit_and_score\n    estimator.fit(X_train, y_train, **fit_params)\n  File \"/Users/lachlan/opt/anaconda3/lib/python3.8/site-packages/sklearn/base.py\", line 1152, in wrapper\n    return fit_method(estimator, *args, **kwargs)\n  File \"/Users/lachlan/opt/anaconda3/lib/python3.8/site-packages/sklearn/pipeline.py\", line 423, in fit\n    Xt = self._fit(X, y, **fit_params_steps)\n  File \"/Users/lachlan/opt/anaconda3/lib/python3.8/site-packages/sklearn/pipeline.py\", line 377, in _fit\n    X, fitted_transformer = fit_transform_one_cached(\n  File \"/Users/lachlan/opt/anaconda3/lib/python3.8/site-packages/joblib/memory.py\", line 353, in __call__\n    return self.func(*args, **kwargs)\n  File \"/Users/lachlan/opt/anaconda3/lib/python3.8/site-packages/sklearn/pipeline.py\", line 957, in _fit_transform_one\n    res = transformer.fit_transform(X, y, **fit_params)\n  File \"/Users/lachlan/opt/anaconda3/lib/python3.8/site-packages/sklearn/utils/_set_output.py\", line 157, in wrapped\n    data_to_wrap = f(self, X, *args, **kwargs)\n  File \"/Users/lachlan/opt/anaconda3/lib/python3.8/site-packages/sklearn/base.py\", line 1152, in wrapper\n    return fit_method(estimator, *args, **kwargs)\n  File \"/Users/lachlan/opt/anaconda3/lib/python3.8/site-packages/sklearn/compose/_column_transformer.py\", line 750, in fit_transform\n    self._validate_transformers()\n  File \"/Users/lachlan/opt/anaconda3/lib/python3.8/site-packages/sklearn/compose/_column_transformer.py\", line 439, in _validate_transformers\n    if not (hasattr(t, \"fit\") or hasattr(t, \"fit_transform\")) or not hasattr(\n  File \"/Users/lachlan/opt/anaconda3/lib/python3.8/site-packages/sklearn/utils/_available_if.py\", line 31, in __get__\n    if not self.check(obj):\n  File \"/Users/lachlan/opt/anaconda3/lib/python3.8/site-packages/sklearn/pipeline.py\", line 667, in _can_transform\n    return self._final_estimator == \"passthrough\" or hasattr(\n  File \"/Users/lachlan/opt/anaconda3/lib/python3.8/site-packages/sklearn/pipeline.py\", line 321, in _final_estimator\n    estimator = self.steps[-1][1]\nIndexError: list index out of range\n\"\"\"",
      "\nThe above exception was the direct cause of the following exception:\n",
      "\u001b[0;31mIndexError\u001b[0m                                Traceback (most recent call last)",
      "\u001b[0;32m<ipython-input-92-7e2d33d76f6c>\u001b[0m in \u001b[0;36m<module>\u001b[0;34m\u001b[0m\n\u001b[1;32m      4\u001b[0m \u001b[0;34m\u001b[0m\u001b[0m\n\u001b[1;32m      5\u001b[0m \u001b[0;31m# search over scalers\u001b[0m\u001b[0;34m\u001b[0m\u001b[0;34m\u001b[0m\u001b[0;34m\u001b[0m\u001b[0m\n\u001b[0;32m----> 6\u001b[0;31m \u001b[0mmodel_search_train_evaluate_plot\u001b[0m\u001b[0;34m(\u001b[0m\u001b[0mscorer\u001b[0m\u001b[0;34m)\u001b[0m\u001b[0;34m\u001b[0m\u001b[0;34m\u001b[0m\u001b[0m\n\u001b[0m",
      "\u001b[0;32m<ipython-input-81-781cc527e0cf>\u001b[0m in \u001b[0;36mmodel_search_train_evaluate_plot\u001b[0;34m(scorer)\u001b[0m\n\u001b[1;32m     26\u001b[0m \u001b[0;34m\u001b[0m\u001b[0m\n\u001b[1;32m     27\u001b[0m     \u001b[0;31m# train the model on grid search\u001b[0m\u001b[0;34m\u001b[0m\u001b[0;34m\u001b[0m\u001b[0;34m\u001b[0m\u001b[0m\n\u001b[0;32m---> 28\u001b[0;31m     \u001b[0mgrid_search\u001b[0m\u001b[0;34m.\u001b[0m\u001b[0mfit\u001b[0m\u001b[0;34m(\u001b[0m\u001b[0mX_train\u001b[0m\u001b[0;34m,\u001b[0m \u001b[0my_train\u001b[0m\u001b[0;34m)\u001b[0m\u001b[0;34m\u001b[0m\u001b[0;34m\u001b[0m\u001b[0m\n\u001b[0m\u001b[1;32m     29\u001b[0m \u001b[0;34m\u001b[0m\u001b[0m\n\u001b[1;32m     30\u001b[0m     \u001b[0;31m# print best parameters after tuning\u001b[0m\u001b[0;34m\u001b[0m\u001b[0;34m\u001b[0m\u001b[0;34m\u001b[0m\u001b[0m\n",
      "\u001b[0;32m~/opt/anaconda3/lib/python3.8/site-packages/sklearn/base.py\u001b[0m in \u001b[0;36mwrapper\u001b[0;34m(estimator, *args, **kwargs)\u001b[0m\n\u001b[1;32m   1150\u001b[0m                 )\n\u001b[1;32m   1151\u001b[0m             ):\n\u001b[0;32m-> 1152\u001b[0;31m                 \u001b[0;32mreturn\u001b[0m \u001b[0mfit_method\u001b[0m\u001b[0;34m(\u001b[0m\u001b[0mestimator\u001b[0m\u001b[0;34m,\u001b[0m \u001b[0;34m*\u001b[0m\u001b[0margs\u001b[0m\u001b[0;34m,\u001b[0m \u001b[0;34m**\u001b[0m\u001b[0mkwargs\u001b[0m\u001b[0;34m)\u001b[0m\u001b[0;34m\u001b[0m\u001b[0;34m\u001b[0m\u001b[0m\n\u001b[0m\u001b[1;32m   1153\u001b[0m \u001b[0;34m\u001b[0m\u001b[0m\n\u001b[1;32m   1154\u001b[0m         \u001b[0;32mreturn\u001b[0m \u001b[0mwrapper\u001b[0m\u001b[0;34m\u001b[0m\u001b[0;34m\u001b[0m\u001b[0m\n",
      "\u001b[0;32m~/opt/anaconda3/lib/python3.8/site-packages/sklearn/model_selection/_search.py\u001b[0m in \u001b[0;36mfit\u001b[0;34m(self, X, y, groups, **fit_params)\u001b[0m\n\u001b[1;32m    896\u001b[0m                 \u001b[0;32mreturn\u001b[0m \u001b[0mresults\u001b[0m\u001b[0;34m\u001b[0m\u001b[0;34m\u001b[0m\u001b[0m\n\u001b[1;32m    897\u001b[0m \u001b[0;34m\u001b[0m\u001b[0m\n\u001b[0;32m--> 898\u001b[0;31m             \u001b[0mself\u001b[0m\u001b[0;34m.\u001b[0m\u001b[0m_run_search\u001b[0m\u001b[0;34m(\u001b[0m\u001b[0mevaluate_candidates\u001b[0m\u001b[0;34m)\u001b[0m\u001b[0;34m\u001b[0m\u001b[0;34m\u001b[0m\u001b[0m\n\u001b[0m\u001b[1;32m    899\u001b[0m \u001b[0;34m\u001b[0m\u001b[0m\n\u001b[1;32m    900\u001b[0m             \u001b[0;31m# multimetric is determined here because in the case of a callable\u001b[0m\u001b[0;34m\u001b[0m\u001b[0;34m\u001b[0m\u001b[0;34m\u001b[0m\u001b[0m\n",
      "\u001b[0;32m~/opt/anaconda3/lib/python3.8/site-packages/sklearn/model_selection/_search.py\u001b[0m in \u001b[0;36m_run_search\u001b[0;34m(self, evaluate_candidates)\u001b[0m\n\u001b[1;32m   1420\u001b[0m     \u001b[0;32mdef\u001b[0m \u001b[0m_run_search\u001b[0m\u001b[0;34m(\u001b[0m\u001b[0mself\u001b[0m\u001b[0;34m,\u001b[0m \u001b[0mevaluate_candidates\u001b[0m\u001b[0;34m)\u001b[0m\u001b[0;34m:\u001b[0m\u001b[0;34m\u001b[0m\u001b[0;34m\u001b[0m\u001b[0m\n\u001b[1;32m   1421\u001b[0m         \u001b[0;34m\"\"\"Search all candidates in param_grid\"\"\"\u001b[0m\u001b[0;34m\u001b[0m\u001b[0;34m\u001b[0m\u001b[0m\n\u001b[0;32m-> 1422\u001b[0;31m         \u001b[0mevaluate_candidates\u001b[0m\u001b[0;34m(\u001b[0m\u001b[0mParameterGrid\u001b[0m\u001b[0;34m(\u001b[0m\u001b[0mself\u001b[0m\u001b[0;34m.\u001b[0m\u001b[0mparam_grid\u001b[0m\u001b[0;34m)\u001b[0m\u001b[0;34m)\u001b[0m\u001b[0;34m\u001b[0m\u001b[0;34m\u001b[0m\u001b[0m\n\u001b[0m\u001b[1;32m   1423\u001b[0m \u001b[0;34m\u001b[0m\u001b[0m\n\u001b[1;32m   1424\u001b[0m \u001b[0;34m\u001b[0m\u001b[0m\n",
      "\u001b[0;32m~/opt/anaconda3/lib/python3.8/site-packages/sklearn/model_selection/_search.py\u001b[0m in \u001b[0;36mevaluate_candidates\u001b[0;34m(candidate_params, cv, more_results)\u001b[0m\n\u001b[1;32m    843\u001b[0m                     )\n\u001b[1;32m    844\u001b[0m \u001b[0;34m\u001b[0m\u001b[0m\n\u001b[0;32m--> 845\u001b[0;31m                 out = parallel(\n\u001b[0m\u001b[1;32m    846\u001b[0m                     delayed(_fit_and_score)(\n\u001b[1;32m    847\u001b[0m                         \u001b[0mclone\u001b[0m\u001b[0;34m(\u001b[0m\u001b[0mbase_estimator\u001b[0m\u001b[0;34m)\u001b[0m\u001b[0;34m,\u001b[0m\u001b[0;34m\u001b[0m\u001b[0;34m\u001b[0m\u001b[0m\n",
      "\u001b[0;32m~/opt/anaconda3/lib/python3.8/site-packages/sklearn/utils/parallel.py\u001b[0m in \u001b[0;36m__call__\u001b[0;34m(self, iterable)\u001b[0m\n\u001b[1;32m     63\u001b[0m             \u001b[0;32mfor\u001b[0m \u001b[0mdelayed_func\u001b[0m\u001b[0;34m,\u001b[0m \u001b[0margs\u001b[0m\u001b[0;34m,\u001b[0m \u001b[0mkwargs\u001b[0m \u001b[0;32min\u001b[0m \u001b[0miterable\u001b[0m\u001b[0;34m\u001b[0m\u001b[0;34m\u001b[0m\u001b[0m\n\u001b[1;32m     64\u001b[0m         )\n\u001b[0;32m---> 65\u001b[0;31m         \u001b[0;32mreturn\u001b[0m \u001b[0msuper\u001b[0m\u001b[0;34m(\u001b[0m\u001b[0;34m)\u001b[0m\u001b[0;34m.\u001b[0m\u001b[0m__call__\u001b[0m\u001b[0;34m(\u001b[0m\u001b[0miterable_with_config\u001b[0m\u001b[0;34m)\u001b[0m\u001b[0;34m\u001b[0m\u001b[0;34m\u001b[0m\u001b[0m\n\u001b[0m\u001b[1;32m     66\u001b[0m \u001b[0;34m\u001b[0m\u001b[0m\n\u001b[1;32m     67\u001b[0m \u001b[0;34m\u001b[0m\u001b[0m\n",
      "\u001b[0;32m~/opt/anaconda3/lib/python3.8/site-packages/joblib/parallel.py\u001b[0m in \u001b[0;36m__call__\u001b[0;34m(self, iterable)\u001b[0m\n\u001b[1;32m   1950\u001b[0m         \u001b[0mnext\u001b[0m\u001b[0;34m(\u001b[0m\u001b[0moutput\u001b[0m\u001b[0;34m)\u001b[0m\u001b[0;34m\u001b[0m\u001b[0;34m\u001b[0m\u001b[0m\n\u001b[1;32m   1951\u001b[0m \u001b[0;34m\u001b[0m\u001b[0m\n\u001b[0;32m-> 1952\u001b[0;31m         \u001b[0;32mreturn\u001b[0m \u001b[0moutput\u001b[0m \u001b[0;32mif\u001b[0m \u001b[0mself\u001b[0m\u001b[0;34m.\u001b[0m\u001b[0mreturn_generator\u001b[0m \u001b[0;32melse\u001b[0m \u001b[0mlist\u001b[0m\u001b[0;34m(\u001b[0m\u001b[0moutput\u001b[0m\u001b[0;34m)\u001b[0m\u001b[0;34m\u001b[0m\u001b[0;34m\u001b[0m\u001b[0m\n\u001b[0m\u001b[1;32m   1953\u001b[0m \u001b[0;34m\u001b[0m\u001b[0m\n\u001b[1;32m   1954\u001b[0m     \u001b[0;32mdef\u001b[0m \u001b[0m__repr__\u001b[0m\u001b[0;34m(\u001b[0m\u001b[0mself\u001b[0m\u001b[0;34m)\u001b[0m\u001b[0;34m:\u001b[0m\u001b[0;34m\u001b[0m\u001b[0;34m\u001b[0m\u001b[0m\n",
      "\u001b[0;32m~/opt/anaconda3/lib/python3.8/site-packages/joblib/parallel.py\u001b[0m in \u001b[0;36m_get_outputs\u001b[0;34m(self, iterator, pre_dispatch)\u001b[0m\n\u001b[1;32m   1593\u001b[0m \u001b[0;34m\u001b[0m\u001b[0m\n\u001b[1;32m   1594\u001b[0m             \u001b[0;32mwith\u001b[0m \u001b[0mself\u001b[0m\u001b[0;34m.\u001b[0m\u001b[0m_backend\u001b[0m\u001b[0;34m.\u001b[0m\u001b[0mretrieval_context\u001b[0m\u001b[0;34m(\u001b[0m\u001b[0;34m)\u001b[0m\u001b[0;34m:\u001b[0m\u001b[0;34m\u001b[0m\u001b[0;34m\u001b[0m\u001b[0m\n\u001b[0;32m-> 1595\u001b[0;31m                 \u001b[0;32myield\u001b[0m \u001b[0;32mfrom\u001b[0m \u001b[0mself\u001b[0m\u001b[0;34m.\u001b[0m\u001b[0m_retrieve\u001b[0m\u001b[0;34m(\u001b[0m\u001b[0;34m)\u001b[0m\u001b[0;34m\u001b[0m\u001b[0;34m\u001b[0m\u001b[0m\n\u001b[0m\u001b[1;32m   1596\u001b[0m \u001b[0;34m\u001b[0m\u001b[0m\n\u001b[1;32m   1597\u001b[0m         \u001b[0;32mexcept\u001b[0m \u001b[0mGeneratorExit\u001b[0m\u001b[0;34m:\u001b[0m\u001b[0;34m\u001b[0m\u001b[0;34m\u001b[0m\u001b[0m\n",
      "\u001b[0;32m~/opt/anaconda3/lib/python3.8/site-packages/joblib/parallel.py\u001b[0m in \u001b[0;36m_retrieve\u001b[0;34m(self)\u001b[0m\n\u001b[1;32m   1697\u001b[0m             \u001b[0;31m# worker traceback.\u001b[0m\u001b[0;34m\u001b[0m\u001b[0;34m\u001b[0m\u001b[0;34m\u001b[0m\u001b[0m\n\u001b[1;32m   1698\u001b[0m             \u001b[0;32mif\u001b[0m \u001b[0mself\u001b[0m\u001b[0;34m.\u001b[0m\u001b[0m_aborting\u001b[0m\u001b[0;34m:\u001b[0m\u001b[0;34m\u001b[0m\u001b[0;34m\u001b[0m\u001b[0m\n\u001b[0;32m-> 1699\u001b[0;31m                 \u001b[0mself\u001b[0m\u001b[0;34m.\u001b[0m\u001b[0m_raise_error_fast\u001b[0m\u001b[0;34m(\u001b[0m\u001b[0;34m)\u001b[0m\u001b[0;34m\u001b[0m\u001b[0;34m\u001b[0m\u001b[0m\n\u001b[0m\u001b[1;32m   1700\u001b[0m                 \u001b[0;32mbreak\u001b[0m\u001b[0;34m\u001b[0m\u001b[0;34m\u001b[0m\u001b[0m\n\u001b[1;32m   1701\u001b[0m \u001b[0;34m\u001b[0m\u001b[0m\n",
      "\u001b[0;32m~/opt/anaconda3/lib/python3.8/site-packages/joblib/parallel.py\u001b[0m in \u001b[0;36m_raise_error_fast\u001b[0;34m(self)\u001b[0m\n\u001b[1;32m   1732\u001b[0m         \u001b[0;31m# called directly or if the generator is gc'ed.\u001b[0m\u001b[0;34m\u001b[0m\u001b[0;34m\u001b[0m\u001b[0;34m\u001b[0m\u001b[0m\n\u001b[1;32m   1733\u001b[0m         \u001b[0;32mif\u001b[0m \u001b[0merror_job\u001b[0m \u001b[0;32mis\u001b[0m \u001b[0;32mnot\u001b[0m \u001b[0;32mNone\u001b[0m\u001b[0;34m:\u001b[0m\u001b[0;34m\u001b[0m\u001b[0;34m\u001b[0m\u001b[0m\n\u001b[0;32m-> 1734\u001b[0;31m             \u001b[0merror_job\u001b[0m\u001b[0;34m.\u001b[0m\u001b[0mget_result\u001b[0m\u001b[0;34m(\u001b[0m\u001b[0mself\u001b[0m\u001b[0;34m.\u001b[0m\u001b[0mtimeout\u001b[0m\u001b[0;34m)\u001b[0m\u001b[0;34m\u001b[0m\u001b[0;34m\u001b[0m\u001b[0m\n\u001b[0m\u001b[1;32m   1735\u001b[0m \u001b[0;34m\u001b[0m\u001b[0m\n\u001b[1;32m   1736\u001b[0m     \u001b[0;32mdef\u001b[0m \u001b[0m_warn_exit_early\u001b[0m\u001b[0;34m(\u001b[0m\u001b[0mself\u001b[0m\u001b[0;34m)\u001b[0m\u001b[0;34m:\u001b[0m\u001b[0;34m\u001b[0m\u001b[0;34m\u001b[0m\u001b[0m\n",
      "\u001b[0;32m~/opt/anaconda3/lib/python3.8/site-packages/joblib/parallel.py\u001b[0m in \u001b[0;36mget_result\u001b[0;34m(self, timeout)\u001b[0m\n\u001b[1;32m    734\u001b[0m             \u001b[0;31m# callback thread, and is stored internally. It's just waiting to\u001b[0m\u001b[0;34m\u001b[0m\u001b[0;34m\u001b[0m\u001b[0;34m\u001b[0m\u001b[0m\n\u001b[1;32m    735\u001b[0m             \u001b[0;31m# be returned.\u001b[0m\u001b[0;34m\u001b[0m\u001b[0;34m\u001b[0m\u001b[0;34m\u001b[0m\u001b[0m\n\u001b[0;32m--> 736\u001b[0;31m             \u001b[0;32mreturn\u001b[0m \u001b[0mself\u001b[0m\u001b[0;34m.\u001b[0m\u001b[0m_return_or_raise\u001b[0m\u001b[0;34m(\u001b[0m\u001b[0;34m)\u001b[0m\u001b[0;34m\u001b[0m\u001b[0;34m\u001b[0m\u001b[0m\n\u001b[0m\u001b[1;32m    737\u001b[0m \u001b[0;34m\u001b[0m\u001b[0m\n\u001b[1;32m    738\u001b[0m         \u001b[0;31m# For other backends, the main thread needs to run the retrieval step.\u001b[0m\u001b[0;34m\u001b[0m\u001b[0;34m\u001b[0m\u001b[0;34m\u001b[0m\u001b[0m\n",
      "\u001b[0;32m~/opt/anaconda3/lib/python3.8/site-packages/joblib/parallel.py\u001b[0m in \u001b[0;36m_return_or_raise\u001b[0;34m(self)\u001b[0m\n\u001b[1;32m    752\u001b[0m         \u001b[0;32mtry\u001b[0m\u001b[0;34m:\u001b[0m\u001b[0;34m\u001b[0m\u001b[0;34m\u001b[0m\u001b[0m\n\u001b[1;32m    753\u001b[0m             \u001b[0;32mif\u001b[0m \u001b[0mself\u001b[0m\u001b[0;34m.\u001b[0m\u001b[0mstatus\u001b[0m \u001b[0;34m==\u001b[0m \u001b[0mTASK_ERROR\u001b[0m\u001b[0;34m:\u001b[0m\u001b[0;34m\u001b[0m\u001b[0;34m\u001b[0m\u001b[0m\n\u001b[0;32m--> 754\u001b[0;31m                 \u001b[0;32mraise\u001b[0m \u001b[0mself\u001b[0m\u001b[0;34m.\u001b[0m\u001b[0m_result\u001b[0m\u001b[0;34m\u001b[0m\u001b[0;34m\u001b[0m\u001b[0m\n\u001b[0m\u001b[1;32m    755\u001b[0m             \u001b[0;32mreturn\u001b[0m \u001b[0mself\u001b[0m\u001b[0;34m.\u001b[0m\u001b[0m_result\u001b[0m\u001b[0;34m\u001b[0m\u001b[0;34m\u001b[0m\u001b[0m\n\u001b[1;32m    756\u001b[0m         \u001b[0;32mfinally\u001b[0m\u001b[0;34m:\u001b[0m\u001b[0;34m\u001b[0m\u001b[0;34m\u001b[0m\u001b[0m\n",
      "\u001b[0;31mIndexError\u001b[0m: list index out of range"
     ]
    }
   ],
   "source": []
  },
  {
   "cell_type": "code",
   "execution_count": null,
   "metadata": {},
   "outputs": [],
   "source": []
  },
  {
   "cell_type": "code",
   "execution_count": null,
   "metadata": {},
   "outputs": [],
   "source": []
  },
  {
   "cell_type": "code",
   "execution_count": null,
   "metadata": {},
   "outputs": [],
   "source": []
  },
  {
   "cell_type": "code",
   "execution_count": null,
   "metadata": {},
   "outputs": [],
   "source": []
  }
 ],
 "metadata": {
  "kernelspec": {
   "display_name": "Python 3",
   "language": "python",
   "name": "python3"
  },
  "language_info": {
   "codemirror_mode": {
    "name": "ipython",
    "version": 3
   },
   "file_extension": ".py",
   "mimetype": "text/x-python",
   "name": "python",
   "nbconvert_exporter": "python",
   "pygments_lexer": "ipython3",
   "version": "3.8.5"
  }
 },
 "nbformat": 4,
 "nbformat_minor": 4
}
