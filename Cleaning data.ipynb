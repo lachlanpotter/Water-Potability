{
 "cells": [
  {
   "cell_type": "code",
   "execution_count": 1,
   "metadata": {},
   "outputs": [
    {
     "name": "stdout",
     "output_type": "stream",
     "text": [
      "Collecting package metadata (current_repodata.json): / WARNING conda.models.version:get_matcher(538): Using .* with relational operator is superfluous and deprecated and will be removed in a future version of conda. Your spec was 1.7.1.*, but conda is ignoring the .* and treating it as 1.7.1\n",
      "done\n",
      "Solving environment: done\n",
      "\n",
      "\n",
      "==> WARNING: A newer version of conda exists. <==\n",
      "  current version: 4.14.0\n",
      "  latest version: 23.10.0\n",
      "\n",
      "Please update conda by running\n",
      "\n",
      "    $ conda update -n base -c conda-forge conda\n",
      "\n",
      "\n",
      "\n",
      "# All requested packages already installed.\n",
      "\n",
      "Retrieving notices: ...working... done\n",
      "\n",
      "Note: you may need to restart the kernel to use updated packages.\n"
     ]
    }
   ],
   "source": [
    "import pandas as pd\n",
    "%conda install -c conda-forge pandasql"
   ]
  },
  {
   "cell_type": "code",
   "execution_count": null,
   "metadata": {},
   "outputs": [],
   "source": []
  },
  {
   "cell_type": "code",
   "execution_count": 2,
   "metadata": {},
   "outputs": [],
   "source": [
    "import pandasql as psql\n",
    "import random as rand\n"
   ]
  },
  {
   "cell_type": "code",
   "execution_count": 3,
   "metadata": {},
   "outputs": [],
   "source": [
    "water = pd.read_csv('water_potability.csv')"
   ]
  },
  {
   "cell_type": "code",
   "execution_count": 4,
   "metadata": {},
   "outputs": [
    {
     "data": {
      "text/html": [
       "<div>\n",
       "<style scoped>\n",
       "    .dataframe tbody tr th:only-of-type {\n",
       "        vertical-align: middle;\n",
       "    }\n",
       "\n",
       "    .dataframe tbody tr th {\n",
       "        vertical-align: top;\n",
       "    }\n",
       "\n",
       "    .dataframe thead th {\n",
       "        text-align: right;\n",
       "    }\n",
       "</style>\n",
       "<table border=\"1\" class=\"dataframe\">\n",
       "  <thead>\n",
       "    <tr style=\"text-align: right;\">\n",
       "      <th></th>\n",
       "      <th>ph</th>\n",
       "      <th>Hardness</th>\n",
       "      <th>Solids</th>\n",
       "      <th>Chloramines</th>\n",
       "      <th>Sulfate</th>\n",
       "      <th>Conductivity</th>\n",
       "      <th>Organic_carbon</th>\n",
       "      <th>Trihalomethanes</th>\n",
       "      <th>Turbidity</th>\n",
       "      <th>Potability</th>\n",
       "    </tr>\n",
       "  </thead>\n",
       "  <tbody>\n",
       "    <tr>\n",
       "      <th>0</th>\n",
       "      <td>NaN</td>\n",
       "      <td>204.890455</td>\n",
       "      <td>20791.318981</td>\n",
       "      <td>7.300212</td>\n",
       "      <td>368.516441</td>\n",
       "      <td>564.308654</td>\n",
       "      <td>10.379783</td>\n",
       "      <td>86.990970</td>\n",
       "      <td>2.963135</td>\n",
       "      <td>0</td>\n",
       "    </tr>\n",
       "    <tr>\n",
       "      <th>1</th>\n",
       "      <td>3.716080</td>\n",
       "      <td>129.422921</td>\n",
       "      <td>18630.057858</td>\n",
       "      <td>6.635246</td>\n",
       "      <td>NaN</td>\n",
       "      <td>592.885359</td>\n",
       "      <td>15.180013</td>\n",
       "      <td>56.329076</td>\n",
       "      <td>4.500656</td>\n",
       "      <td>0</td>\n",
       "    </tr>\n",
       "    <tr>\n",
       "      <th>2</th>\n",
       "      <td>8.099124</td>\n",
       "      <td>224.236259</td>\n",
       "      <td>19909.541732</td>\n",
       "      <td>9.275884</td>\n",
       "      <td>NaN</td>\n",
       "      <td>418.606213</td>\n",
       "      <td>16.868637</td>\n",
       "      <td>66.420093</td>\n",
       "      <td>3.055934</td>\n",
       "      <td>0</td>\n",
       "    </tr>\n",
       "    <tr>\n",
       "      <th>3</th>\n",
       "      <td>8.316766</td>\n",
       "      <td>214.373394</td>\n",
       "      <td>22018.417441</td>\n",
       "      <td>8.059332</td>\n",
       "      <td>356.886136</td>\n",
       "      <td>363.266516</td>\n",
       "      <td>18.436524</td>\n",
       "      <td>100.341674</td>\n",
       "      <td>4.628771</td>\n",
       "      <td>0</td>\n",
       "    </tr>\n",
       "    <tr>\n",
       "      <th>4</th>\n",
       "      <td>9.092223</td>\n",
       "      <td>181.101509</td>\n",
       "      <td>17978.986339</td>\n",
       "      <td>6.546600</td>\n",
       "      <td>310.135738</td>\n",
       "      <td>398.410813</td>\n",
       "      <td>11.558279</td>\n",
       "      <td>31.997993</td>\n",
       "      <td>4.075075</td>\n",
       "      <td>0</td>\n",
       "    </tr>\n",
       "    <tr>\n",
       "      <th>...</th>\n",
       "      <td>...</td>\n",
       "      <td>...</td>\n",
       "      <td>...</td>\n",
       "      <td>...</td>\n",
       "      <td>...</td>\n",
       "      <td>...</td>\n",
       "      <td>...</td>\n",
       "      <td>...</td>\n",
       "      <td>...</td>\n",
       "      <td>...</td>\n",
       "    </tr>\n",
       "    <tr>\n",
       "      <th>3271</th>\n",
       "      <td>4.668102</td>\n",
       "      <td>193.681735</td>\n",
       "      <td>47580.991603</td>\n",
       "      <td>7.166639</td>\n",
       "      <td>359.948574</td>\n",
       "      <td>526.424171</td>\n",
       "      <td>13.894419</td>\n",
       "      <td>66.687695</td>\n",
       "      <td>4.435821</td>\n",
       "      <td>1</td>\n",
       "    </tr>\n",
       "    <tr>\n",
       "      <th>3272</th>\n",
       "      <td>7.808856</td>\n",
       "      <td>193.553212</td>\n",
       "      <td>17329.802160</td>\n",
       "      <td>8.061362</td>\n",
       "      <td>NaN</td>\n",
       "      <td>392.449580</td>\n",
       "      <td>19.903225</td>\n",
       "      <td>NaN</td>\n",
       "      <td>2.798243</td>\n",
       "      <td>1</td>\n",
       "    </tr>\n",
       "    <tr>\n",
       "      <th>3273</th>\n",
       "      <td>9.419510</td>\n",
       "      <td>175.762646</td>\n",
       "      <td>33155.578218</td>\n",
       "      <td>7.350233</td>\n",
       "      <td>NaN</td>\n",
       "      <td>432.044783</td>\n",
       "      <td>11.039070</td>\n",
       "      <td>69.845400</td>\n",
       "      <td>3.298875</td>\n",
       "      <td>1</td>\n",
       "    </tr>\n",
       "    <tr>\n",
       "      <th>3274</th>\n",
       "      <td>5.126763</td>\n",
       "      <td>230.603758</td>\n",
       "      <td>11983.869376</td>\n",
       "      <td>6.303357</td>\n",
       "      <td>NaN</td>\n",
       "      <td>402.883113</td>\n",
       "      <td>11.168946</td>\n",
       "      <td>77.488213</td>\n",
       "      <td>4.708658</td>\n",
       "      <td>1</td>\n",
       "    </tr>\n",
       "    <tr>\n",
       "      <th>3275</th>\n",
       "      <td>7.874671</td>\n",
       "      <td>195.102299</td>\n",
       "      <td>17404.177061</td>\n",
       "      <td>7.509306</td>\n",
       "      <td>NaN</td>\n",
       "      <td>327.459760</td>\n",
       "      <td>16.140368</td>\n",
       "      <td>78.698446</td>\n",
       "      <td>2.309149</td>\n",
       "      <td>1</td>\n",
       "    </tr>\n",
       "  </tbody>\n",
       "</table>\n",
       "<p>3276 rows × 10 columns</p>\n",
       "</div>"
      ],
      "text/plain": [
       "            ph    Hardness        Solids  Chloramines     Sulfate  \\\n",
       "0          NaN  204.890455  20791.318981     7.300212  368.516441   \n",
       "1     3.716080  129.422921  18630.057858     6.635246         NaN   \n",
       "2     8.099124  224.236259  19909.541732     9.275884         NaN   \n",
       "3     8.316766  214.373394  22018.417441     8.059332  356.886136   \n",
       "4     9.092223  181.101509  17978.986339     6.546600  310.135738   \n",
       "...        ...         ...           ...          ...         ...   \n",
       "3271  4.668102  193.681735  47580.991603     7.166639  359.948574   \n",
       "3272  7.808856  193.553212  17329.802160     8.061362         NaN   \n",
       "3273  9.419510  175.762646  33155.578218     7.350233         NaN   \n",
       "3274  5.126763  230.603758  11983.869376     6.303357         NaN   \n",
       "3275  7.874671  195.102299  17404.177061     7.509306         NaN   \n",
       "\n",
       "      Conductivity  Organic_carbon  Trihalomethanes  Turbidity  Potability  \n",
       "0       564.308654       10.379783        86.990970   2.963135           0  \n",
       "1       592.885359       15.180013        56.329076   4.500656           0  \n",
       "2       418.606213       16.868637        66.420093   3.055934           0  \n",
       "3       363.266516       18.436524       100.341674   4.628771           0  \n",
       "4       398.410813       11.558279        31.997993   4.075075           0  \n",
       "...            ...             ...              ...        ...         ...  \n",
       "3271    526.424171       13.894419        66.687695   4.435821           1  \n",
       "3272    392.449580       19.903225              NaN   2.798243           1  \n",
       "3273    432.044783       11.039070        69.845400   3.298875           1  \n",
       "3274    402.883113       11.168946        77.488213   4.708658           1  \n",
       "3275    327.459760       16.140368        78.698446   2.309149           1  \n",
       "\n",
       "[3276 rows x 10 columns]"
      ]
     },
     "execution_count": 4,
     "metadata": {},
     "output_type": "execute_result"
    }
   ],
   "source": [
    "water"
   ]
  },
  {
   "cell_type": "code",
   "execution_count": 5,
   "metadata": {},
   "outputs": [],
   "source": [
    "seed_choice = 7\n",
    "seed = rand.Random(7)\n",
    "\n",
    "#Removing the NaN values for water data (only NaN values were in ph, sulfate and trihalomethanes)\n",
    "waternonan = psql.sqldf('select * from water where ph is not null and Sulfate is not null and Trihalomethanes is not null')"
   ]
  },
  {
   "cell_type": "code",
   "execution_count": 6,
   "metadata": {},
   "outputs": [
    {
     "data": {
      "text/html": [
       "<div>\n",
       "<style scoped>\n",
       "    .dataframe tbody tr th:only-of-type {\n",
       "        vertical-align: middle;\n",
       "    }\n",
       "\n",
       "    .dataframe tbody tr th {\n",
       "        vertical-align: top;\n",
       "    }\n",
       "\n",
       "    .dataframe thead th {\n",
       "        text-align: right;\n",
       "    }\n",
       "</style>\n",
       "<table border=\"1\" class=\"dataframe\">\n",
       "  <thead>\n",
       "    <tr style=\"text-align: right;\">\n",
       "      <th></th>\n",
       "      <th>ph</th>\n",
       "      <th>Hardness</th>\n",
       "      <th>Solids</th>\n",
       "      <th>Chloramines</th>\n",
       "      <th>Sulfate</th>\n",
       "      <th>Conductivity</th>\n",
       "      <th>Organic_carbon</th>\n",
       "      <th>Trihalomethanes</th>\n",
       "      <th>Turbidity</th>\n",
       "      <th>Potability</th>\n",
       "    </tr>\n",
       "  </thead>\n",
       "  <tbody>\n",
       "    <tr>\n",
       "      <th>482</th>\n",
       "      <td>5.361212</td>\n",
       "      <td>171.315543</td>\n",
       "      <td>24709.728858</td>\n",
       "      <td>4.184891</td>\n",
       "      <td>366.814979</td>\n",
       "      <td>490.658747</td>\n",
       "      <td>15.122672</td>\n",
       "      <td>33.119613</td>\n",
       "      <td>1.812529</td>\n",
       "      <td>1</td>\n",
       "    </tr>\n",
       "    <tr>\n",
       "      <th>479</th>\n",
       "      <td>7.442536</td>\n",
       "      <td>180.859091</td>\n",
       "      <td>18223.027080</td>\n",
       "      <td>8.577250</td>\n",
       "      <td>405.320016</td>\n",
       "      <td>564.793485</td>\n",
       "      <td>14.768337</td>\n",
       "      <td>57.757554</td>\n",
       "      <td>2.191138</td>\n",
       "      <td>1</td>\n",
       "    </tr>\n",
       "    <tr>\n",
       "      <th>367</th>\n",
       "      <td>8.576740</td>\n",
       "      <td>221.150258</td>\n",
       "      <td>24897.286602</td>\n",
       "      <td>6.222626</td>\n",
       "      <td>341.809210</td>\n",
       "      <td>389.292785</td>\n",
       "      <td>15.952132</td>\n",
       "      <td>36.082583</td>\n",
       "      <td>3.916115</td>\n",
       "      <td>0</td>\n",
       "    </tr>\n",
       "    <tr>\n",
       "      <th>1277</th>\n",
       "      <td>5.903994</td>\n",
       "      <td>196.274726</td>\n",
       "      <td>19399.221972</td>\n",
       "      <td>7.641895</td>\n",
       "      <td>328.269272</td>\n",
       "      <td>324.045681</td>\n",
       "      <td>18.505372</td>\n",
       "      <td>77.157802</td>\n",
       "      <td>3.820021</td>\n",
       "      <td>0</td>\n",
       "    </tr>\n",
       "    <tr>\n",
       "      <th>491</th>\n",
       "      <td>8.900865</td>\n",
       "      <td>211.306812</td>\n",
       "      <td>9592.151333</td>\n",
       "      <td>8.863272</td>\n",
       "      <td>348.437820</td>\n",
       "      <td>333.775327</td>\n",
       "      <td>18.267951</td>\n",
       "      <td>68.333170</td>\n",
       "      <td>4.518751</td>\n",
       "      <td>1</td>\n",
       "    </tr>\n",
       "    <tr>\n",
       "      <th>...</th>\n",
       "      <td>...</td>\n",
       "      <td>...</td>\n",
       "      <td>...</td>\n",
       "      <td>...</td>\n",
       "      <td>...</td>\n",
       "      <td>...</td>\n",
       "      <td>...</td>\n",
       "      <td>...</td>\n",
       "      <td>...</td>\n",
       "      <td>...</td>\n",
       "    </tr>\n",
       "    <tr>\n",
       "      <th>52</th>\n",
       "      <td>6.953372</td>\n",
       "      <td>203.146547</td>\n",
       "      <td>11609.109055</td>\n",
       "      <td>5.495738</td>\n",
       "      <td>304.283193</td>\n",
       "      <td>551.143337</td>\n",
       "      <td>9.387781</td>\n",
       "      <td>55.958006</td>\n",
       "      <td>3.651866</td>\n",
       "      <td>0</td>\n",
       "    </tr>\n",
       "    <tr>\n",
       "      <th>534</th>\n",
       "      <td>4.692197</td>\n",
       "      <td>221.547773</td>\n",
       "      <td>24211.630770</td>\n",
       "      <td>9.363250</td>\n",
       "      <td>307.713996</td>\n",
       "      <td>406.551667</td>\n",
       "      <td>12.618252</td>\n",
       "      <td>60.003148</td>\n",
       "      <td>4.009006</td>\n",
       "      <td>0</td>\n",
       "    </tr>\n",
       "    <tr>\n",
       "      <th>901</th>\n",
       "      <td>6.846060</td>\n",
       "      <td>177.829127</td>\n",
       "      <td>16515.670391</td>\n",
       "      <td>6.147210</td>\n",
       "      <td>308.901696</td>\n",
       "      <td>542.997099</td>\n",
       "      <td>12.626474</td>\n",
       "      <td>60.900254</td>\n",
       "      <td>4.709374</td>\n",
       "      <td>0</td>\n",
       "    </tr>\n",
       "    <tr>\n",
       "      <th>1460</th>\n",
       "      <td>7.402653</td>\n",
       "      <td>182.999381</td>\n",
       "      <td>19259.193937</td>\n",
       "      <td>7.632370</td>\n",
       "      <td>295.931373</td>\n",
       "      <td>339.737304</td>\n",
       "      <td>10.494609</td>\n",
       "      <td>83.118742</td>\n",
       "      <td>6.226580</td>\n",
       "      <td>1</td>\n",
       "    </tr>\n",
       "    <tr>\n",
       "      <th>261</th>\n",
       "      <td>9.927024</td>\n",
       "      <td>208.490738</td>\n",
       "      <td>19666.992792</td>\n",
       "      <td>8.008618</td>\n",
       "      <td>340.237824</td>\n",
       "      <td>482.842435</td>\n",
       "      <td>11.360427</td>\n",
       "      <td>85.829113</td>\n",
       "      <td>4.051733</td>\n",
       "      <td>0</td>\n",
       "    </tr>\n",
       "  </tbody>\n",
       "</table>\n",
       "<p>2011 rows × 10 columns</p>\n",
       "</div>"
      ],
      "text/plain": [
       "            ph    Hardness        Solids  Chloramines     Sulfate  \\\n",
       "482   5.361212  171.315543  24709.728858     4.184891  366.814979   \n",
       "479   7.442536  180.859091  18223.027080     8.577250  405.320016   \n",
       "367   8.576740  221.150258  24897.286602     6.222626  341.809210   \n",
       "1277  5.903994  196.274726  19399.221972     7.641895  328.269272   \n",
       "491   8.900865  211.306812   9592.151333     8.863272  348.437820   \n",
       "...        ...         ...           ...          ...         ...   \n",
       "52    6.953372  203.146547  11609.109055     5.495738  304.283193   \n",
       "534   4.692197  221.547773  24211.630770     9.363250  307.713996   \n",
       "901   6.846060  177.829127  16515.670391     6.147210  308.901696   \n",
       "1460  7.402653  182.999381  19259.193937     7.632370  295.931373   \n",
       "261   9.927024  208.490738  19666.992792     8.008618  340.237824   \n",
       "\n",
       "      Conductivity  Organic_carbon  Trihalomethanes  Turbidity  Potability  \n",
       "482     490.658747       15.122672        33.119613   1.812529           1  \n",
       "479     564.793485       14.768337        57.757554   2.191138           1  \n",
       "367     389.292785       15.952132        36.082583   3.916115           0  \n",
       "1277    324.045681       18.505372        77.157802   3.820021           0  \n",
       "491     333.775327       18.267951        68.333170   4.518751           1  \n",
       "...            ...             ...              ...        ...         ...  \n",
       "52      551.143337        9.387781        55.958006   3.651866           0  \n",
       "534     406.551667       12.618252        60.003148   4.009006           0  \n",
       "901     542.997099       12.626474        60.900254   4.709374           0  \n",
       "1460    339.737304       10.494609        83.118742   6.226580           1  \n",
       "261     482.842435       11.360427        85.829113   4.051733           0  \n",
       "\n",
       "[2011 rows x 10 columns]"
      ]
     },
     "execution_count": 6,
     "metadata": {},
     "output_type": "execute_result"
    }
   ],
   "source": [
    "#shuffling data\n",
    "waternonan = waternonan.sample(frac=1)\n",
    "\n",
    "waternonan"
   ]
  },
  {
   "cell_type": "code",
   "execution_count": 7,
   "metadata": {},
   "outputs": [
    {
     "name": "stdout",
     "output_type": "stream",
     "text": [
      "0\n"
     ]
    }
   ],
   "source": [
    "#checking no NaN anywhere\n",
    "check_nan = waternonan['ph' or 'Trihalomethanes' or 'Hardness' or 'Solids' or 'Chloramines' or 'Sulfate' or 'Conductivity' or 'Organic_carbon' or 'Turbidity' or 'Potability'].isnull().sum()\n",
    "print(check_nan)"
   ]
  },
  {
   "cell_type": "code",
   "execution_count": 100,
   "metadata": {},
   "outputs": [],
   "source": [
    "#data visualisation\n",
    "import matplotlib.pyplot as plt\n",
    "import numpy as np"
   ]
  },
  {
   "cell_type": "code",
   "execution_count": 101,
   "metadata": {},
   "outputs": [],
   "source": [
    "#plt.hist(waternonan.ph)"
   ]
  },
  {
   "cell_type": "code",
   "execution_count": 102,
   "metadata": {},
   "outputs": [],
   "source": [
    "#plt.hist(waternonan.Trihalomethanes)\n"
   ]
  },
  {
   "cell_type": "code",
   "execution_count": 103,
   "metadata": {},
   "outputs": [],
   "source": [
    "#plt.hist(waternonan.Hardness)\n"
   ]
  },
  {
   "cell_type": "code",
   "execution_count": 104,
   "metadata": {},
   "outputs": [],
   "source": [
    "#plt.hist(waternonan.Solids)\n"
   ]
  },
  {
   "cell_type": "code",
   "execution_count": 105,
   "metadata": {},
   "outputs": [],
   "source": [
    "#plt.hist(waternonan.Chloramines)\n"
   ]
  },
  {
   "cell_type": "code",
   "execution_count": 106,
   "metadata": {},
   "outputs": [],
   "source": [
    "#plt.hist(waternonan.Sulfate)\n"
   ]
  },
  {
   "cell_type": "code",
   "execution_count": 107,
   "metadata": {},
   "outputs": [],
   "source": [
    "#plt.hist(waternonan.Conductivity)\n"
   ]
  },
  {
   "cell_type": "code",
   "execution_count": 108,
   "metadata": {},
   "outputs": [],
   "source": [
    "#plt.hist(waternonan.Organic_carbon)\n"
   ]
  },
  {
   "cell_type": "code",
   "execution_count": 109,
   "metadata": {},
   "outputs": [],
   "source": [
    "#plt.hist(waternonan.Turbidity)\n"
   ]
  },
  {
   "cell_type": "code",
   "execution_count": 110,
   "metadata": {},
   "outputs": [],
   "source": [
    "#plt.hist(waternonan.Potability)"
   ]
  },
  {
   "cell_type": "code",
   "execution_count": 111,
   "metadata": {},
   "outputs": [],
   "source": [
    "#corellation heat map\n",
    "import seaborn as sns"
   ]
  },
  {
   "cell_type": "code",
   "execution_count": 112,
   "metadata": {},
   "outputs": [
    {
     "data": {
      "text/plain": [
       "<AxesSubplot:>"
      ]
     },
     "execution_count": 112,
     "metadata": {},
     "output_type": "execute_result"
    },
    {
     "data": {
      "image/png": "[encoded data removed]",
      "text/plain": [
       "<Figure size 432x288 with 2 Axes>"
      ]
     },
     "metadata": {
      "needs_background": "light"
     },
     "output_type": "display_data"
    }
   ],
   "source": [
    "sns.heatmap(waternonan.corr())\n",
    "#Upshot: not many extraneous variables"
   ]
  },
  {
   "cell_type": "code",
   "execution_count": 113,
   "metadata": {},
   "outputs": [],
   "source": [
    "#Creating test-train split in data\n",
    "import random as rand\n"
   ]
  },
  {
   "cell_type": "code",
   "execution_count": 114,
   "metadata": {},
   "outputs": [
    {
     "data": {
      "text/html": [
       "<div>\n",
       "<style scoped>\n",
       "    .dataframe tbody tr th:only-of-type {\n",
       "        vertical-align: middle;\n",
       "    }\n",
       "\n",
       "    .dataframe tbody tr th {\n",
       "        vertical-align: top;\n",
       "    }\n",
       "\n",
       "    .dataframe thead th {\n",
       "        text-align: right;\n",
       "    }\n",
       "</style>\n",
       "<table border=\"1\" class=\"dataframe\">\n",
       "  <thead>\n",
       "    <tr style=\"text-align: right;\">\n",
       "      <th></th>\n",
       "      <th>ph</th>\n",
       "      <th>Hardness</th>\n",
       "      <th>Solids</th>\n",
       "      <th>Chloramines</th>\n",
       "      <th>Sulfate</th>\n",
       "      <th>Conductivity</th>\n",
       "      <th>Organic_carbon</th>\n",
       "      <th>Trihalomethanes</th>\n",
       "      <th>Turbidity</th>\n",
       "      <th>Potability</th>\n",
       "    </tr>\n",
       "  </thead>\n",
       "  <tbody>\n",
       "    <tr>\n",
       "      <th>1242</th>\n",
       "      <td>8.111953</td>\n",
       "      <td>217.266472</td>\n",
       "      <td>38184.469574</td>\n",
       "      <td>7.254122</td>\n",
       "      <td>311.910224</td>\n",
       "      <td>281.069203</td>\n",
       "      <td>13.027921</td>\n",
       "      <td>78.582094</td>\n",
       "      <td>4.430750</td>\n",
       "      <td>1</td>\n",
       "    </tr>\n",
       "    <tr>\n",
       "      <th>1237</th>\n",
       "      <td>8.813505</td>\n",
       "      <td>236.392817</td>\n",
       "      <td>40684.390014</td>\n",
       "      <td>6.608775</td>\n",
       "      <td>303.529818</td>\n",
       "      <td>278.355123</td>\n",
       "      <td>14.576057</td>\n",
       "      <td>72.872697</td>\n",
       "      <td>4.242460</td>\n",
       "      <td>1</td>\n",
       "    </tr>\n",
       "    <tr>\n",
       "      <th>1671</th>\n",
       "      <td>7.150046</td>\n",
       "      <td>238.798230</td>\n",
       "      <td>14708.474185</td>\n",
       "      <td>8.606774</td>\n",
       "      <td>450.914454</td>\n",
       "      <td>365.739122</td>\n",
       "      <td>14.966532</td>\n",
       "      <td>53.144979</td>\n",
       "      <td>2.633891</td>\n",
       "      <td>1</td>\n",
       "    </tr>\n",
       "    <tr>\n",
       "      <th>1112</th>\n",
       "      <td>6.513017</td>\n",
       "      <td>185.338540</td>\n",
       "      <td>26262.545482</td>\n",
       "      <td>6.742150</td>\n",
       "      <td>289.014348</td>\n",
       "      <td>410.101309</td>\n",
       "      <td>12.924653</td>\n",
       "      <td>83.652190</td>\n",
       "      <td>3.729961</td>\n",
       "      <td>0</td>\n",
       "    </tr>\n",
       "    <tr>\n",
       "      <th>894</th>\n",
       "      <td>8.034012</td>\n",
       "      <td>197.609392</td>\n",
       "      <td>25204.674082</td>\n",
       "      <td>6.501097</td>\n",
       "      <td>330.552173</td>\n",
       "      <td>490.821500</td>\n",
       "      <td>15.107289</td>\n",
       "      <td>89.800947</td>\n",
       "      <td>2.452121</td>\n",
       "      <td>0</td>\n",
       "    </tr>\n",
       "    <tr>\n",
       "      <th>...</th>\n",
       "      <td>...</td>\n",
       "      <td>...</td>\n",
       "      <td>...</td>\n",
       "      <td>...</td>\n",
       "      <td>...</td>\n",
       "      <td>...</td>\n",
       "      <td>...</td>\n",
       "      <td>...</td>\n",
       "      <td>...</td>\n",
       "      <td>...</td>\n",
       "    </tr>\n",
       "    <tr>\n",
       "      <th>1271</th>\n",
       "      <td>7.446089</td>\n",
       "      <td>179.146836</td>\n",
       "      <td>17763.310993</td>\n",
       "      <td>9.876515</td>\n",
       "      <td>328.459022</td>\n",
       "      <td>364.134173</td>\n",
       "      <td>12.982491</td>\n",
       "      <td>49.051241</td>\n",
       "      <td>2.948657</td>\n",
       "      <td>0</td>\n",
       "    </tr>\n",
       "    <tr>\n",
       "      <th>294</th>\n",
       "      <td>7.163999</td>\n",
       "      <td>203.781598</td>\n",
       "      <td>34226.072127</td>\n",
       "      <td>9.412035</td>\n",
       "      <td>320.258917</td>\n",
       "      <td>415.577513</td>\n",
       "      <td>16.221044</td>\n",
       "      <td>90.184208</td>\n",
       "      <td>3.354322</td>\n",
       "      <td>0</td>\n",
       "    </tr>\n",
       "    <tr>\n",
       "      <th>250</th>\n",
       "      <td>7.088941</td>\n",
       "      <td>206.364122</td>\n",
       "      <td>13839.713426</td>\n",
       "      <td>8.088242</td>\n",
       "      <td>321.296141</td>\n",
       "      <td>369.969333</td>\n",
       "      <td>14.896092</td>\n",
       "      <td>66.674658</td>\n",
       "      <td>5.661104</td>\n",
       "      <td>1</td>\n",
       "    </tr>\n",
       "    <tr>\n",
       "      <th>579</th>\n",
       "      <td>6.848805</td>\n",
       "      <td>204.812711</td>\n",
       "      <td>20555.559572</td>\n",
       "      <td>9.775004</td>\n",
       "      <td>387.686388</td>\n",
       "      <td>389.638228</td>\n",
       "      <td>12.298753</td>\n",
       "      <td>49.452046</td>\n",
       "      <td>3.130045</td>\n",
       "      <td>0</td>\n",
       "    </tr>\n",
       "    <tr>\n",
       "      <th>1247</th>\n",
       "      <td>7.338826</td>\n",
       "      <td>229.978694</td>\n",
       "      <td>12603.400371</td>\n",
       "      <td>5.975488</td>\n",
       "      <td>351.318826</td>\n",
       "      <td>370.860632</td>\n",
       "      <td>19.389337</td>\n",
       "      <td>79.971647</td>\n",
       "      <td>4.017061</td>\n",
       "      <td>1</td>\n",
       "    </tr>\n",
       "  </tbody>\n",
       "</table>\n",
       "<p>1609 rows × 10 columns</p>\n",
       "</div>"
      ],
      "text/plain": [
       "            ph    Hardness        Solids  Chloramines     Sulfate  \\\n",
       "1242  8.111953  217.266472  38184.469574     7.254122  311.910224   \n",
       "1237  8.813505  236.392817  40684.390014     6.608775  303.529818   \n",
       "1671  7.150046  238.798230  14708.474185     8.606774  450.914454   \n",
       "1112  6.513017  185.338540  26262.545482     6.742150  289.014348   \n",
       "894   8.034012  197.609392  25204.674082     6.501097  330.552173   \n",
       "...        ...         ...           ...          ...         ...   \n",
       "1271  7.446089  179.146836  17763.310993     9.876515  328.459022   \n",
       "294   7.163999  203.781598  34226.072127     9.412035  320.258917   \n",
       "250   7.088941  206.364122  13839.713426     8.088242  321.296141   \n",
       "579   6.848805  204.812711  20555.559572     9.775004  387.686388   \n",
       "1247  7.338826  229.978694  12603.400371     5.975488  351.318826   \n",
       "\n",
       "      Conductivity  Organic_carbon  Trihalomethanes  Turbidity  Potability  \n",
       "1242    281.069203       13.027921        78.582094   4.430750           1  \n",
       "1237    278.355123       14.576057        72.872697   4.242460           1  \n",
       "1671    365.739122       14.966532        53.144979   2.633891           1  \n",
       "1112    410.101309       12.924653        83.652190   3.729961           0  \n",
       "894     490.821500       15.107289        89.800947   2.452121           0  \n",
       "...            ...             ...              ...        ...         ...  \n",
       "1271    364.134173       12.982491        49.051241   2.948657           0  \n",
       "294     415.577513       16.221044        90.184208   3.354322           0  \n",
       "250     369.969333       14.896092        66.674658   5.661104           1  \n",
       "579     389.638228       12.298753        49.452046   3.130045           0  \n",
       "1247    370.860632       19.389337        79.971647   4.017061           1  \n",
       "\n",
       "[1609 rows x 10 columns]"
      ]
     },
     "execution_count": 114,
     "metadata": {},
     "output_type": "execute_result"
    }
   ],
   "source": [
    "# 80-20 split training data\n",
    "index_list = seed.sample(range(2010), 1609)\n",
    "train_set = waternonan.iloc[index_list]\n",
    "train_set"
   ]
  },
  {
   "cell_type": "code",
   "execution_count": 115,
   "metadata": {},
   "outputs": [
    {
     "data": {
      "text/html": [
       "<div>\n",
       "<style scoped>\n",
       "    .dataframe tbody tr th:only-of-type {\n",
       "        vertical-align: middle;\n",
       "    }\n",
       "\n",
       "    .dataframe tbody tr th {\n",
       "        vertical-align: top;\n",
       "    }\n",
       "\n",
       "    .dataframe thead th {\n",
       "        text-align: right;\n",
       "    }\n",
       "</style>\n",
       "<table border=\"1\" class=\"dataframe\">\n",
       "  <thead>\n",
       "    <tr style=\"text-align: right;\">\n",
       "      <th></th>\n",
       "      <th>ph</th>\n",
       "      <th>Hardness</th>\n",
       "      <th>Solids</th>\n",
       "      <th>Chloramines</th>\n",
       "      <th>Sulfate</th>\n",
       "      <th>Conductivity</th>\n",
       "      <th>Organic_carbon</th>\n",
       "      <th>Trihalomethanes</th>\n",
       "      <th>Turbidity</th>\n",
       "      <th>Potability</th>\n",
       "    </tr>\n",
       "  </thead>\n",
       "  <tbody>\n",
       "    <tr>\n",
       "      <th>1710</th>\n",
       "      <td>7.266781</td>\n",
       "      <td>178.257710</td>\n",
       "      <td>27468.681707</td>\n",
       "      <td>6.043959</td>\n",
       "      <td>314.390628</td>\n",
       "      <td>400.624987</td>\n",
       "      <td>13.665328</td>\n",
       "      <td>87.131873</td>\n",
       "      <td>3.919827</td>\n",
       "      <td>1</td>\n",
       "    </tr>\n",
       "    <tr>\n",
       "      <th>1415</th>\n",
       "      <td>6.791993</td>\n",
       "      <td>210.407967</td>\n",
       "      <td>30471.929098</td>\n",
       "      <td>6.614438</td>\n",
       "      <td>326.585846</td>\n",
       "      <td>493.179417</td>\n",
       "      <td>19.985555</td>\n",
       "      <td>61.120143</td>\n",
       "      <td>2.914057</td>\n",
       "      <td>1</td>\n",
       "    </tr>\n",
       "    <tr>\n",
       "      <th>218</th>\n",
       "      <td>8.848586</td>\n",
       "      <td>188.919983</td>\n",
       "      <td>32033.332019</td>\n",
       "      <td>13.127000</td>\n",
       "      <td>182.397370</td>\n",
       "      <td>479.791975</td>\n",
       "      <td>12.070444</td>\n",
       "      <td>77.671337</td>\n",
       "      <td>4.014682</td>\n",
       "      <td>1</td>\n",
       "    </tr>\n",
       "    <tr>\n",
       "      <th>1259</th>\n",
       "      <td>7.128062</td>\n",
       "      <td>191.400821</td>\n",
       "      <td>25227.545153</td>\n",
       "      <td>6.607844</td>\n",
       "      <td>319.250859</td>\n",
       "      <td>419.304980</td>\n",
       "      <td>12.865366</td>\n",
       "      <td>78.468491</td>\n",
       "      <td>4.510595</td>\n",
       "      <td>1</td>\n",
       "    </tr>\n",
       "    <tr>\n",
       "      <th>104</th>\n",
       "      <td>4.430281</td>\n",
       "      <td>139.685759</td>\n",
       "      <td>28862.257170</td>\n",
       "      <td>8.961372</td>\n",
       "      <td>298.379458</td>\n",
       "      <td>434.781267</td>\n",
       "      <td>17.299294</td>\n",
       "      <td>63.042501</td>\n",
       "      <td>4.384565</td>\n",
       "      <td>0</td>\n",
       "    </tr>\n",
       "    <tr>\n",
       "      <th>...</th>\n",
       "      <td>...</td>\n",
       "      <td>...</td>\n",
       "      <td>...</td>\n",
       "      <td>...</td>\n",
       "      <td>...</td>\n",
       "      <td>...</td>\n",
       "      <td>...</td>\n",
       "      <td>...</td>\n",
       "      <td>...</td>\n",
       "      <td>...</td>\n",
       "    </tr>\n",
       "    <tr>\n",
       "      <th>432</th>\n",
       "      <td>6.144759</td>\n",
       "      <td>210.979747</td>\n",
       "      <td>19981.315188</td>\n",
       "      <td>9.203614</td>\n",
       "      <td>271.097104</td>\n",
       "      <td>332.598126</td>\n",
       "      <td>17.187963</td>\n",
       "      <td>79.634242</td>\n",
       "      <td>3.082080</td>\n",
       "      <td>1</td>\n",
       "    </tr>\n",
       "    <tr>\n",
       "      <th>1226</th>\n",
       "      <td>7.657542</td>\n",
       "      <td>230.820008</td>\n",
       "      <td>35056.232234</td>\n",
       "      <td>7.656807</td>\n",
       "      <td>364.130141</td>\n",
       "      <td>305.629409</td>\n",
       "      <td>18.481396</td>\n",
       "      <td>72.205075</td>\n",
       "      <td>4.792527</td>\n",
       "      <td>1</td>\n",
       "    </tr>\n",
       "    <tr>\n",
       "      <th>776</th>\n",
       "      <td>7.482791</td>\n",
       "      <td>186.093432</td>\n",
       "      <td>19621.325105</td>\n",
       "      <td>8.171865</td>\n",
       "      <td>369.190878</td>\n",
       "      <td>475.211460</td>\n",
       "      <td>12.127254</td>\n",
       "      <td>105.165799</td>\n",
       "      <td>4.094746</td>\n",
       "      <td>0</td>\n",
       "    </tr>\n",
       "    <tr>\n",
       "      <th>1384</th>\n",
       "      <td>7.855906</td>\n",
       "      <td>209.751802</td>\n",
       "      <td>19850.182892</td>\n",
       "      <td>8.038872</td>\n",
       "      <td>300.292954</td>\n",
       "      <td>368.437561</td>\n",
       "      <td>18.525207</td>\n",
       "      <td>57.238874</td>\n",
       "      <td>4.151890</td>\n",
       "      <td>0</td>\n",
       "    </tr>\n",
       "    <tr>\n",
       "      <th>261</th>\n",
       "      <td>9.927024</td>\n",
       "      <td>208.490738</td>\n",
       "      <td>19666.992792</td>\n",
       "      <td>8.008618</td>\n",
       "      <td>340.237824</td>\n",
       "      <td>482.842435</td>\n",
       "      <td>11.360427</td>\n",
       "      <td>85.829113</td>\n",
       "      <td>4.051733</td>\n",
       "      <td>0</td>\n",
       "    </tr>\n",
       "  </tbody>\n",
       "</table>\n",
       "<p>402 rows × 10 columns</p>\n",
       "</div>"
      ],
      "text/plain": [
       "            ph    Hardness        Solids  Chloramines     Sulfate  \\\n",
       "1710  7.266781  178.257710  27468.681707     6.043959  314.390628   \n",
       "1415  6.791993  210.407967  30471.929098     6.614438  326.585846   \n",
       "218   8.848586  188.919983  32033.332019    13.127000  182.397370   \n",
       "1259  7.128062  191.400821  25227.545153     6.607844  319.250859   \n",
       "104   4.430281  139.685759  28862.257170     8.961372  298.379458   \n",
       "...        ...         ...           ...          ...         ...   \n",
       "432   6.144759  210.979747  19981.315188     9.203614  271.097104   \n",
       "1226  7.657542  230.820008  35056.232234     7.656807  364.130141   \n",
       "776   7.482791  186.093432  19621.325105     8.171865  369.190878   \n",
       "1384  7.855906  209.751802  19850.182892     8.038872  300.292954   \n",
       "261   9.927024  208.490738  19666.992792     8.008618  340.237824   \n",
       "\n",
       "      Conductivity  Organic_carbon  Trihalomethanes  Turbidity  Potability  \n",
       "1710    400.624987       13.665328        87.131873   3.919827           1  \n",
       "1415    493.179417       19.985555        61.120143   2.914057           1  \n",
       "218     479.791975       12.070444        77.671337   4.014682           1  \n",
       "1259    419.304980       12.865366        78.468491   4.510595           1  \n",
       "104     434.781267       17.299294        63.042501   4.384565           0  \n",
       "...            ...             ...              ...        ...         ...  \n",
       "432     332.598126       17.187963        79.634242   3.082080           1  \n",
       "1226    305.629409       18.481396        72.205075   4.792527           1  \n",
       "776     475.211460       12.127254       105.165799   4.094746           0  \n",
       "1384    368.437561       18.525207        57.238874   4.151890           0  \n",
       "261     482.842435       11.360427        85.829113   4.051733           0  \n",
       "\n",
       "[402 rows x 10 columns]"
      ]
     },
     "execution_count": 115,
     "metadata": {},
     "output_type": "execute_result"
    }
   ],
   "source": [
    "# test data\n",
    "test_data = waternonan.iloc[waternonan.index.difference(index_list)]\n",
    "test_data"
   ]
  },
  {
   "cell_type": "code",
   "execution_count": 139,
   "metadata": {},
   "outputs": [],
   "source": [
    "#starting the pipeline\n",
    "# preprocessing\n",
    "from sklearn.preprocessing import Normalizer, StandardScaler, MinMaxScaler, PowerTransformer, MaxAbsScaler, LabelEncoder\n",
    "from sklearn.feature_selection import VarianceThreshold\n",
    "\n",
    "# model training/tuning\n",
    "from sklearn.pipeline import Pipeline, make_pipeline \n",
    "from sklearn.model_selection import train_test_split, GridSearchCV \n",
    "from sklearn.dummy import DummyClassifier\n",
    "\n",
    "# models\n",
    "from sklearn.neighbors import KNeighborsClassifier \n",
    "from sklearn.linear_model import LogisticRegression\n",
    "from sklearn.naive_bayes import GaussianNB\n",
    "from sklearn.ensemble import RandomForestClassifier, GradientBoostingClassifier\n",
    "\n",
    "# model validation\n",
    "from sklearn.metrics import confusion_matrix, ConfusionMatrixDisplay, classification_report, recall_score, accuracy_score, make_scorer\n",
    "\n",
    "\n",
    "# dataframe viewing rows\n",
    "pd.set_option('display.max_rows', 100)"
   ]
  },
  {
   "cell_type": "code",
   "execution_count": 117,
   "metadata": {},
   "outputs": [],
   "source": [
    "feature_list = ['ph', # indicate ph\n",
    "                'Hardness', # indicates hardness\n",
    "                'Solids', # indicates solids\n",
    "                'Chloramines', # indicates Chloramines\n",
    "                'Sulfate', # indicates Sulfate\n",
    "                'Conductivity', # indicates Conductivity\n",
    "                'Organic_carbon', # indicates Organic_carbon\n",
    "                'Trihalomethanes', # indicates Trihalomethanes\n",
    "                'Turbidity'] # indicates Turbidity"
   ]
  },
  {
   "cell_type": "code",
   "execution_count": 118,
   "metadata": {},
   "outputs": [],
   "source": [
    "# define feature column data, list of features feature_list was created in the section above\n",
    "X = waternonan[feature_list].values\n",
    "\n",
    "# define label column\n",
    "y = waternonan['Potability'].values"
   ]
  },
  {
   "cell_type": "code",
   "execution_count": 119,
   "metadata": {},
   "outputs": [],
   "source": [
    "# make 75/25 train/test split, stratified because I have imbalanced label\n",
    "X_train, X_test, y_train, y_test = train_test_split(X, y, stratify=y, test_size=0.2, random_state=seed_choice)"
   ]
  },
  {
   "cell_type": "code",
   "execution_count": 120,
   "metadata": {
    "scrolled": true
   },
   "outputs": [
    {
     "name": "stdout",
     "output_type": "stream",
     "text": [
      "(1608, 9)\n",
      "(403, 9)\n",
      "(1608,)\n",
      "(403,)\n"
     ]
    }
   ],
   "source": [
    "# check size of data splits\n",
    "print(X_train.shape)\n",
    "print(X_test.shape)\n",
    "print(y_train.shape)\n",
    "print(y_test.shape)"
   ]
  },
  {
   "cell_type": "code",
   "execution_count": 121,
   "metadata": {},
   "outputs": [],
   "source": [
    "# Define scaler step of pipeline\n",
    "scaler = Normalizer()"
   ]
  },
  {
   "cell_type": "code",
   "execution_count": 122,
   "metadata": {},
   "outputs": [],
   "source": [
    "# Define machine learning models\n",
    "\n",
    "# Logistic Regression:\n",
    "lr = LogisticRegression(random_state=seed_choice)\n",
    "\n",
    "# K-nearest Neighbors:\n",
    "knn = KNeighborsClassifier(n_neighbors=5)\n",
    "\n",
    "# Naive Bayes:\n",
    "nb = GaussianNB()\n",
    "\n",
    "# Random Forest:\n",
    "rf = RandomForestClassifier(random_state=seed_choice, n_estimators=5, max_depth=10, min_samples_split=10, max_leaf_nodes=13)\n",
    "\n",
    "# Gradient Boosted Trees:\n",
    "gb = GradientBoostingClassifier()\n",
    "\n",
    "# select model to train:\n",
    "model_name = rf"
   ]
  },
  {
   "cell_type": "code",
   "execution_count": 123,
   "metadata": {},
   "outputs": [],
   "source": [
    "# define function to get model metrics\n",
    "def model_metrics(predictions, pipe):\n",
    "    \n",
    "    # print summary statistics\n",
    "    print('Training set score: ' + str(pipe.score(X_train,y_train)))\n",
    "    print('Test set score: ' + str(pipe.score(X_test,y_test)))\n",
    "    print(classification_report(y_test, predictions, digits=5))\n",
    "\n",
    "    # plot confusion matrix\n",
    "    cm = confusion_matrix(y_test, predictions, normalize='all')\n",
    "    print(cm)\n",
    "    disp_cm = ConfusionMatrixDisplay(confusion_matrix=cm, display_labels=pipe.classes_)\n",
    "    disp_cm.plot()"
   ]
  },
  {
   "cell_type": "code",
   "execution_count": 124,
   "metadata": {},
   "outputs": [
    {
     "name": "stdout",
     "output_type": "stream",
     "text": [
      "Training set score: 0.6716417910447762\n",
      "Test set score: 0.6203473945409429\n",
      "              precision    recall  f1-score   support\n",
      "\n",
      "           0    0.00000   0.00000   0.00000       240\n",
      "           1    0.40447   1.00000   0.57597       163\n",
      "\n",
      "    accuracy                        0.40447       403\n",
      "   macro avg    0.20223   0.50000   0.28799       403\n",
      "weighted avg    0.16359   0.40447   0.23296       403\n",
      "\n",
      "[1 1 1 1 1 1 1 1 1 1 1 1 1 1 1 1 1 1 1 1 1 1 1 1 1 1 1 1 1 1 1 1 1 1 1 1 1\n",
      " 1 1 1 1 1 1 1 1 1 1 1 1 1 1 1 1 1 1 1 1 1 1 1 1 1 1 1 1 1 1 1 1 1 1 1 1 1\n",
      " 1 1 1 1 1 1 1 1 1 1 1 1 1 1 1 1 1 1 1 1 1 1 1 1 1 1 1 1 1 1 1 1 1 1 1 1 1\n",
      " 1 1 1 1 1 1 1 1 1 1 1 1 1 1 1 1 1 1 1 1 1 1 1 1 1 1 1 1 1 1 1 1 1 1 1 1 1\n",
      " 1 1 1 1 1 1 1 1 1 1 1 1 1 1 1 1 1 1 1 1 1 1 1 1 1 1 1 1 1 1 1 1 1 1 1 1 1\n",
      " 1 1 1 1 1 1 1 1 1 1 1 1 1 1 1 1 1 1 1 1 1 1 1 1 1 1 1 1 1 1 1 1 1 1 1 1 1\n",
      " 1 1 1 1 1 1 1 1 1 1 1 1 1 1 1 1 1 1 1 1 1 1 1 1 1 1 1 1 1 1 1 1 1 1 1 1 1\n",
      " 1 1 1 1 1 1 1 1 1 1 1 1 1 1 1 1 1 1 1 1 1 1 1 1 1 1 1 1 1 1 1 1 1 1 1 1 1\n",
      " 1 1 1 1 1 1 1 1 1 1 1 1 1 1 1 1 1 1 1 1 1 1 1 1 1 1 1 1 1 1 1 1 1 1 1 1 1\n",
      " 1 1 1 1 1 1 1 1 1 1 1 1 1 1 1 1 1 1 1 1 1 1 1 1 1 1 1 1 1 1 1 1 1 1 1 1 1\n",
      " 1 1 1 1 1 1 1 1 1 1 1 1 1 1 1 1 1 1 1 1 1 1 1 1 1 1 1 1 1 1 1 1 1]\n",
      "[[0.        0.5955335]\n",
      " [0.        0.4044665]]\n"
     ]
    },
    {
     "name": "stderr",
     "output_type": "stream",
     "text": [
      "/Users/lachlan/opt/anaconda3/lib/python3.8/site-packages/sklearn/metrics/_classification.py:1471: UndefinedMetricWarning: Precision and F-score are ill-defined and being set to 0.0 in labels with no predicted samples. Use `zero_division` parameter to control this behavior.\n",
      "  _warn_prf(average, modifier, msg_start, len(result))\n",
      "/Users/lachlan/opt/anaconda3/lib/python3.8/site-packages/sklearn/metrics/_classification.py:1471: UndefinedMetricWarning: Precision and F-score are ill-defined and being set to 0.0 in labels with no predicted samples. Use `zero_division` parameter to control this behavior.\n",
      "  _warn_prf(average, modifier, msg_start, len(result))\n",
      "/Users/lachlan/opt/anaconda3/lib/python3.8/site-packages/sklearn/metrics/_classification.py:1471: UndefinedMetricWarning: Precision and F-score are ill-defined and being set to 0.0 in labels with no predicted samples. Use `zero_division` parameter to control this behavior.\n",
      "  _warn_prf(average, modifier, msg_start, len(result))\n"
     ]
    },
    {
     "data": {
      "text/plain": [
       "<sklearn.metrics._plot.confusion_matrix.ConfusionMatrixDisplay at 0x7f991616b2b0>"
      ]
     },
     "execution_count": 124,
     "metadata": {},
     "output_type": "execute_result"
    },
    {
     "data": {
      "image/png": "[encoded data removed]",
      "text/plain": [
       "<Figure size 432x288 with 2 Axes>"
      ]
     },
     "metadata": {
      "needs_background": "light"
     },
     "output_type": "display_data"
    }
   ],
   "source": [
    "# make pipeline steps\n",
    "pipe = make_pipeline(scaler,model_name)\n",
    "\n",
    "# fit data to model\n",
    "pipe.fit(X_train, y_train)\n",
    "\n",
    "# save predictions on test set\n",
    "predictions = model_name.predict(X_test)\n",
    "\n",
    "# print summary statistics\n",
    "print('Training set score: ' + str(pipe.score(X_train,y_train)))\n",
    "print('Test set score: ' + str(pipe.score(X_test,y_test)))\n",
    "print(classification_report(y_test, predictions, digits=5))\n",
    "print(predictions)\n",
    "\n",
    "# plot confusion matrix\n",
    "cm = confusion_matrix(y_test, predictions, normalize='all')\n",
    "print(cm)\n",
    "\n",
    "ConfusionMatrixDisplay(confusion_matrix=cm).plot()"
   ]
  },
  {
   "cell_type": "code",
   "execution_count": null,
   "metadata": {},
   "outputs": [],
   "source": []
  },
  {
   "cell_type": "code",
   "execution_count": null,
   "metadata": {},
   "outputs": [],
   "source": []
  },
  {
   "cell_type": "code",
   "execution_count": 125,
   "metadata": {},
   "outputs": [
    {
     "name": "stdout",
     "output_type": "stream",
     "text": [
      "training model:LogisticRegression(random_state=7)\n",
      "Training set score: 0.5970149253731343\n",
      "Test set score: 0.5955334987593052\n",
      "              precision    recall  f1-score   support\n",
      "\n",
      "           0    0.59453   0.99583   0.74455       240\n",
      "           1    0.00000   0.00000   0.00000       163\n",
      "\n",
      "    accuracy                        0.59305       403\n",
      "   macro avg    0.29726   0.49792   0.37227       403\n",
      "weighted avg    0.35406   0.59305   0.44340       403\n",
      "\n",
      "[[0.59305211 0.00248139]\n",
      " [0.4044665  0.        ]]\n",
      "training model:KNeighborsClassifier()\n",
      "Training set score: 0.6896766169154229\n",
      "Test set score: 0.5732009925558312\n",
      "              precision    recall  f1-score   support\n",
      "\n",
      "           0    0.61888   0.73750   0.67300       240\n",
      "           1    0.46154   0.33129   0.38571       163\n",
      "\n",
      "    accuracy                        0.57320       403\n",
      "   macro avg    0.54021   0.53439   0.52936       403\n",
      "weighted avg    0.55524   0.57320   0.55680       403\n",
      "\n",
      "[[0.43920596 0.15632754]\n",
      " [0.27047146 0.13399504]]\n",
      "training model:GaussianNB()\n",
      "Training set score: 0.5839552238805971\n",
      "Test set score: 0.5831265508684863\n",
      "              precision    recall  f1-score   support\n",
      "\n",
      "           0    0.00000   0.00000   0.00000       240\n",
      "           1    0.40447   1.00000   0.57597       163\n",
      "\n",
      "    accuracy                        0.40447       403\n",
      "   macro avg    0.20223   0.50000   0.28799       403\n",
      "weighted avg    0.16359   0.40447   0.23296       403\n",
      "\n",
      "[[0.        0.5955335]\n",
      " [0.        0.4044665]]\n"
     ]
    },
    {
     "name": "stderr",
     "output_type": "stream",
     "text": [
      "/Users/lachlan/opt/anaconda3/lib/python3.8/site-packages/sklearn/metrics/_classification.py:1471: UndefinedMetricWarning: Precision and F-score are ill-defined and being set to 0.0 in labels with no predicted samples. Use `zero_division` parameter to control this behavior.\n",
      "  _warn_prf(average, modifier, msg_start, len(result))\n",
      "/Users/lachlan/opt/anaconda3/lib/python3.8/site-packages/sklearn/metrics/_classification.py:1471: UndefinedMetricWarning: Precision and F-score are ill-defined and being set to 0.0 in labels with no predicted samples. Use `zero_division` parameter to control this behavior.\n",
      "  _warn_prf(average, modifier, msg_start, len(result))\n",
      "/Users/lachlan/opt/anaconda3/lib/python3.8/site-packages/sklearn/metrics/_classification.py:1471: UndefinedMetricWarning: Precision and F-score are ill-defined and being set to 0.0 in labels with no predicted samples. Use `zero_division` parameter to control this behavior.\n",
      "  _warn_prf(average, modifier, msg_start, len(result))\n",
      "/Users/lachlan/opt/anaconda3/lib/python3.8/site-packages/sklearn/metrics/_classification.py:1471: UndefinedMetricWarning: Precision and F-score are ill-defined and being set to 0.0 in labels with no predicted samples. Use `zero_division` parameter to control this behavior.\n",
      "  _warn_prf(average, modifier, msg_start, len(result))\n",
      "/Users/lachlan/opt/anaconda3/lib/python3.8/site-packages/sklearn/metrics/_classification.py:1471: UndefinedMetricWarning: Precision and F-score are ill-defined and being set to 0.0 in labels with no predicted samples. Use `zero_division` parameter to control this behavior.\n",
      "  _warn_prf(average, modifier, msg_start, len(result))\n",
      "/Users/lachlan/opt/anaconda3/lib/python3.8/site-packages/sklearn/metrics/_classification.py:1471: UndefinedMetricWarning: Precision and F-score are ill-defined and being set to 0.0 in labels with no predicted samples. Use `zero_division` parameter to control this behavior.\n",
      "  _warn_prf(average, modifier, msg_start, len(result))\n"
     ]
    },
    {
     "name": "stdout",
     "output_type": "stream",
     "text": [
      "training model:RandomForestClassifier(max_depth=10, max_leaf_nodes=13, min_samples_split=10,\n",
      "                       n_estimators=5, random_state=7)\n",
      "Training set score: 0.6716417910447762\n",
      "Test set score: 0.6203473945409429\n",
      "              precision    recall  f1-score   support\n",
      "\n",
      "           0    0.00000   0.00000   0.00000       240\n",
      "           1    0.40447   1.00000   0.57597       163\n",
      "\n",
      "    accuracy                        0.40447       403\n",
      "   macro avg    0.20223   0.50000   0.28799       403\n",
      "weighted avg    0.16359   0.40447   0.23296       403\n",
      "\n",
      "[[0.        0.5955335]\n",
      " [0.        0.4044665]]\n",
      "training model:GradientBoostingClassifier()\n",
      "Training set score: 0.7947761194029851\n",
      "Test set score: 0.6104218362282878\n",
      "              precision    recall  f1-score   support\n",
      "\n",
      "           0    0.00000   0.00000   0.00000       240\n",
      "           1    0.40447   1.00000   0.57597       163\n",
      "\n",
      "    accuracy                        0.40447       403\n",
      "   macro avg    0.20223   0.50000   0.28799       403\n",
      "weighted avg    0.16359   0.40447   0.23296       403\n",
      "\n",
      "[[0.        0.5955335]\n",
      " [0.        0.4044665]]\n"
     ]
    },
    {
     "name": "stderr",
     "output_type": "stream",
     "text": [
      "/Users/lachlan/opt/anaconda3/lib/python3.8/site-packages/sklearn/metrics/_classification.py:1471: UndefinedMetricWarning: Precision and F-score are ill-defined and being set to 0.0 in labels with no predicted samples. Use `zero_division` parameter to control this behavior.\n",
      "  _warn_prf(average, modifier, msg_start, len(result))\n",
      "/Users/lachlan/opt/anaconda3/lib/python3.8/site-packages/sklearn/metrics/_classification.py:1471: UndefinedMetricWarning: Precision and F-score are ill-defined and being set to 0.0 in labels with no predicted samples. Use `zero_division` parameter to control this behavior.\n",
      "  _warn_prf(average, modifier, msg_start, len(result))\n",
      "/Users/lachlan/opt/anaconda3/lib/python3.8/site-packages/sklearn/metrics/_classification.py:1471: UndefinedMetricWarning: Precision and F-score are ill-defined and being set to 0.0 in labels with no predicted samples. Use `zero_division` parameter to control this behavior.\n",
      "  _warn_prf(average, modifier, msg_start, len(result))\n"
     ]
    },
    {
     "data": {
      "image/png": "[encoded data removed]",
      "text/plain": [
       "<Figure size 432x288 with 2 Axes>"
      ]
     },
     "metadata": {
      "needs_background": "light"
     },
     "output_type": "display_data"
    },
    {
     "data": {
      "image/png": "[encoded data removed]",
      "text/plain": [
       "<Figure size 432x288 with 2 Axes>"
      ]
     },
     "metadata": {
      "needs_background": "light"
     },
     "output_type": "display_data"
    },
    {
     "data": {
      "image/png": "[encoded data removed]",
      "text/plain": [
       "<Figure size 432x288 with 2 Axes>"
      ]
     },
     "metadata": {
      "needs_background": "light"
     },
     "output_type": "display_data"
    },
    {
     "data": {
      "image/png": "[encoded data removed]",
      "text/plain": [
       "<Figure size 432x288 with 2 Axes>"
      ]
     },
     "metadata": {
      "needs_background": "light"
     },
     "output_type": "display_data"
    },
    {
     "data": {
      "image/png": "[encoded data removed]",
      "text/plain": [
       "<Figure size 432x288 with 2 Axes>"
      ]
     },
     "metadata": {
      "needs_background": "light"
     },
     "output_type": "display_data"
    }
   ],
   "source": [
    "# create loop to test all models at once\n",
    "\n",
    "model_names = [lr, knn, nb, rf, gb]\n",
    "for name in model_names:\n",
    "    print('training model:' + str(name))\n",
    "    \n",
    "    # define model name\n",
    "    model_name = name\n",
    "    \n",
    "    # make pipeline steps\n",
    "    pipe = make_pipeline(scaler,model_name)\n",
    "\n",
    "    # fit data to model\n",
    "    pipe.fit(X_train, y_train)\n",
    "\n",
    "    # save predictions on test set\n",
    "    predictions = model_name.predict(X_test)\n",
    "\n",
    "    # print summary statistics\n",
    "    print('Training set score: ' + str(pipe.score(X_train,y_train)))\n",
    "    print('Test set score: ' + str(pipe.score(X_test,y_test)))\n",
    "    print(classification_report(y_test, predictions, digits=5))\n",
    "#for debugging\n",
    "#    print(predictions)\n",
    "\n",
    "    # plot confusion matrix\n",
    "    cm = confusion_matrix(y_test, predictions, normalize='all')\n",
    "    print(cm)\n",
    "    ConfusionMatrixDisplay(confusion_matrix=cm).plot()"
   ]
  },
  {
   "cell_type": "markdown",
   "metadata": {},
   "source": [
    "## Suggestions on how to improve predictions:\n",
    "1. probably overfitting\n",
    "2. tweak some parameters to see if it does stuff\n",
    "3. simplify models\n",
    "4. start analysing \n",
    "\n"
   ]
  },
  {
   "cell_type": "code",
   "execution_count": null,
   "metadata": {},
   "outputs": [],
   "source": []
  },
  {
   "cell_type": "code",
   "execution_count": 126,
   "metadata": {},
   "outputs": [],
   "source": [
    "# This is a function I pulled from \n",
    "# https://stackoverflow.com/questions/37161563/how-to-graph-grid-scores-from-gridsearchcv\n",
    "\n",
    "# For each hyperparamter it fixes all other parameters to their best values \n",
    "# and plots the average score for each value of the hyperparamter.\n",
    "\n",
    "\n",
    "def plot_search_results(grid):\n",
    "    \n",
    "    # Results from grid search\n",
    "    results = grid.cv_results_\n",
    "    means_test = results['mean_test_score']\n",
    "    stds_test = results['std_test_score']\n",
    "    means_train = results['mean_train_score']\n",
    "    stds_train = results['std_train_score']\n",
    "\n",
    "    # Getting indexes of values per hyper-parameter\n",
    "    masks=[]\n",
    "    masks_names= list(grid.best_params_.keys())\n",
    "    for p_k, p_v in grid.best_params_.items():\n",
    "        masks.append(list(results['param_'+p_k].data==p_v))\n",
    "\n",
    "    params=grid.param_grid\n",
    "\n",
    "    # Ploting results\n",
    "    fig, ax = plt.subplots(1,len(params),sharex='none', sharey='all',figsize=(20,5))\n",
    "    fig.suptitle('Score per parameter')\n",
    "    fig.text(0.04, 0.5, 'MEAN SCORE', va='center', rotation='vertical')\n",
    "    pram_preformace_in_best = {}\n",
    "    for i, p in enumerate(masks_names):\n",
    "        m = np.stack(masks[:i] + masks[i+1:])\n",
    "        pram_preformace_in_best\n",
    "        best_parms_mask = m.all(axis=0)\n",
    "        best_index = np.where(best_parms_mask)[0]\n",
    "        x = np.array(params[p])\n",
    "        y_1 = np.array(means_test[best_index])\n",
    "        e_1 = np.array(stds_test[best_index])\n",
    "        y_2 = np.array(means_train[best_index])\n",
    "        e_2 = np.array(stds_train[best_index])\n",
    "        ax[i].errorbar(x, y_1, e_1, linestyle='--', marker='o', label='test')\n",
    "        ax[i].errorbar(x, y_2, e_2, linestyle='-', marker='^',label='train' )\n",
    "        ax[i].set_xlabel(p.upper())\n",
    "\n",
    "    plt.legend()\n",
    "    plt.show()"
   ]
  },
  {
   "cell_type": "code",
   "execution_count": 128,
   "metadata": {},
   "outputs": [],
   "source": [
    "# define parameter search for each model\n",
    "\n",
    "# Logistic Regression:\n",
    "lr = LogisticRegression(random_state=seed_choice, solver='liblinear', max_iter=1000)\n",
    "\n",
    "lr_param_grid = {'logisticregression__penalty': ['l1', 'l2'],\n",
    "                 'logisticregression__C': [0.001, 0.01, 0.1, 1.0, 10, 25]\n",
    "                }\n",
    "\n",
    "# K-nearest Neighbors:\n",
    "knn = KNeighborsClassifier(n_neighbors=10)\n",
    "\n",
    "knn_param_grid = {'kneighborsclassifier__n_neighbors': [3, 5, 7, 9],\n",
    "                  'kneighborsclassifier__weights': ['uniform', 'distance'],\n",
    "                  'kneighborsclassifier__p': [1,2]\n",
    "                 }\n",
    "\n",
    "# Naive Bayes:\n",
    "nb = GaussianNB()\n",
    "# There are no meaningful paramters to tune for Naive Bayes model so we willl accept the default implementation.\n",
    "\n",
    "# Random Forest:\n",
    "rf = RandomForestClassifier(random_state=seed_choice, n_jobs=-1)\n",
    "\n",
    "rf_param_grid = {'randomforestclassifier__n_estimators': [5, 10, 25, 50, 100],\n",
    "                 'randomforestclassifier__criterion': ['gini', 'entropy', 'log_loss'],\n",
    "                 'randomforestclassifier__max_depth': [3, 5, 10, 16],\n",
    "                 'randomforestclassifier__max_features': ['sqrt', 'log2', 9],\n",
    "                 'randomforestclassifier__max_samples': [0.25, 0.5, 0.75, 1]\n",
    "                }\n",
    "\n",
    "# Gradient Boosted Trees:\n",
    "gb = GradientBoostingClassifier(random_state=seed_choice)\n",
    "\n",
    "gb_param_grid = {'gradientboostingclassifier__n_estimators': [10, 25, 50, 100],\n",
    "                 'gradientboostingclassifier__loss': ['log_loss', 'exponential'],\n",
    "                 'gradientboostingclassifier__learning_rate': [0.01, 0.1, 0.5, 1],\n",
    "                 'gradientboostingclassifier__subsample': [0.1, 0.5, 0.75, 1],\n",
    "                 'gradientboostingclassifier__max_depth': [3, 5, 10, 16],\n",
    "                 'gradientboostingclassifier__max_features': ['sqrt', 'log2', 9],\n",
    "                }"
   ]
  },
  {
   "cell_type": "code",
   "execution_count": 129,
   "metadata": {},
   "outputs": [],
   "source": [
    "# define workflow to perform grid search on a model \n",
    "#  and print the summary statistics for the best parameters \n",
    "#   and plot the results of the cross validation.\n",
    "def search_train_evaluate_plot(model_name, param_grid, scorer):\n",
    "    \n",
    "    # define pipeline\n",
    "    pipe = make_pipeline(scaler,model_name)\n",
    "\n",
    "    # define parameter search\n",
    "    grid_search = GridSearchCV(pipe, param_grid, cv=4, refit = True, verbose = 1, return_train_score=True, scoring=scorer, n_jobs=-1) \n",
    "\n",
    "    # train the model on grid search \n",
    "    grid_search.fit(X_train, y_train) \n",
    "\n",
    "    # print best parameters after tuning \n",
    "    print(grid_search.best_params_) \n",
    "    best_predictions = grid_search.predict(X_test) \n",
    "\n",
    "    # print summary of metrics for best parameters\n",
    "    model_metrics(best_predictions, grid_search)\n",
    "    \n",
    "    # plot results of grid search\n",
    "    plot_search_results(grid_search)\n",
    "\n"
   ]
  },
  {
   "cell_type": "code",
   "execution_count": 130,
   "metadata": {},
   "outputs": [
    {
     "name": "stdout",
     "output_type": "stream",
     "text": [
      "Fitting 4 folds for each of 16 candidates, totalling 64 fits\n",
      "{'kneighborsclassifier__n_neighbors': 9, 'kneighborsclassifier__p': 2, 'kneighborsclassifier__weights': 'uniform'}\n",
      "Training set score: 0.6666666666666666\n",
      "Test set score: 0.6129032258064516\n",
      "              precision    recall  f1-score   support\n",
      "\n",
      "           0    0.63548   0.82083   0.71636       240\n",
      "           1    0.53763   0.30675   0.39062       163\n",
      "\n",
      "    accuracy                        0.61290       403\n",
      "   macro avg    0.58656   0.56379   0.55349       403\n",
      "weighted avg    0.59591   0.61290   0.58461       403\n",
      "\n",
      "[[0.48883375 0.10669975]\n",
      " [0.28039702 0.12406948]]\n"
     ]
    },
    {
     "data": {
      "image/png": "[encoded data removed]",
      "text/plain": [
       "<Figure size 432x288 with 2 Axes>"
      ]
     },
     "metadata": {
      "needs_background": "light"
     },
     "output_type": "display_data"
    },
    {
     "data": {
      "image/png": "[encoded data removed]",
      "text/plain": [
       "<Figure size 1440x360 with 3 Axes>"
      ]
     },
     "metadata": {
      "needs_background": "light"
     },
     "output_type": "display_data"
    }
   ],
   "source": [
    "# define names for model\n",
    "model_name = knn\n",
    "param_grid = knn_param_grid\n",
    "scorer = make_scorer(accuracy_score)\n",
    "#scorer = make_scorer(recall_score)\n",
    "\n",
    "# run model workflow\n",
    "search_train_evaluate_plot(model_name, param_grid, scorer)"
   ]
  },
  {
   "cell_type": "code",
   "execution_count": 132,
   "metadata": {},
   "outputs": [],
   "source": [
    "# define workflow for training and printing model evaluation metrics\n",
    "def train_and_evaluate(scaler,model_name):\n",
    "    \n",
    "    # make pipeline steps\n",
    "    pipe = make_pipeline(scaler,model_name)\n",
    "\n",
    "    # fit data to model\n",
    "    pipe.fit(X_train, y_train)\n",
    "\n",
    "    # save predictions on test set\n",
    "    predictions = pipe.predict(X_test)\n",
    "\n",
    "    # display results and metrics\n",
    "    model_metrics(predictions, pipe)\n"
   ]
  },
  {
   "cell_type": "code",
   "execution_count": 133,
   "metadata": {},
   "outputs": [
    {
     "name": "stdout",
     "output_type": "stream",
     "text": [
      "training model:LogisticRegression(max_iter=1000, random_state=7, solver='liblinear')\n",
      "Fitting 4 folds for each of 12 candidates, totalling 48 fits\n",
      "{'logisticregression__C': 10, 'logisticregression__penalty': 'l1'}\n",
      "Training set score: 0.5982587064676617\n",
      "Test set score: 0.5930521091811415\n",
      "              precision    recall  f1-score   support\n",
      "\n",
      "           0    0.59453   0.99583   0.74455       240\n",
      "           1    0.00000   0.00000   0.00000       163\n",
      "\n",
      "    accuracy                        0.59305       403\n",
      "   macro avg    0.29726   0.49792   0.37227       403\n",
      "weighted avg    0.35406   0.59305   0.44340       403\n",
      "\n",
      "[[0.59305211 0.00248139]\n",
      " [0.4044665  0.        ]]\n"
     ]
    },
    {
     "data": {
      "image/png": "[encoded data removed]",
      "text/plain": [
       "<Figure size 432x288 with 2 Axes>"
      ]
     },
     "metadata": {
      "needs_background": "light"
     },
     "output_type": "display_data"
    },
    {
     "data": {
      "image/png": "[encoded data removed]",
      "text/plain": [
       "<Figure size 1440x360 with 2 Axes>"
      ]
     },
     "metadata": {
      "needs_background": "light"
     },
     "output_type": "display_data"
    },
    {
     "name": "stdout",
     "output_type": "stream",
     "text": [
      "training model:KNeighborsClassifier(n_neighbors=10)\n",
      "Fitting 4 folds for each of 16 candidates, totalling 64 fits\n",
      "{'kneighborsclassifier__n_neighbors': 9, 'kneighborsclassifier__p': 2, 'kneighborsclassifier__weights': 'uniform'}\n",
      "Training set score: 0.6666666666666666\n",
      "Test set score: 0.6129032258064516\n",
      "              precision    recall  f1-score   support\n",
      "\n",
      "           0    0.63548   0.82083   0.71636       240\n",
      "           1    0.53763   0.30675   0.39062       163\n",
      "\n",
      "    accuracy                        0.61290       403\n",
      "   macro avg    0.58656   0.56379   0.55349       403\n",
      "weighted avg    0.59591   0.61290   0.58461       403\n",
      "\n",
      "[[0.48883375 0.10669975]\n",
      " [0.28039702 0.12406948]]\n"
     ]
    },
    {
     "data": {
      "image/png": "[encoded data removed]",
      "text/plain": [
       "<Figure size 432x288 with 2 Axes>"
      ]
     },
     "metadata": {
      "needs_background": "light"
     },
     "output_type": "display_data"
    },
    {
     "data": {
      "image/png": "[encoded data removed]",
      "text/plain": [
       "<Figure size 1440x360 with 3 Axes>"
      ]
     },
     "metadata": {
      "needs_background": "light"
     },
     "output_type": "display_data"
    },
    {
     "name": "stdout",
     "output_type": "stream",
     "text": [
      "training model:GaussianNB()\n",
      "Training set score: 0.5839552238805971\n",
      "Test set score: 0.5831265508684863\n",
      "              precision    recall  f1-score   support\n",
      "\n",
      "           0    0.59574   0.93333   0.72727       240\n",
      "           1    0.40741   0.06748   0.11579       163\n",
      "\n",
      "    accuracy                        0.58313       403\n",
      "   macro avg    0.50158   0.50041   0.42153       403\n",
      "weighted avg    0.51957   0.58313   0.47995       403\n",
      "\n",
      "[[0.55583127 0.03970223]\n",
      " [0.37717122 0.02729529]]\n",
      "training model:RandomForestClassifier(n_jobs=-1, random_state=7)\n",
      "Fitting 4 folds for each of 720 candidates, totalling 2880 fits\n",
      "{'randomforestclassifier__criterion': 'gini', 'randomforestclassifier__max_depth': 5, 'randomforestclassifier__max_features': 16, 'randomforestclassifier__max_samples': 0.5, 'randomforestclassifier__n_estimators': 50}\n",
      "Training set score: 0.6579601990049752\n",
      "Test set score: 0.6377171215880894\n",
      "              precision    recall  f1-score   support\n",
      "\n",
      "           0    0.62567   0.97500   0.76221       240\n",
      "           1    0.79310   0.14110   0.23958       163\n",
      "\n",
      "    accuracy                        0.63772       403\n",
      "   macro avg    0.70939   0.55805   0.50090       403\n",
      "weighted avg    0.69339   0.63772   0.55083       403\n",
      "\n",
      "[[0.58064516 0.01488834]\n",
      " [0.34739454 0.05707196]]\n"
     ]
    },
    {
     "data": {
      "image/png": "[encoded data removed]",
      "text/plain": [
       "<Figure size 432x288 with 2 Axes>"
      ]
     },
     "metadata": {
      "needs_background": "light"
     },
     "output_type": "display_data"
    },
    {
     "data": {
      "image/png": "[encoded data removed]",
      "text/plain": [
       "<Figure size 432x288 with 2 Axes>"
      ]
     },
     "metadata": {
      "needs_background": "light"
     },
     "output_type": "display_data"
    },
    {
     "data": {
      "image/png": "[encoded data removed]",
      "text/plain": [
       "<Figure size 1440x360 with 5 Axes>"
      ]
     },
     "metadata": {
      "needs_background": "light"
     },
     "output_type": "display_data"
    },
    {
     "name": "stdout",
     "output_type": "stream",
     "text": [
      "training model:GradientBoostingClassifier(random_state=7)\n",
      "Fitting 4 folds for each of 1536 candidates, totalling 6144 fits\n",
      "{'gradientboostingclassifier__learning_rate': 0.1, 'gradientboostingclassifier__loss': 'log_loss', 'gradientboostingclassifier__max_depth': 3, 'gradientboostingclassifier__max_features': 16, 'gradientboostingclassifier__n_estimators': 25, 'gradientboostingclassifier__subsample': 0.75}\n",
      "Training set score: 0.6859452736318408\n",
      "Test set score: 0.6352357320099256\n",
      "              precision    recall  f1-score   support\n",
      "\n",
      "           0    0.63025   0.93750   0.75377       240\n",
      "           1    0.67391   0.19018   0.29665       163\n",
      "\n",
      "    accuracy                        0.63524       403\n",
      "   macro avg    0.65208   0.56384   0.52521       403\n",
      "weighted avg    0.64791   0.63524   0.56888       403\n",
      "\n",
      "[[0.55831266 0.03722084]\n",
      " [0.32754342 0.07692308]]\n"
     ]
    },
    {
     "data": {
      "image/png": "[encoded data removed]",
      "text/plain": [
       "<Figure size 432x288 with 2 Axes>"
      ]
     },
     "metadata": {
      "needs_background": "light"
     },
     "output_type": "display_data"
    },
    {
     "data": {
      "image/png": "[encoded data removed]",
      "text/plain": [
       "<Figure size 1440x360 with 6 Axes>"
      ]
     },
     "metadata": {
      "needs_background": "light"
     },
     "output_type": "display_data"
    }
   ],
   "source": [
    "# create loop to test all models at once\n",
    "\n",
    "scorer = make_scorer(accuracy_score)\n",
    "#scorer = make_scorer(recall_score)\n",
    "\n",
    "model_and_param_names = [[lr, lr_param_grid], [knn, knn_param_grid], [nb], [rf, rf_param_grid], [gb, gb_param_grid]]\n",
    "for name in model_and_param_names:\n",
    "    \n",
    "    if name[0] == nb:\n",
    "        \n",
    "        print('training model:' + str(name[0]))\n",
    "    \n",
    "        train_and_evaluate(scaler,name[0])\n",
    "    else:\n",
    "        print('training model:' + str(name[0]))\n",
    "\n",
    "        search_train_evaluate_plot(name[0], name[1], scorer)"
   ]
  },
  {
   "cell_type": "code",
   "execution_count": null,
   "metadata": {},
   "outputs": [],
   "source": []
  },
  {
   "cell_type": "code",
   "execution_count": null,
   "metadata": {},
   "outputs": [],
   "source": []
  },
  {
   "cell_type": "code",
   "execution_count": 136,
   "metadata": {},
   "outputs": [],
   "source": [
    "# define best parameters for each model type\n",
    "\n",
    "# Logistic Regression:\n",
    "best_lr = LogisticRegression(random_state=seed_choice, solver='liblinear', max_iter=1000, penalty='l1', C=10)\n",
    "\n",
    "# K-nearest Neighbors:\n",
    "best_knn = KNeighborsClassifier(n_neighbors=9, weights='uniform', p=2)\n",
    "\n",
    "# Naive Bayes:\n",
    "best_nb = GaussianNB()\n",
    "# There are no meaningful paramters to tune for Naive Bayes model so we willl accept the default implementation.\n",
    "\n",
    "# Random Forest:\n",
    "best_rf = RandomForestClassifier(random_state=seed_choice, criterion='gini', max_depth=5, max_features=9, max_samples=0.5, n_estimators=50)\n",
    "\n",
    "# Gradient Boosted Trees:\n",
    "best_gb = GradientBoostingClassifier(random_state=seed_choice, n_estimators=25, loss='log_loss', learning_rate=.1, subsample=0.75, max_depth=3, max_features=9)\n",
    "\n"
   ]
  },
  {
   "cell_type": "code",
   "execution_count": 140,
   "metadata": {},
   "outputs": [],
   "source": [
    "# define workflow to perform grid search over model types \n",
    "#  and print the summary statistics for the best model \n",
    "#   and plot the results of the cross validation.\n",
    "\n",
    "def model_search_train_evaluate_plot(scorer):\n",
    "    \n",
    "    # define model type parameters\n",
    "    param_grid = [{'classifier': [best_lr]},\n",
    "                  {'classifier': [best_knn]},\n",
    "                  {'classifier': [best_nb]},\n",
    "                  {'classifier': [best_rf]},\n",
    "                  {'classifier': [best_gb]}\n",
    "                 ]\n",
    "\n",
    "    pipe = Pipeline([('scaler', scaler),\n",
    "                     ('classifier', DummyClassifier())\n",
    "                    ])\n",
    "    \n",
    "    \n",
    "    \n",
    "    # define parameter search\n",
    "    grid_search = GridSearchCV(pipe, param_grid, cv=4, refit = True, verbose = 1, return_train_score=True, scoring=scorer, n_jobs=-1) \n",
    "\n",
    "    # train the model on grid search \n",
    "    grid_search.fit(X_train, y_train) \n",
    "\n",
    "    # print best parameters after tuning \n",
    "    print(grid_search.best_params_) \n",
    "    best_predictions = grid_search.predict(X_test) \n",
    "\n",
    "    # print summary of metrics for best parameters\n",
    "    #model_metrics(best_predictions, grid_search)\n",
    "    \n",
    "    # print score for each fit\n",
    "    print('mean test scores:' + str(grid_search.cv_results_['mean_test_score']))\n",
    "    print('mean train scores:' + str(grid_search.cv_results_['mean_train_score']))\n",
    "    x = np.arange(grid_search.cv_results_['mean_test_score'].shape[0])\n",
    "    plt.plot(x, grid_search.cv_results_['mean_test_score'], 'bo-')\n",
    "    plt.plot(x, grid_search.cv_results_['mean_train_score'], 'go-')\n",
    "    \n",
    "    plt.show()\n",
    "    "
   ]
  },
  {
   "cell_type": "code",
   "execution_count": 141,
   "metadata": {},
   "outputs": [
    {
     "name": "stdout",
     "output_type": "stream",
     "text": [
      "Fitting 4 folds for each of 5 candidates, totalling 20 fits\n",
      "{'classifier': RandomForestClassifier(max_depth=5, max_features=9, max_samples=0.5,\n",
      "                       n_estimators=50, random_state=7)}\n",
      "mean test scores:[0.59763682 0.58333333 0.58271144 0.63495025 0.63432836]\n",
      "mean train scores:[0.59825871 0.66024046 0.58291874 0.68635987 0.6971393 ]\n"
     ]
    },
    {
     "data": {
      "image/png": "[encoded data removed]",
      "text/plain": [
       "<Figure size 432x288 with 1 Axes>"
      ]
     },
     "metadata": {
      "needs_background": "light"
     },
     "output_type": "display_data"
    }
   ],
   "source": [
    "# choose scorer\n",
    "scorer = make_scorer(accuracy_score)\n",
    "#scorer = make_scorer(recall_score)\n",
    "\n",
    "# search over model types\n",
    "model_search_train_evaluate_plot(scorer)"
   ]
  },
  {
   "cell_type": "code",
   "execution_count": null,
   "metadata": {},
   "outputs": [],
   "source": []
  },
  {
   "cell_type": "code",
   "execution_count": null,
   "metadata": {},
   "outputs": [],
   "source": []
  },
  {
   "cell_type": "code",
   "execution_count": null,
   "metadata": {},
   "outputs": [],
   "source": []
  },
  {
   "cell_type": "code",
   "execution_count": null,
   "metadata": {},
   "outputs": [],
   "source": []
  },
  {
   "cell_type": "code",
   "execution_count": null,
   "metadata": {},
   "outputs": [],
   "source": []
  }
 ],
 "metadata": {
  "kernelspec": {
   "display_name": "Python 3",
   "language": "python",
   "name": "python3"
  },
  "language_info": {
   "codemirror_mode": {
    "name": "ipython",
    "version": 3
   },
   "file_extension": ".py",
   "mimetype": "text/x-python",
   "name": "python",
   "nbconvert_exporter": "python",
   "pygments_lexer": "ipython3",
   "version": "3.8.5"
  }
 },
 "nbformat": 4,
 "nbformat_minor": 4
}
