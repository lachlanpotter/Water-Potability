{
 "cells": [
  {
   "cell_type": "code",
   "execution_count": 2,
   "metadata": {},
   "outputs": [
    {
     "name": "stdout",
     "output_type": "stream",
     "text": [
      "Collecting package metadata (current_repodata.json): \\ WARNING conda.models.version:get_matcher(538): Using .* with relational operator is superfluous and deprecated and will be removed in a future version of conda. Your spec was 1.7.1.*, but conda is ignoring the .* and treating it as 1.7.1\n",
      "done\n",
      "Solving environment: done\n",
      "\n",
      "\n",
      "==> WARNING: A newer version of conda exists. <==\n",
      "  current version: 4.14.0\n",
      "  latest version: 23.11.0\n",
      "\n",
      "Please update conda by running\n",
      "\n",
      "    $ conda update -n base -c conda-forge conda\n",
      "\n",
      "\n",
      "\n",
      "# All requested packages already installed.\n",
      "\n",
      "Retrieving notices: ...working... done\n",
      "\n",
      "Note: you may need to restart the kernel to use updated packages.\n"
     ]
    }
   ],
   "source": [
    "import pandas as pd\n",
    "%conda install -c conda-forge pandasql"
   ]
  },
  {
   "cell_type": "code",
   "execution_count": null,
   "metadata": {},
   "outputs": [],
   "source": []
  },
  {
   "cell_type": "code",
   "execution_count": 3,
   "metadata": {},
   "outputs": [],
   "source": [
    "import pandasql as psql\n",
    "import random as rand\n"
   ]
  },
  {
   "cell_type": "code",
   "execution_count": 4,
   "metadata": {},
   "outputs": [],
   "source": [
    "water = pd.read_csv('water_potability.csv')"
   ]
  },
  {
   "cell_type": "code",
   "execution_count": 5,
   "metadata": {},
   "outputs": [
    {
     "data": {
      "text/html": [
       "<div>\n",
       "<style scoped>\n",
       "    .dataframe tbody tr th:only-of-type {\n",
       "        vertical-align: middle;\n",
       "    }\n",
       "\n",
       "    .dataframe tbody tr th {\n",
       "        vertical-align: top;\n",
       "    }\n",
       "\n",
       "    .dataframe thead th {\n",
       "        text-align: right;\n",
       "    }\n",
       "</style>\n",
       "<table border=\"1\" class=\"dataframe\">\n",
       "  <thead>\n",
       "    <tr style=\"text-align: right;\">\n",
       "      <th></th>\n",
       "      <th>ph</th>\n",
       "      <th>Hardness</th>\n",
       "      <th>Solids</th>\n",
       "      <th>Chloramines</th>\n",
       "      <th>Sulfate</th>\n",
       "      <th>Conductivity</th>\n",
       "      <th>Organic_carbon</th>\n",
       "      <th>Trihalomethanes</th>\n",
       "      <th>Turbidity</th>\n",
       "      <th>Potability</th>\n",
       "    </tr>\n",
       "  </thead>\n",
       "  <tbody>\n",
       "    <tr>\n",
       "      <th>0</th>\n",
       "      <td>NaN</td>\n",
       "      <td>204.890455</td>\n",
       "      <td>20791.318981</td>\n",
       "      <td>7.300212</td>\n",
       "      <td>368.516441</td>\n",
       "      <td>564.308654</td>\n",
       "      <td>10.379783</td>\n",
       "      <td>86.990970</td>\n",
       "      <td>2.963135</td>\n",
       "      <td>0</td>\n",
       "    </tr>\n",
       "    <tr>\n",
       "      <th>1</th>\n",
       "      <td>3.716080</td>\n",
       "      <td>129.422921</td>\n",
       "      <td>18630.057858</td>\n",
       "      <td>6.635246</td>\n",
       "      <td>NaN</td>\n",
       "      <td>592.885359</td>\n",
       "      <td>15.180013</td>\n",
       "      <td>56.329076</td>\n",
       "      <td>4.500656</td>\n",
       "      <td>0</td>\n",
       "    </tr>\n",
       "    <tr>\n",
       "      <th>2</th>\n",
       "      <td>8.099124</td>\n",
       "      <td>224.236259</td>\n",
       "      <td>19909.541732</td>\n",
       "      <td>9.275884</td>\n",
       "      <td>NaN</td>\n",
       "      <td>418.606213</td>\n",
       "      <td>16.868637</td>\n",
       "      <td>66.420093</td>\n",
       "      <td>3.055934</td>\n",
       "      <td>0</td>\n",
       "    </tr>\n",
       "    <tr>\n",
       "      <th>3</th>\n",
       "      <td>8.316766</td>\n",
       "      <td>214.373394</td>\n",
       "      <td>22018.417441</td>\n",
       "      <td>8.059332</td>\n",
       "      <td>356.886136</td>\n",
       "      <td>363.266516</td>\n",
       "      <td>18.436524</td>\n",
       "      <td>100.341674</td>\n",
       "      <td>4.628771</td>\n",
       "      <td>0</td>\n",
       "    </tr>\n",
       "    <tr>\n",
       "      <th>4</th>\n",
       "      <td>9.092223</td>\n",
       "      <td>181.101509</td>\n",
       "      <td>17978.986339</td>\n",
       "      <td>6.546600</td>\n",
       "      <td>310.135738</td>\n",
       "      <td>398.410813</td>\n",
       "      <td>11.558279</td>\n",
       "      <td>31.997993</td>\n",
       "      <td>4.075075</td>\n",
       "      <td>0</td>\n",
       "    </tr>\n",
       "    <tr>\n",
       "      <th>...</th>\n",
       "      <td>...</td>\n",
       "      <td>...</td>\n",
       "      <td>...</td>\n",
       "      <td>...</td>\n",
       "      <td>...</td>\n",
       "      <td>...</td>\n",
       "      <td>...</td>\n",
       "      <td>...</td>\n",
       "      <td>...</td>\n",
       "      <td>...</td>\n",
       "    </tr>\n",
       "    <tr>\n",
       "      <th>3271</th>\n",
       "      <td>4.668102</td>\n",
       "      <td>193.681735</td>\n",
       "      <td>47580.991603</td>\n",
       "      <td>7.166639</td>\n",
       "      <td>359.948574</td>\n",
       "      <td>526.424171</td>\n",
       "      <td>13.894419</td>\n",
       "      <td>66.687695</td>\n",
       "      <td>4.435821</td>\n",
       "      <td>1</td>\n",
       "    </tr>\n",
       "    <tr>\n",
       "      <th>3272</th>\n",
       "      <td>7.808856</td>\n",
       "      <td>193.553212</td>\n",
       "      <td>17329.802160</td>\n",
       "      <td>8.061362</td>\n",
       "      <td>NaN</td>\n",
       "      <td>392.449580</td>\n",
       "      <td>19.903225</td>\n",
       "      <td>NaN</td>\n",
       "      <td>2.798243</td>\n",
       "      <td>1</td>\n",
       "    </tr>\n",
       "    <tr>\n",
       "      <th>3273</th>\n",
       "      <td>9.419510</td>\n",
       "      <td>175.762646</td>\n",
       "      <td>33155.578218</td>\n",
       "      <td>7.350233</td>\n",
       "      <td>NaN</td>\n",
       "      <td>432.044783</td>\n",
       "      <td>11.039070</td>\n",
       "      <td>69.845400</td>\n",
       "      <td>3.298875</td>\n",
       "      <td>1</td>\n",
       "    </tr>\n",
       "    <tr>\n",
       "      <th>3274</th>\n",
       "      <td>5.126763</td>\n",
       "      <td>230.603758</td>\n",
       "      <td>11983.869376</td>\n",
       "      <td>6.303357</td>\n",
       "      <td>NaN</td>\n",
       "      <td>402.883113</td>\n",
       "      <td>11.168946</td>\n",
       "      <td>77.488213</td>\n",
       "      <td>4.708658</td>\n",
       "      <td>1</td>\n",
       "    </tr>\n",
       "    <tr>\n",
       "      <th>3275</th>\n",
       "      <td>7.874671</td>\n",
       "      <td>195.102299</td>\n",
       "      <td>17404.177061</td>\n",
       "      <td>7.509306</td>\n",
       "      <td>NaN</td>\n",
       "      <td>327.459760</td>\n",
       "      <td>16.140368</td>\n",
       "      <td>78.698446</td>\n",
       "      <td>2.309149</td>\n",
       "      <td>1</td>\n",
       "    </tr>\n",
       "  </tbody>\n",
       "</table>\n",
       "<p>3276 rows × 10 columns</p>\n",
       "</div>"
      ],
      "text/plain": [
       "            ph    Hardness        Solids  Chloramines     Sulfate  \\\n",
       "0          NaN  204.890455  20791.318981     7.300212  368.516441   \n",
       "1     3.716080  129.422921  18630.057858     6.635246         NaN   \n",
       "2     8.099124  224.236259  19909.541732     9.275884         NaN   \n",
       "3     8.316766  214.373394  22018.417441     8.059332  356.886136   \n",
       "4     9.092223  181.101509  17978.986339     6.546600  310.135738   \n",
       "...        ...         ...           ...          ...         ...   \n",
       "3271  4.668102  193.681735  47580.991603     7.166639  359.948574   \n",
       "3272  7.808856  193.553212  17329.802160     8.061362         NaN   \n",
       "3273  9.419510  175.762646  33155.578218     7.350233         NaN   \n",
       "3274  5.126763  230.603758  11983.869376     6.303357         NaN   \n",
       "3275  7.874671  195.102299  17404.177061     7.509306         NaN   \n",
       "\n",
       "      Conductivity  Organic_carbon  Trihalomethanes  Turbidity  Potability  \n",
       "0       564.308654       10.379783        86.990970   2.963135           0  \n",
       "1       592.885359       15.180013        56.329076   4.500656           0  \n",
       "2       418.606213       16.868637        66.420093   3.055934           0  \n",
       "3       363.266516       18.436524       100.341674   4.628771           0  \n",
       "4       398.410813       11.558279        31.997993   4.075075           0  \n",
       "...            ...             ...              ...        ...         ...  \n",
       "3271    526.424171       13.894419        66.687695   4.435821           1  \n",
       "3272    392.449580       19.903225              NaN   2.798243           1  \n",
       "3273    432.044783       11.039070        69.845400   3.298875           1  \n",
       "3274    402.883113       11.168946        77.488213   4.708658           1  \n",
       "3275    327.459760       16.140368        78.698446   2.309149           1  \n",
       "\n",
       "[3276 rows x 10 columns]"
      ]
     },
     "execution_count": 5,
     "metadata": {},
     "output_type": "execute_result"
    }
   ],
   "source": [
    "water"
   ]
  },
  {
   "cell_type": "code",
   "execution_count": 6,
   "metadata": {},
   "outputs": [],
   "source": [
    "seed_choice = 7\n",
    "seed = rand.Random(7)\n",
    "\n",
    "#Removing the NaN values for water data (only NaN values were in ph, sulfate and trihalomethanes)\n",
    "waternonan = psql.sqldf('select * from water where ph is not null and Sulfate is not null and Trihalomethanes is not null')"
   ]
  },
  {
   "cell_type": "code",
   "execution_count": 7,
   "metadata": {},
   "outputs": [
    {
     "data": {
      "text/html": [
       "<div>\n",
       "<style scoped>\n",
       "    .dataframe tbody tr th:only-of-type {\n",
       "        vertical-align: middle;\n",
       "    }\n",
       "\n",
       "    .dataframe tbody tr th {\n",
       "        vertical-align: top;\n",
       "    }\n",
       "\n",
       "    .dataframe thead th {\n",
       "        text-align: right;\n",
       "    }\n",
       "</style>\n",
       "<table border=\"1\" class=\"dataframe\">\n",
       "  <thead>\n",
       "    <tr style=\"text-align: right;\">\n",
       "      <th></th>\n",
       "      <th>ph</th>\n",
       "      <th>Hardness</th>\n",
       "      <th>Solids</th>\n",
       "      <th>Chloramines</th>\n",
       "      <th>Sulfate</th>\n",
       "      <th>Conductivity</th>\n",
       "      <th>Organic_carbon</th>\n",
       "      <th>Trihalomethanes</th>\n",
       "      <th>Turbidity</th>\n",
       "      <th>Potability</th>\n",
       "    </tr>\n",
       "  </thead>\n",
       "  <tbody>\n",
       "    <tr>\n",
       "      <th>1256</th>\n",
       "      <td>5.226895</td>\n",
       "      <td>127.117555</td>\n",
       "      <td>7907.330441</td>\n",
       "      <td>6.761929</td>\n",
       "      <td>335.461842</td>\n",
       "      <td>475.332357</td>\n",
       "      <td>12.725010</td>\n",
       "      <td>79.420013</td>\n",
       "      <td>5.138056</td>\n",
       "      <td>1</td>\n",
       "    </tr>\n",
       "    <tr>\n",
       "      <th>405</th>\n",
       "      <td>5.555353</td>\n",
       "      <td>154.300684</td>\n",
       "      <td>20503.430055</td>\n",
       "      <td>9.644997</td>\n",
       "      <td>313.470297</td>\n",
       "      <td>355.206968</td>\n",
       "      <td>18.468690</td>\n",
       "      <td>75.140362</td>\n",
       "      <td>4.536146</td>\n",
       "      <td>0</td>\n",
       "    </tr>\n",
       "    <tr>\n",
       "      <th>1600</th>\n",
       "      <td>4.137045</td>\n",
       "      <td>116.338278</td>\n",
       "      <td>17101.951569</td>\n",
       "      <td>8.652210</td>\n",
       "      <td>322.892252</td>\n",
       "      <td>360.648078</td>\n",
       "      <td>7.848313</td>\n",
       "      <td>70.977001</td>\n",
       "      <td>4.327356</td>\n",
       "      <td>0</td>\n",
       "    </tr>\n",
       "    <tr>\n",
       "      <th>1984</th>\n",
       "      <td>5.713323</td>\n",
       "      <td>196.245706</td>\n",
       "      <td>11356.580481</td>\n",
       "      <td>8.027819</td>\n",
       "      <td>347.587583</td>\n",
       "      <td>300.125125</td>\n",
       "      <td>18.430084</td>\n",
       "      <td>44.860351</td>\n",
       "      <td>4.571128</td>\n",
       "      <td>1</td>\n",
       "    </tr>\n",
       "    <tr>\n",
       "      <th>1948</th>\n",
       "      <td>7.027297</td>\n",
       "      <td>185.838671</td>\n",
       "      <td>31151.615179</td>\n",
       "      <td>7.625545</td>\n",
       "      <td>327.221734</td>\n",
       "      <td>398.705017</td>\n",
       "      <td>19.461464</td>\n",
       "      <td>80.693568</td>\n",
       "      <td>3.392666</td>\n",
       "      <td>1</td>\n",
       "    </tr>\n",
       "    <tr>\n",
       "      <th>...</th>\n",
       "      <td>...</td>\n",
       "      <td>...</td>\n",
       "      <td>...</td>\n",
       "      <td>...</td>\n",
       "      <td>...</td>\n",
       "      <td>...</td>\n",
       "      <td>...</td>\n",
       "      <td>...</td>\n",
       "      <td>...</td>\n",
       "      <td>...</td>\n",
       "    </tr>\n",
       "    <tr>\n",
       "      <th>306</th>\n",
       "      <td>7.705711</td>\n",
       "      <td>178.922858</td>\n",
       "      <td>18476.619166</td>\n",
       "      <td>8.226228</td>\n",
       "      <td>334.889911</td>\n",
       "      <td>518.043369</td>\n",
       "      <td>10.638798</td>\n",
       "      <td>63.157489</td>\n",
       "      <td>3.861956</td>\n",
       "      <td>0</td>\n",
       "    </tr>\n",
       "    <tr>\n",
       "      <th>494</th>\n",
       "      <td>4.666148</td>\n",
       "      <td>171.288700</td>\n",
       "      <td>35680.067877</td>\n",
       "      <td>4.894374</td>\n",
       "      <td>314.613851</td>\n",
       "      <td>501.902864</td>\n",
       "      <td>14.210624</td>\n",
       "      <td>56.910254</td>\n",
       "      <td>4.556864</td>\n",
       "      <td>1</td>\n",
       "    </tr>\n",
       "    <tr>\n",
       "      <th>917</th>\n",
       "      <td>5.289618</td>\n",
       "      <td>194.056393</td>\n",
       "      <td>21776.170174</td>\n",
       "      <td>6.278293</td>\n",
       "      <td>359.099733</td>\n",
       "      <td>353.772930</td>\n",
       "      <td>14.181471</td>\n",
       "      <td>33.592031</td>\n",
       "      <td>4.548100</td>\n",
       "      <td>1</td>\n",
       "    </tr>\n",
       "    <tr>\n",
       "      <th>501</th>\n",
       "      <td>6.435723</td>\n",
       "      <td>214.724669</td>\n",
       "      <td>9363.853988</td>\n",
       "      <td>9.997624</td>\n",
       "      <td>273.463139</td>\n",
       "      <td>508.345207</td>\n",
       "      <td>12.925870</td>\n",
       "      <td>71.428590</td>\n",
       "      <td>4.925339</td>\n",
       "      <td>1</td>\n",
       "    </tr>\n",
       "    <tr>\n",
       "      <th>64</th>\n",
       "      <td>7.875895</td>\n",
       "      <td>226.284788</td>\n",
       "      <td>12710.249452</td>\n",
       "      <td>7.303127</td>\n",
       "      <td>346.403258</td>\n",
       "      <td>445.374147</td>\n",
       "      <td>6.063462</td>\n",
       "      <td>63.128044</td>\n",
       "      <td>4.238589</td>\n",
       "      <td>0</td>\n",
       "    </tr>\n",
       "  </tbody>\n",
       "</table>\n",
       "<p>2011 rows × 10 columns</p>\n",
       "</div>"
      ],
      "text/plain": [
       "            ph    Hardness        Solids  Chloramines     Sulfate  \\\n",
       "1256  5.226895  127.117555   7907.330441     6.761929  335.461842   \n",
       "405   5.555353  154.300684  20503.430055     9.644997  313.470297   \n",
       "1600  4.137045  116.338278  17101.951569     8.652210  322.892252   \n",
       "1984  5.713323  196.245706  11356.580481     8.027819  347.587583   \n",
       "1948  7.027297  185.838671  31151.615179     7.625545  327.221734   \n",
       "...        ...         ...           ...          ...         ...   \n",
       "306   7.705711  178.922858  18476.619166     8.226228  334.889911   \n",
       "494   4.666148  171.288700  35680.067877     4.894374  314.613851   \n",
       "917   5.289618  194.056393  21776.170174     6.278293  359.099733   \n",
       "501   6.435723  214.724669   9363.853988     9.997624  273.463139   \n",
       "64    7.875895  226.284788  12710.249452     7.303127  346.403258   \n",
       "\n",
       "      Conductivity  Organic_carbon  Trihalomethanes  Turbidity  Potability  \n",
       "1256    475.332357       12.725010        79.420013   5.138056           1  \n",
       "405     355.206968       18.468690        75.140362   4.536146           0  \n",
       "1600    360.648078        7.848313        70.977001   4.327356           0  \n",
       "1984    300.125125       18.430084        44.860351   4.571128           1  \n",
       "1948    398.705017       19.461464        80.693568   3.392666           1  \n",
       "...            ...             ...              ...        ...         ...  \n",
       "306     518.043369       10.638798        63.157489   3.861956           0  \n",
       "494     501.902864       14.210624        56.910254   4.556864           1  \n",
       "917     353.772930       14.181471        33.592031   4.548100           1  \n",
       "501     508.345207       12.925870        71.428590   4.925339           1  \n",
       "64      445.374147        6.063462        63.128044   4.238589           0  \n",
       "\n",
       "[2011 rows x 10 columns]"
      ]
     },
     "execution_count": 7,
     "metadata": {},
     "output_type": "execute_result"
    }
   ],
   "source": [
    "#shuffling data\n",
    "waternonan = waternonan.sample(frac=1)\n",
    "\n",
    "waternonan"
   ]
  },
  {
   "cell_type": "code",
   "execution_count": 8,
   "metadata": {},
   "outputs": [
    {
     "name": "stdout",
     "output_type": "stream",
     "text": [
      "0\n"
     ]
    }
   ],
   "source": [
    "#checking no NaN anywhere\n",
    "check_nan = waternonan['ph' or 'Trihalomethanes' or 'Hardness' or 'Solids' or 'Chloramines' or 'Sulfate' or 'Conductivity' or 'Organic_carbon' or 'Turbidity' or 'Potability'].isnull().sum()\n",
    "print(check_nan)"
   ]
  },
  {
   "cell_type": "code",
   "execution_count": 9,
   "metadata": {},
   "outputs": [],
   "source": [
    "#data visualisation\n",
    "import matplotlib.pyplot as plt\n",
    "import numpy as np"
   ]
  },
  {
   "cell_type": "code",
   "execution_count": 10,
   "metadata": {},
   "outputs": [],
   "source": [
    "#plt.hist(waternonan.ph)"
   ]
  },
  {
   "cell_type": "code",
   "execution_count": 11,
   "metadata": {},
   "outputs": [],
   "source": [
    "#plt.hist(waternonan.Trihalomethanes)\n"
   ]
  },
  {
   "cell_type": "code",
   "execution_count": 11,
   "metadata": {},
   "outputs": [],
   "source": [
    "#plt.hist(waternonan.Hardness)\n"
   ]
  },
  {
   "cell_type": "code",
   "execution_count": 12,
   "metadata": {},
   "outputs": [],
   "source": [
    "#plt.hist(waternonan.Solids)\n"
   ]
  },
  {
   "cell_type": "code",
   "execution_count": 13,
   "metadata": {},
   "outputs": [],
   "source": [
    "#plt.hist(waternonan.Chloramines)\n"
   ]
  },
  {
   "cell_type": "code",
   "execution_count": 14,
   "metadata": {},
   "outputs": [],
   "source": [
    "#plt.hist(waternonan.Sulfate)\n"
   ]
  },
  {
   "cell_type": "code",
   "execution_count": 15,
   "metadata": {},
   "outputs": [],
   "source": [
    "#plt.hist(waternonan.Conductivity)\n"
   ]
  },
  {
   "cell_type": "code",
   "execution_count": 16,
   "metadata": {},
   "outputs": [],
   "source": [
    "#plt.hist(waternonan.Organic_carbon)\n"
   ]
  },
  {
   "cell_type": "code",
   "execution_count": 17,
   "metadata": {},
   "outputs": [],
   "source": [
    "#plt.hist(waternonan.Turbidity)\n"
   ]
  },
  {
   "cell_type": "code",
   "execution_count": 18,
   "metadata": {},
   "outputs": [],
   "source": [
    "#plt.hist(waternonan.Potability)"
   ]
  },
  {
   "cell_type": "code",
   "execution_count": 12,
   "metadata": {},
   "outputs": [],
   "source": [
    "#corellation heat map\n",
    "import seaborn as sns"
   ]
  },
  {
   "cell_type": "code",
   "execution_count": 13,
   "metadata": {},
   "outputs": [
    {
     "data": {
      "text/plain": [
       "<AxesSubplot:>"
      ]
     },
     "execution_count": 13,
     "metadata": {},
     "output_type": "execute_result"
    },
    {
     "data": {
      "image/png": "[encoded data removed]",
      "text/plain": [
       "<Figure size 432x288 with 2 Axes>"
      ]
     },
     "metadata": {
      "needs_background": "light"
     },
     "output_type": "display_data"
    }
   ],
   "source": [
    "sns.heatmap(waternonan.corr())\n",
    "#Upshot: not many extraneous variables"
   ]
  },
  {
   "cell_type": "code",
   "execution_count": 14,
   "metadata": {},
   "outputs": [],
   "source": [
    "#Creating test-train split in data\n",
    "import random as rand\n"
   ]
  },
  {
   "cell_type": "code",
   "execution_count": 15,
   "metadata": {},
   "outputs": [
    {
     "data": {
      "text/html": [
       "<div>\n",
       "<style scoped>\n",
       "    .dataframe tbody tr th:only-of-type {\n",
       "        vertical-align: middle;\n",
       "    }\n",
       "\n",
       "    .dataframe tbody tr th {\n",
       "        vertical-align: top;\n",
       "    }\n",
       "\n",
       "    .dataframe thead th {\n",
       "        text-align: right;\n",
       "    }\n",
       "</style>\n",
       "<table border=\"1\" class=\"dataframe\">\n",
       "  <thead>\n",
       "    <tr style=\"text-align: right;\">\n",
       "      <th></th>\n",
       "      <th>ph</th>\n",
       "      <th>Hardness</th>\n",
       "      <th>Solids</th>\n",
       "      <th>Chloramines</th>\n",
       "      <th>Sulfate</th>\n",
       "      <th>Conductivity</th>\n",
       "      <th>Organic_carbon</th>\n",
       "      <th>Trihalomethanes</th>\n",
       "      <th>Turbidity</th>\n",
       "      <th>Potability</th>\n",
       "    </tr>\n",
       "  </thead>\n",
       "  <tbody>\n",
       "    <tr>\n",
       "      <th>800</th>\n",
       "      <td>7.086877</td>\n",
       "      <td>192.387368</td>\n",
       "      <td>25524.823470</td>\n",
       "      <td>7.354035</td>\n",
       "      <td>322.740031</td>\n",
       "      <td>548.917718</td>\n",
       "      <td>14.524408</td>\n",
       "      <td>64.124391</td>\n",
       "      <td>3.992848</td>\n",
       "      <td>0</td>\n",
       "    </tr>\n",
       "    <tr>\n",
       "      <th>339</th>\n",
       "      <td>5.906442</td>\n",
       "      <td>177.891369</td>\n",
       "      <td>27296.294045</td>\n",
       "      <td>8.869268</td>\n",
       "      <td>312.015798</td>\n",
       "      <td>385.812818</td>\n",
       "      <td>13.938686</td>\n",
       "      <td>60.613795</td>\n",
       "      <td>4.807496</td>\n",
       "      <td>0</td>\n",
       "    </tr>\n",
       "    <tr>\n",
       "      <th>1966</th>\n",
       "      <td>6.682097</td>\n",
       "      <td>228.303186</td>\n",
       "      <td>7705.298605</td>\n",
       "      <td>5.947350</td>\n",
       "      <td>363.536984</td>\n",
       "      <td>254.392306</td>\n",
       "      <td>13.140440</td>\n",
       "      <td>64.783954</td>\n",
       "      <td>3.449829</td>\n",
       "      <td>1</td>\n",
       "    </tr>\n",
       "    <tr>\n",
       "      <th>1063</th>\n",
       "      <td>5.345345</td>\n",
       "      <td>238.510230</td>\n",
       "      <td>10315.353973</td>\n",
       "      <td>7.822601</td>\n",
       "      <td>281.771707</td>\n",
       "      <td>496.350875</td>\n",
       "      <td>12.624613</td>\n",
       "      <td>87.342833</td>\n",
       "      <td>2.362886</td>\n",
       "      <td>0</td>\n",
       "    </tr>\n",
       "    <tr>\n",
       "      <th>530</th>\n",
       "      <td>7.685397</td>\n",
       "      <td>230.335708</td>\n",
       "      <td>7324.701425</td>\n",
       "      <td>7.991366</td>\n",
       "      <td>331.512533</td>\n",
       "      <td>492.850391</td>\n",
       "      <td>14.233952</td>\n",
       "      <td>74.068658</td>\n",
       "      <td>4.179187</td>\n",
       "      <td>0</td>\n",
       "    </tr>\n",
       "    <tr>\n",
       "      <th>...</th>\n",
       "      <td>...</td>\n",
       "      <td>...</td>\n",
       "      <td>...</td>\n",
       "      <td>...</td>\n",
       "      <td>...</td>\n",
       "      <td>...</td>\n",
       "      <td>...</td>\n",
       "      <td>...</td>\n",
       "      <td>...</td>\n",
       "      <td>...</td>\n",
       "    </tr>\n",
       "    <tr>\n",
       "      <th>11</th>\n",
       "      <td>6.660212</td>\n",
       "      <td>168.283747</td>\n",
       "      <td>30944.363591</td>\n",
       "      <td>5.858769</td>\n",
       "      <td>310.930858</td>\n",
       "      <td>523.671298</td>\n",
       "      <td>17.884235</td>\n",
       "      <td>77.042318</td>\n",
       "      <td>3.749701</td>\n",
       "      <td>0</td>\n",
       "    </tr>\n",
       "    <tr>\n",
       "      <th>1593</th>\n",
       "      <td>8.466013</td>\n",
       "      <td>224.174936</td>\n",
       "      <td>22523.124552</td>\n",
       "      <td>6.668868</td>\n",
       "      <td>286.943922</td>\n",
       "      <td>330.044715</td>\n",
       "      <td>17.744096</td>\n",
       "      <td>77.817804</td>\n",
       "      <td>3.946621</td>\n",
       "      <td>0</td>\n",
       "    </tr>\n",
       "    <tr>\n",
       "      <th>1015</th>\n",
       "      <td>6.980062</td>\n",
       "      <td>164.127180</td>\n",
       "      <td>17625.466412</td>\n",
       "      <td>6.479558</td>\n",
       "      <td>372.748319</td>\n",
       "      <td>492.703416</td>\n",
       "      <td>11.665753</td>\n",
       "      <td>48.710293</td>\n",
       "      <td>3.969463</td>\n",
       "      <td>0</td>\n",
       "    </tr>\n",
       "    <tr>\n",
       "      <th>1348</th>\n",
       "      <td>8.616824</td>\n",
       "      <td>228.762945</td>\n",
       "      <td>19126.298537</td>\n",
       "      <td>7.017578</td>\n",
       "      <td>327.894821</td>\n",
       "      <td>383.527023</td>\n",
       "      <td>14.759257</td>\n",
       "      <td>41.275927</td>\n",
       "      <td>4.584566</td>\n",
       "      <td>0</td>\n",
       "    </tr>\n",
       "    <tr>\n",
       "      <th>1904</th>\n",
       "      <td>9.172625</td>\n",
       "      <td>165.687548</td>\n",
       "      <td>11319.106232</td>\n",
       "      <td>6.618853</td>\n",
       "      <td>372.554713</td>\n",
       "      <td>420.429110</td>\n",
       "      <td>13.353259</td>\n",
       "      <td>72.974051</td>\n",
       "      <td>3.686395</td>\n",
       "      <td>0</td>\n",
       "    </tr>\n",
       "  </tbody>\n",
       "</table>\n",
       "<p>1609 rows × 10 columns</p>\n",
       "</div>"
      ],
      "text/plain": [
       "            ph    Hardness        Solids  Chloramines     Sulfate  \\\n",
       "800   7.086877  192.387368  25524.823470     7.354035  322.740031   \n",
       "339   5.906442  177.891369  27296.294045     8.869268  312.015798   \n",
       "1966  6.682097  228.303186   7705.298605     5.947350  363.536984   \n",
       "1063  5.345345  238.510230  10315.353973     7.822601  281.771707   \n",
       "530   7.685397  230.335708   7324.701425     7.991366  331.512533   \n",
       "...        ...         ...           ...          ...         ...   \n",
       "11    6.660212  168.283747  30944.363591     5.858769  310.930858   \n",
       "1593  8.466013  224.174936  22523.124552     6.668868  286.943922   \n",
       "1015  6.980062  164.127180  17625.466412     6.479558  372.748319   \n",
       "1348  8.616824  228.762945  19126.298537     7.017578  327.894821   \n",
       "1904  9.172625  165.687548  11319.106232     6.618853  372.554713   \n",
       "\n",
       "      Conductivity  Organic_carbon  Trihalomethanes  Turbidity  Potability  \n",
       "800     548.917718       14.524408        64.124391   3.992848           0  \n",
       "339     385.812818       13.938686        60.613795   4.807496           0  \n",
       "1966    254.392306       13.140440        64.783954   3.449829           1  \n",
       "1063    496.350875       12.624613        87.342833   2.362886           0  \n",
       "530     492.850391       14.233952        74.068658   4.179187           0  \n",
       "...            ...             ...              ...        ...         ...  \n",
       "11      523.671298       17.884235        77.042318   3.749701           0  \n",
       "1593    330.044715       17.744096        77.817804   3.946621           0  \n",
       "1015    492.703416       11.665753        48.710293   3.969463           0  \n",
       "1348    383.527023       14.759257        41.275927   4.584566           0  \n",
       "1904    420.429110       13.353259        72.974051   3.686395           0  \n",
       "\n",
       "[1609 rows x 10 columns]"
      ]
     },
     "execution_count": 15,
     "metadata": {},
     "output_type": "execute_result"
    }
   ],
   "source": [
    "# 80-20 split training data\n",
    "index_list = seed.sample(range(2010), 1609)\n",
    "train_set = waternonan.iloc[index_list]\n",
    "train_set"
   ]
  },
  {
   "cell_type": "code",
   "execution_count": 16,
   "metadata": {},
   "outputs": [
    {
     "data": {
      "text/html": [
       "<div>\n",
       "<style scoped>\n",
       "    .dataframe tbody tr th:only-of-type {\n",
       "        vertical-align: middle;\n",
       "    }\n",
       "\n",
       "    .dataframe tbody tr th {\n",
       "        vertical-align: top;\n",
       "    }\n",
       "\n",
       "    .dataframe thead th {\n",
       "        text-align: right;\n",
       "    }\n",
       "</style>\n",
       "<table border=\"1\" class=\"dataframe\">\n",
       "  <thead>\n",
       "    <tr style=\"text-align: right;\">\n",
       "      <th></th>\n",
       "      <th>ph</th>\n",
       "      <th>Hardness</th>\n",
       "      <th>Solids</th>\n",
       "      <th>Chloramines</th>\n",
       "      <th>Sulfate</th>\n",
       "      <th>Conductivity</th>\n",
       "      <th>Organic_carbon</th>\n",
       "      <th>Trihalomethanes</th>\n",
       "      <th>Turbidity</th>\n",
       "      <th>Potability</th>\n",
       "    </tr>\n",
       "  </thead>\n",
       "  <tbody>\n",
       "    <tr>\n",
       "      <th>662</th>\n",
       "      <td>6.664935</td>\n",
       "      <td>218.770008</td>\n",
       "      <td>16477.350806</td>\n",
       "      <td>7.325001</td>\n",
       "      <td>299.846523</td>\n",
       "      <td>412.308588</td>\n",
       "      <td>17.192685</td>\n",
       "      <td>41.035789</td>\n",
       "      <td>4.502138</td>\n",
       "      <td>0</td>\n",
       "    </tr>\n",
       "    <tr>\n",
       "      <th>1852</th>\n",
       "      <td>10.337671</td>\n",
       "      <td>163.276225</td>\n",
       "      <td>21820.295875</td>\n",
       "      <td>7.899521</td>\n",
       "      <td>356.179637</td>\n",
       "      <td>561.206238</td>\n",
       "      <td>14.116324</td>\n",
       "      <td>56.193061</td>\n",
       "      <td>5.063109</td>\n",
       "      <td>0</td>\n",
       "    </tr>\n",
       "    <tr>\n",
       "      <th>904</th>\n",
       "      <td>7.583770</td>\n",
       "      <td>217.283262</td>\n",
       "      <td>36343.407055</td>\n",
       "      <td>8.532726</td>\n",
       "      <td>375.964391</td>\n",
       "      <td>393.877683</td>\n",
       "      <td>17.442301</td>\n",
       "      <td>77.722257</td>\n",
       "      <td>3.642289</td>\n",
       "      <td>0</td>\n",
       "    </tr>\n",
       "    <tr>\n",
       "      <th>1718</th>\n",
       "      <td>7.893313</td>\n",
       "      <td>220.348320</td>\n",
       "      <td>14444.289598</td>\n",
       "      <td>8.037400</td>\n",
       "      <td>300.152172</td>\n",
       "      <td>339.066071</td>\n",
       "      <td>18.423634</td>\n",
       "      <td>67.009098</td>\n",
       "      <td>4.097360</td>\n",
       "      <td>1</td>\n",
       "    </tr>\n",
       "    <tr>\n",
       "      <th>1499</th>\n",
       "      <td>5.896432</td>\n",
       "      <td>165.135658</td>\n",
       "      <td>23022.168945</td>\n",
       "      <td>7.536806</td>\n",
       "      <td>356.756191</td>\n",
       "      <td>401.740921</td>\n",
       "      <td>18.363573</td>\n",
       "      <td>80.124746</td>\n",
       "      <td>4.280793</td>\n",
       "      <td>1</td>\n",
       "    </tr>\n",
       "    <tr>\n",
       "      <th>...</th>\n",
       "      <td>...</td>\n",
       "      <td>...</td>\n",
       "      <td>...</td>\n",
       "      <td>...</td>\n",
       "      <td>...</td>\n",
       "      <td>...</td>\n",
       "      <td>...</td>\n",
       "      <td>...</td>\n",
       "      <td>...</td>\n",
       "      <td>...</td>\n",
       "    </tr>\n",
       "    <tr>\n",
       "      <th>870</th>\n",
       "      <td>3.590822</td>\n",
       "      <td>213.702299</td>\n",
       "      <td>33431.671122</td>\n",
       "      <td>5.542364</td>\n",
       "      <td>308.380612</td>\n",
       "      <td>465.630119</td>\n",
       "      <td>18.126924</td>\n",
       "      <td>50.081054</td>\n",
       "      <td>4.144781</td>\n",
       "      <td>0</td>\n",
       "    </tr>\n",
       "    <tr>\n",
       "      <th>60</th>\n",
       "      <td>8.490572</td>\n",
       "      <td>204.123648</td>\n",
       "      <td>22989.796390</td>\n",
       "      <td>8.270793</td>\n",
       "      <td>358.847115</td>\n",
       "      <td>435.000898</td>\n",
       "      <td>17.084246</td>\n",
       "      <td>62.421637</td>\n",
       "      <td>3.875557</td>\n",
       "      <td>0</td>\n",
       "    </tr>\n",
       "    <tr>\n",
       "      <th>447</th>\n",
       "      <td>8.129342</td>\n",
       "      <td>211.123312</td>\n",
       "      <td>22982.927445</td>\n",
       "      <td>6.779005</td>\n",
       "      <td>326.397953</td>\n",
       "      <td>367.988784</td>\n",
       "      <td>13.910933</td>\n",
       "      <td>55.795357</td>\n",
       "      <td>4.822044</td>\n",
       "      <td>1</td>\n",
       "    </tr>\n",
       "    <tr>\n",
       "      <th>501</th>\n",
       "      <td>6.435723</td>\n",
       "      <td>214.724669</td>\n",
       "      <td>9363.853988</td>\n",
       "      <td>9.997624</td>\n",
       "      <td>273.463139</td>\n",
       "      <td>508.345207</td>\n",
       "      <td>12.925870</td>\n",
       "      <td>71.428590</td>\n",
       "      <td>4.925339</td>\n",
       "      <td>1</td>\n",
       "    </tr>\n",
       "    <tr>\n",
       "      <th>64</th>\n",
       "      <td>7.875895</td>\n",
       "      <td>226.284788</td>\n",
       "      <td>12710.249452</td>\n",
       "      <td>7.303127</td>\n",
       "      <td>346.403258</td>\n",
       "      <td>445.374147</td>\n",
       "      <td>6.063462</td>\n",
       "      <td>63.128044</td>\n",
       "      <td>4.238589</td>\n",
       "      <td>0</td>\n",
       "    </tr>\n",
       "  </tbody>\n",
       "</table>\n",
       "<p>402 rows × 10 columns</p>\n",
       "</div>"
      ],
      "text/plain": [
       "             ph    Hardness        Solids  Chloramines     Sulfate  \\\n",
       "662    6.664935  218.770008  16477.350806     7.325001  299.846523   \n",
       "1852  10.337671  163.276225  21820.295875     7.899521  356.179637   \n",
       "904    7.583770  217.283262  36343.407055     8.532726  375.964391   \n",
       "1718   7.893313  220.348320  14444.289598     8.037400  300.152172   \n",
       "1499   5.896432  165.135658  23022.168945     7.536806  356.756191   \n",
       "...         ...         ...           ...          ...         ...   \n",
       "870    3.590822  213.702299  33431.671122     5.542364  308.380612   \n",
       "60     8.490572  204.123648  22989.796390     8.270793  358.847115   \n",
       "447    8.129342  211.123312  22982.927445     6.779005  326.397953   \n",
       "501    6.435723  214.724669   9363.853988     9.997624  273.463139   \n",
       "64     7.875895  226.284788  12710.249452     7.303127  346.403258   \n",
       "\n",
       "      Conductivity  Organic_carbon  Trihalomethanes  Turbidity  Potability  \n",
       "662     412.308588       17.192685        41.035789   4.502138           0  \n",
       "1852    561.206238       14.116324        56.193061   5.063109           0  \n",
       "904     393.877683       17.442301        77.722257   3.642289           0  \n",
       "1718    339.066071       18.423634        67.009098   4.097360           1  \n",
       "1499    401.740921       18.363573        80.124746   4.280793           1  \n",
       "...            ...             ...              ...        ...         ...  \n",
       "870     465.630119       18.126924        50.081054   4.144781           0  \n",
       "60      435.000898       17.084246        62.421637   3.875557           0  \n",
       "447     367.988784       13.910933        55.795357   4.822044           1  \n",
       "501     508.345207       12.925870        71.428590   4.925339           1  \n",
       "64      445.374147        6.063462        63.128044   4.238589           0  \n",
       "\n",
       "[402 rows x 10 columns]"
      ]
     },
     "execution_count": 16,
     "metadata": {},
     "output_type": "execute_result"
    }
   ],
   "source": [
    "# test data\n",
    "test_data = waternonan.iloc[waternonan.index.difference(index_list)]\n",
    "test_data"
   ]
  },
  {
   "cell_type": "code",
   "execution_count": 17,
   "metadata": {},
   "outputs": [],
   "source": [
    "#starting the pipeline\n",
    "# preprocessing\n",
    "from sklearn.preprocessing import Normalizer, StandardScaler, MinMaxScaler, PowerTransformer, MaxAbsScaler, LabelEncoder, QuantileTransformer, RobustScaler\n",
    "from sklearn.feature_selection import VarianceThreshold, SelectFpr, f_classif\n",
    "from sklearn.impute import SimpleImputer\n",
    "\n",
    "\n",
    "# model training/tuning\n",
    "from sklearn.pipeline import Pipeline, make_pipeline \n",
    "from sklearn.model_selection import train_test_split, GridSearchCV \n",
    "from sklearn.dummy import DummyClassifier\n",
    "from sklearn.compose import ColumnTransformer\n",
    "\n",
    "\n",
    "# models\n",
    "from sklearn.neighbors import KNeighborsClassifier \n",
    "from sklearn.linear_model import LogisticRegression\n",
    "from sklearn.naive_bayes import GaussianNB\n",
    "from sklearn.ensemble import RandomForestClassifier, GradientBoostingClassifier\n",
    "\n",
    "# model validation\n",
    "from sklearn.metrics import confusion_matrix, ConfusionMatrixDisplay, classification_report, recall_score, accuracy_score, make_scorer\n",
    "\n",
    "\n",
    "# dataframe viewing rows\n",
    "pd.set_option('display.max_rows', 100)"
   ]
  },
  {
   "cell_type": "code",
   "execution_count": 18,
   "metadata": {},
   "outputs": [],
   "source": [
    "feature_list = ['ph', # indicate ph\n",
    "                'Hardness', # indicates hardness\n",
    "                'Solids', # indicates solids\n",
    "                'Chloramines', # indicates Chloramines\n",
    "                'Sulfate', # indicates Sulfate\n",
    "                'Conductivity', # indicates Conductivity\n",
    "                'Organic_carbon', # indicates Organic_carbon\n",
    "                'Trihalomethanes', # indicates Trihalomethanes\n",
    "                'Turbidity'] # indicates Turbidity"
   ]
  },
  {
   "cell_type": "code",
   "execution_count": 19,
   "metadata": {},
   "outputs": [],
   "source": [
    "# define feature column data, list of features feature_list was created in the section above\n",
    "X = waternonan[feature_list].values\n",
    "\n",
    "# define label column\n",
    "y = waternonan['Potability'].values"
   ]
  },
  {
   "cell_type": "code",
   "execution_count": 45,
   "metadata": {},
   "outputs": [],
   "source": [
    "# make 75/25 train/test split, stratified because I have imbalanced label\n",
    "X_train, X_test, y_train, y_test = train_test_split(X, y, stratify=y, test_size=0.2, random_state=seed_choice)"
   ]
  },
  {
   "cell_type": "code",
   "execution_count": 21,
   "metadata": {
    "scrolled": true
   },
   "outputs": [
    {
     "name": "stdout",
     "output_type": "stream",
     "text": [
      "(1608, 9)\n",
      "(403, 9)\n",
      "(1608,)\n",
      "(403,)\n"
     ]
    }
   ],
   "source": [
    "# check size of data splits\n",
    "print(X_train.shape)\n",
    "print(X_test.shape)\n",
    "print(y_train.shape)\n",
    "print(y_test.shape)"
   ]
  },
  {
   "cell_type": "code",
   "execution_count": 22,
   "metadata": {},
   "outputs": [],
   "source": [
    "# Define scaler step of pipeline\n",
    "scaler = Normalizer()"
   ]
  },
  {
   "cell_type": "code",
   "execution_count": 23,
   "metadata": {},
   "outputs": [],
   "source": [
    "# Define machine learning models\n",
    "\n",
    "# Logistic Regression:\n",
    "lr = LogisticRegression(random_state=seed_choice)\n",
    "\n",
    "# K-nearest Neighbors:\n",
    "knn = KNeighborsClassifier(n_neighbors=5)\n",
    "\n",
    "# Naive Bayes:\n",
    "nb = GaussianNB()\n",
    "\n",
    "# Random Forest:\n",
    "rf = RandomForestClassifier(random_state=seed_choice, n_estimators=5, max_depth=10, min_samples_split=10, max_leaf_nodes=13)\n",
    "\n",
    "# Gradient Boosted Trees:\n",
    "gb = GradientBoostingClassifier()\n",
    "\n",
    "# select model to train:\n",
    "model_name = rf"
   ]
  },
  {
   "cell_type": "code",
   "execution_count": 24,
   "metadata": {},
   "outputs": [],
   "source": [
    "# define function to get model metrics\n",
    "def model_metrics(predictions, pipe):\n",
    "    \n",
    "    # print summary statistics\n",
    "    print('Training set score: ' + str(pipe.score(X_train,y_train)))\n",
    "    print('Test set score: ' + str(pipe.score(X_test,y_test)))\n",
    "    print(classification_report(y_test, predictions, digits=5))\n",
    "\n",
    "    # plot confusion matrix\n",
    "    cm = confusion_matrix(y_test, predictions, normalize='all')\n",
    "    print(cm)\n",
    "    disp_cm = ConfusionMatrixDisplay(confusion_matrix=cm, display_labels=pipe.classes_)\n",
    "    disp_cm.plot()"
   ]
  },
  {
   "cell_type": "code",
   "execution_count": 25,
   "metadata": {},
   "outputs": [
    {
     "name": "stdout",
     "output_type": "stream",
     "text": [
      "Training set score: 0.6648009950248757\n",
      "Test set score: 0.6104218362282878\n",
      "              precision    recall  f1-score   support\n",
      "\n",
      "           0    0.00000   0.00000   0.00000       240\n",
      "           1    0.40447   1.00000   0.57597       163\n",
      "\n",
      "    accuracy                        0.40447       403\n",
      "   macro avg    0.20223   0.50000   0.28799       403\n",
      "weighted avg    0.16359   0.40447   0.23296       403\n",
      "\n",
      "[1 1 1 1 1 1 1 1 1 1 1 1 1 1 1 1 1 1 1 1 1 1 1 1 1 1 1 1 1 1 1 1 1 1 1 1 1\n",
      " 1 1 1 1 1 1 1 1 1 1 1 1 1 1 1 1 1 1 1 1 1 1 1 1 1 1 1 1 1 1 1 1 1 1 1 1 1\n",
      " 1 1 1 1 1 1 1 1 1 1 1 1 1 1 1 1 1 1 1 1 1 1 1 1 1 1 1 1 1 1 1 1 1 1 1 1 1\n",
      " 1 1 1 1 1 1 1 1 1 1 1 1 1 1 1 1 1 1 1 1 1 1 1 1 1 1 1 1 1 1 1 1 1 1 1 1 1\n",
      " 1 1 1 1 1 1 1 1 1 1 1 1 1 1 1 1 1 1 1 1 1 1 1 1 1 1 1 1 1 1 1 1 1 1 1 1 1\n",
      " 1 1 1 1 1 1 1 1 1 1 1 1 1 1 1 1 1 1 1 1 1 1 1 1 1 1 1 1 1 1 1 1 1 1 1 1 1\n",
      " 1 1 1 1 1 1 1 1 1 1 1 1 1 1 1 1 1 1 1 1 1 1 1 1 1 1 1 1 1 1 1 1 1 1 1 1 1\n",
      " 1 1 1 1 1 1 1 1 1 1 1 1 1 1 1 1 1 1 1 1 1 1 1 1 1 1 1 1 1 1 1 1 1 1 1 1 1\n",
      " 1 1 1 1 1 1 1 1 1 1 1 1 1 1 1 1 1 1 1 1 1 1 1 1 1 1 1 1 1 1 1 1 1 1 1 1 1\n",
      " 1 1 1 1 1 1 1 1 1 1 1 1 1 1 1 1 1 1 1 1 1 1 1 1 1 1 1 1 1 1 1 1 1 1 1 1 1\n",
      " 1 1 1 1 1 1 1 1 1 1 1 1 1 1 1 1 1 1 1 1 1 1 1 1 1 1 1 1 1 1 1 1 1]\n",
      "[[0.        0.5955335]\n",
      " [0.        0.4044665]]\n"
     ]
    },
    {
     "name": "stderr",
     "output_type": "stream",
     "text": [
      "/Users/lachlan/opt/anaconda3/lib/python3.8/site-packages/sklearn/metrics/_classification.py:1471: UndefinedMetricWarning: Precision and F-score are ill-defined and being set to 0.0 in labels with no predicted samples. Use `zero_division` parameter to control this behavior.\n",
      "  _warn_prf(average, modifier, msg_start, len(result))\n",
      "/Users/lachlan/opt/anaconda3/lib/python3.8/site-packages/sklearn/metrics/_classification.py:1471: UndefinedMetricWarning: Precision and F-score are ill-defined and being set to 0.0 in labels with no predicted samples. Use `zero_division` parameter to control this behavior.\n",
      "  _warn_prf(average, modifier, msg_start, len(result))\n",
      "/Users/lachlan/opt/anaconda3/lib/python3.8/site-packages/sklearn/metrics/_classification.py:1471: UndefinedMetricWarning: Precision and F-score are ill-defined and being set to 0.0 in labels with no predicted samples. Use `zero_division` parameter to control this behavior.\n",
      "  _warn_prf(average, modifier, msg_start, len(result))\n"
     ]
    },
    {
     "data": {
      "text/plain": [
       "<sklearn.metrics._plot.confusion_matrix.ConfusionMatrixDisplay at 0x7ff74e7683a0>"
      ]
     },
     "execution_count": 25,
     "metadata": {},
     "output_type": "execute_result"
    },
    {
     "data": {
      "image/png": "[encoded data removed]",
      "text/plain": [
       "<Figure size 432x288 with 2 Axes>"
      ]
     },
     "metadata": {
      "needs_background": "light"
     },
     "output_type": "display_data"
    }
   ],
   "source": [
    "# make pipeline steps\n",
    "pipe = make_pipeline(scaler,model_name)\n",
    "\n",
    "# fit data to model\n",
    "pipe.fit(X_train, y_train)\n",
    "\n",
    "# save predictions on test set\n",
    "predictions = model_name.predict(X_test)\n",
    "\n",
    "# print summary statistics\n",
    "print('Training set score: ' + str(pipe.score(X_train,y_train)))\n",
    "print('Test set score: ' + str(pipe.score(X_test,y_test)))\n",
    "print(classification_report(y_test, predictions, digits=5))\n",
    "print(predictions)\n",
    "\n",
    "# plot confusion matrix\n",
    "cm = confusion_matrix(y_test, predictions, normalize='all')\n",
    "print(cm)\n",
    "\n",
    "ConfusionMatrixDisplay(confusion_matrix=cm).plot()"
   ]
  },
  {
   "cell_type": "code",
   "execution_count": null,
   "metadata": {},
   "outputs": [],
   "source": []
  },
  {
   "cell_type": "code",
   "execution_count": null,
   "metadata": {},
   "outputs": [],
   "source": []
  },
  {
   "cell_type": "code",
   "execution_count": 26,
   "metadata": {},
   "outputs": [
    {
     "name": "stdout",
     "output_type": "stream",
     "text": [
      "training model:LogisticRegression(random_state=7)\n",
      "Training set score: 0.5970149253731343\n",
      "Test set score: 0.5955334987593052\n",
      "              precision    recall  f1-score   support\n",
      "\n",
      "           0    0.00000   0.00000   0.00000       240\n",
      "           1    0.40299   0.99387   0.57345       163\n",
      "\n",
      "    accuracy                        0.40199       403\n",
      "   macro avg    0.20149   0.49693   0.28673       403\n",
      "weighted avg    0.16299   0.40199   0.23194       403\n",
      "\n",
      "[[0.         0.5955335 ]\n",
      " [0.00248139 0.40198511]]\n",
      "training model:KNeighborsClassifier()\n",
      "Training set score: 0.7021144278606966\n",
      "Test set score: 0.575682382133995\n",
      "              precision    recall  f1-score   support\n",
      "\n",
      "           0    0.61856   0.75000   0.67797       240\n",
      "           1    0.46429   0.31902   0.37818       163\n",
      "\n",
      "    accuracy                        0.57568       403\n",
      "   macro avg    0.54142   0.53451   0.52807       403\n",
      "weighted avg    0.55616   0.57568   0.55671       403\n",
      "\n",
      "[[0.44665012 0.14888337]\n",
      " [0.27543424 0.12903226]]\n",
      "training model:GaussianNB()\n",
      "Training set score: 0.4123134328358209\n",
      "Test set score: 0.41687344913151364\n",
      "              precision    recall  f1-score   support\n",
      "\n",
      "           0    0.59553   1.00000   0.74650       240\n",
      "           1    0.00000   0.00000   0.00000       163\n",
      "\n",
      "    accuracy                        0.59553       403\n",
      "   macro avg    0.29777   0.50000   0.37325       403\n",
      "weighted avg    0.35466   0.59553   0.44457       403\n",
      "\n",
      "[[0.5955335 0.       ]\n",
      " [0.4044665 0.       ]]\n"
     ]
    },
    {
     "name": "stderr",
     "output_type": "stream",
     "text": [
      "/Users/lachlan/opt/anaconda3/lib/python3.8/site-packages/sklearn/metrics/_classification.py:1471: UndefinedMetricWarning: Precision and F-score are ill-defined and being set to 0.0 in labels with no predicted samples. Use `zero_division` parameter to control this behavior.\n",
      "  _warn_prf(average, modifier, msg_start, len(result))\n",
      "/Users/lachlan/opt/anaconda3/lib/python3.8/site-packages/sklearn/metrics/_classification.py:1471: UndefinedMetricWarning: Precision and F-score are ill-defined and being set to 0.0 in labels with no predicted samples. Use `zero_division` parameter to control this behavior.\n",
      "  _warn_prf(average, modifier, msg_start, len(result))\n",
      "/Users/lachlan/opt/anaconda3/lib/python3.8/site-packages/sklearn/metrics/_classification.py:1471: UndefinedMetricWarning: Precision and F-score are ill-defined and being set to 0.0 in labels with no predicted samples. Use `zero_division` parameter to control this behavior.\n",
      "  _warn_prf(average, modifier, msg_start, len(result))\n",
      "/Users/lachlan/opt/anaconda3/lib/python3.8/site-packages/sklearn/metrics/_classification.py:1471: UndefinedMetricWarning: Precision and F-score are ill-defined and being set to 0.0 in labels with no predicted samples. Use `zero_division` parameter to control this behavior.\n",
      "  _warn_prf(average, modifier, msg_start, len(result))\n",
      "/Users/lachlan/opt/anaconda3/lib/python3.8/site-packages/sklearn/metrics/_classification.py:1471: UndefinedMetricWarning: Precision and F-score are ill-defined and being set to 0.0 in labels with no predicted samples. Use `zero_division` parameter to control this behavior.\n",
      "  _warn_prf(average, modifier, msg_start, len(result))\n",
      "/Users/lachlan/opt/anaconda3/lib/python3.8/site-packages/sklearn/metrics/_classification.py:1471: UndefinedMetricWarning: Precision and F-score are ill-defined and being set to 0.0 in labels with no predicted samples. Use `zero_division` parameter to control this behavior.\n",
      "  _warn_prf(average, modifier, msg_start, len(result))\n"
     ]
    },
    {
     "name": "stdout",
     "output_type": "stream",
     "text": [
      "training model:RandomForestClassifier(max_depth=10, max_leaf_nodes=13, min_samples_split=10,\n",
      "                       n_estimators=5, random_state=7)\n",
      "Training set score: 0.6648009950248757\n",
      "Test set score: 0.6104218362282878\n",
      "              precision    recall  f1-score   support\n",
      "\n",
      "           0    0.00000   0.00000   0.00000       240\n",
      "           1    0.40447   1.00000   0.57597       163\n",
      "\n",
      "    accuracy                        0.40447       403\n",
      "   macro avg    0.20223   0.50000   0.28799       403\n",
      "weighted avg    0.16359   0.40447   0.23296       403\n",
      "\n",
      "[[0.        0.5955335]\n",
      " [0.        0.4044665]]\n",
      "training model:GradientBoostingClassifier()\n",
      "Training set score: 0.8041044776119403\n",
      "Test set score: 0.6178660049627791\n",
      "              precision    recall  f1-score   support\n",
      "\n",
      "           0    0.00000   0.00000   0.00000       240\n",
      "           1    0.40447   1.00000   0.57597       163\n",
      "\n",
      "    accuracy                        0.40447       403\n",
      "   macro avg    0.20223   0.50000   0.28799       403\n",
      "weighted avg    0.16359   0.40447   0.23296       403\n",
      "\n",
      "[[0.        0.5955335]\n",
      " [0.        0.4044665]]\n"
     ]
    },
    {
     "name": "stderr",
     "output_type": "stream",
     "text": [
      "/Users/lachlan/opt/anaconda3/lib/python3.8/site-packages/sklearn/metrics/_classification.py:1471: UndefinedMetricWarning: Precision and F-score are ill-defined and being set to 0.0 in labels with no predicted samples. Use `zero_division` parameter to control this behavior.\n",
      "  _warn_prf(average, modifier, msg_start, len(result))\n",
      "/Users/lachlan/opt/anaconda3/lib/python3.8/site-packages/sklearn/metrics/_classification.py:1471: UndefinedMetricWarning: Precision and F-score are ill-defined and being set to 0.0 in labels with no predicted samples. Use `zero_division` parameter to control this behavior.\n",
      "  _warn_prf(average, modifier, msg_start, len(result))\n",
      "/Users/lachlan/opt/anaconda3/lib/python3.8/site-packages/sklearn/metrics/_classification.py:1471: UndefinedMetricWarning: Precision and F-score are ill-defined and being set to 0.0 in labels with no predicted samples. Use `zero_division` parameter to control this behavior.\n",
      "  _warn_prf(average, modifier, msg_start, len(result))\n"
     ]
    },
    {
     "data": {
      "image/png": "[encoded data removed]",
      "text/plain": [
       "<Figure size 432x288 with 2 Axes>"
      ]
     },
     "metadata": {
      "needs_background": "light"
     },
     "output_type": "display_data"
    },
    {
     "data": {
      "image/png": "[encoded data removed]",
      "text/plain": [
       "<Figure size 432x288 with 2 Axes>"
      ]
     },
     "metadata": {
      "needs_background": "light"
     },
     "output_type": "display_data"
    },
    {
     "data": {
      "image/png": "[encoded data removed]",
      "text/plain": [
       "<Figure size 432x288 with 2 Axes>"
      ]
     },
     "metadata": {
      "needs_background": "light"
     },
     "output_type": "display_data"
    },
    {
     "data": {
      "image/png": "[encoded data removed]",
      "text/plain": [
       "<Figure size 432x288 with 2 Axes>"
      ]
     },
     "metadata": {
      "needs_background": "light"
     },
     "output_type": "display_data"
    },
    {
     "data": {
      "image/png": "[encoded data removed]",
      "text/plain": [
       "<Figure size 432x288 with 2 Axes>"
      ]
     },
     "metadata": {
      "needs_background": "light"
     },
     "output_type": "display_data"
    }
   ],
   "source": [
    "# create loop to test all models at once\n",
    "\n",
    "model_names = [lr, knn, nb, rf, gb]\n",
    "for name in model_names:\n",
    "    print('training model:' + str(name))\n",
    "    \n",
    "    # define model name\n",
    "    model_name = name\n",
    "    \n",
    "    # make pipeline steps\n",
    "    pipe = make_pipeline(scaler,model_name)\n",
    "\n",
    "    # fit data to model\n",
    "    pipe.fit(X_train, y_train)\n",
    "\n",
    "    # save predictions on test set\n",
    "    predictions = model_name.predict(X_test)\n",
    "\n",
    "    # print summary statistics\n",
    "    print('Training set score: ' + str(pipe.score(X_train,y_train)))\n",
    "    print('Test set score: ' + str(pipe.score(X_test,y_test)))\n",
    "    print(classification_report(y_test, predictions, digits=5))\n",
    "#for debugging\n",
    "#    print(predictions)\n",
    "\n",
    "    # plot confusion matrix\n",
    "    cm = confusion_matrix(y_test, predictions, normalize='all')\n",
    "    print(cm)\n",
    "    ConfusionMatrixDisplay(confusion_matrix=cm).plot()"
   ]
  },
  {
   "cell_type": "markdown",
   "metadata": {},
   "source": [
    "## Suggestions on how to improve predictions:\n",
    "1. probably overfitting\n",
    "2. tweak some parameters to see if it does stuff\n",
    "3. simplify models\n",
    "4. start analysing \n",
    "\n"
   ]
  },
  {
   "cell_type": "code",
   "execution_count": null,
   "metadata": {},
   "outputs": [],
   "source": []
  },
  {
   "cell_type": "code",
   "execution_count": 27,
   "metadata": {},
   "outputs": [],
   "source": [
    "# This is a function I pulled from \n",
    "# https://stackoverflow.com/questions/37161563/how-to-graph-grid-scores-from-gridsearchcv\n",
    "\n",
    "# For each hyperparamter it fixes all other parameters to their best values \n",
    "# and plots the average score for each value of the hyperparamter.\n",
    "\n",
    "\n",
    "def plot_search_results(grid):\n",
    "    \n",
    "    # Results from grid search\n",
    "    results = grid.cv_results_\n",
    "    means_test = results['mean_test_score']\n",
    "    stds_test = results['std_test_score']\n",
    "    means_train = results['mean_train_score']\n",
    "    stds_train = results['std_train_score']\n",
    "\n",
    "    # Getting indexes of values per hyper-parameter\n",
    "    masks=[]\n",
    "    masks_names= list(grid.best_params_.keys())\n",
    "    for p_k, p_v in grid.best_params_.items():\n",
    "        masks.append(list(results['param_'+p_k].data==p_v))\n",
    "\n",
    "    params=grid.param_grid\n",
    "\n",
    "    # Ploting results\n",
    "    fig, ax = plt.subplots(1,len(params),sharex='none', sharey='all',figsize=(20,5))\n",
    "    fig.suptitle('Score per parameter')\n",
    "    fig.text(0.04, 0.5, 'MEAN SCORE', va='center', rotation='vertical')\n",
    "    pram_preformace_in_best = {}\n",
    "    for i, p in enumerate(masks_names):\n",
    "        m = np.stack(masks[:i] + masks[i+1:])\n",
    "        pram_preformace_in_best\n",
    "        best_parms_mask = m.all(axis=0)\n",
    "        best_index = np.where(best_parms_mask)[0]\n",
    "        x = np.array(params[p])\n",
    "        y_1 = np.array(means_test[best_index])\n",
    "        e_1 = np.array(stds_test[best_index])\n",
    "        y_2 = np.array(means_train[best_index])\n",
    "        e_2 = np.array(stds_train[best_index])\n",
    "        ax[i].errorbar(x, y_1, e_1, linestyle='--', marker='o', label='test')\n",
    "        ax[i].errorbar(x, y_2, e_2, linestyle='-', marker='^',label='train' )\n",
    "        ax[i].set_xlabel(p.upper())\n",
    "\n",
    "    plt.legend()\n",
    "    plt.show()"
   ]
  },
  {
   "cell_type": "code",
   "execution_count": 28,
   "metadata": {},
   "outputs": [],
   "source": [
    "# define parameter search for each model\n",
    "\n",
    "# Logistic Regression:\n",
    "lr = LogisticRegression(random_state=seed_choice, solver='liblinear', max_iter=1000)\n",
    "\n",
    "lr_param_grid = {'logisticregression__penalty': ['l1', 'l2'],\n",
    "                 'logisticregression__C': [0.001, 0.01, 0.1, 1.0, 10, 25]\n",
    "                }\n",
    "\n",
    "# K-nearest Neighbors:\n",
    "knn = KNeighborsClassifier(n_neighbors=10)\n",
    "\n",
    "knn_param_grid = {'kneighborsclassifier__n_neighbors': [3, 5, 7, 9],\n",
    "                  'kneighborsclassifier__weights': ['uniform', 'distance'],\n",
    "                  'kneighborsclassifier__p': [1,2]\n",
    "                 }\n",
    "\n",
    "# Naive Bayes:\n",
    "nb = GaussianNB()\n",
    "# There are no meaningful paramters to tune for Naive Bayes model so we willl accept the default implementation.\n",
    "\n",
    "# Random Forest:\n",
    "rf = RandomForestClassifier(random_state=seed_choice, n_jobs=-1)\n",
    "\n",
    "rf_param_grid = {'randomforestclassifier__n_estimators': [5, 10, 25, 50, 100],\n",
    "                 'randomforestclassifier__criterion': ['gini', 'entropy', 'log_loss'],\n",
    "                 'randomforestclassifier__max_depth': [3, 5, 10, 16],\n",
    "                 'randomforestclassifier__max_features': ['sqrt', 'log2', 9],\n",
    "                 'randomforestclassifier__max_samples': [0.25, 0.5, 0.75, 1]\n",
    "                }\n",
    "\n",
    "# Gradient Boosted Trees:\n",
    "gb = GradientBoostingClassifier(random_state=seed_choice)\n",
    "\n",
    "gb_param_grid = {'gradientboostingclassifier__n_estimators': [10, 25, 50, 100],\n",
    "                 'gradientboostingclassifier__loss': ['log_loss', 'exponential'],\n",
    "                 'gradientboostingclassifier__learning_rate': [0.01, 0.1, 0.5, 1],\n",
    "                 'gradientboostingclassifier__subsample': [0.1, 0.5, 0.75, 1],\n",
    "                 'gradientboostingclassifier__max_depth': [3, 5, 10, 16],\n",
    "                 'gradientboostingclassifier__max_features': ['sqrt', 'log2', 9],\n",
    "                }"
   ]
  },
  {
   "cell_type": "code",
   "execution_count": 29,
   "metadata": {},
   "outputs": [],
   "source": [
    "# define workflow to perform grid search on a model \n",
    "#  and print the summary statistics for the best parameters \n",
    "#   and plot the results of the cross validation.\n",
    "def search_train_evaluate_plot(model_name, param_grid, scorer):\n",
    "    \n",
    "    # define pipeline\n",
    "    pipe = make_pipeline(scaler,model_name)\n",
    "\n",
    "    # define parameter search\n",
    "    grid_search = GridSearchCV(pipe, param_grid, cv=4, refit = True, verbose = 1, return_train_score=True, scoring=scorer, n_jobs=-1) \n",
    "\n",
    "    # train the model on grid search \n",
    "    grid_search.fit(X_train, y_train) \n",
    "\n",
    "    # print best parameters after tuning \n",
    "    print(grid_search.best_params_) \n",
    "    best_predictions = grid_search.predict(X_test) \n",
    "\n",
    "    # print summary of metrics for best parameters\n",
    "    model_metrics(best_predictions, grid_search)\n",
    "    \n",
    "    # plot results of grid search\n",
    "    plot_search_results(grid_search)\n",
    "\n"
   ]
  },
  {
   "cell_type": "code",
   "execution_count": 30,
   "metadata": {},
   "outputs": [
    {
     "name": "stdout",
     "output_type": "stream",
     "text": [
      "Fitting 4 folds for each of 16 candidates, totalling 64 fits\n",
      "{'kneighborsclassifier__n_neighbors': 9, 'kneighborsclassifier__p': 1, 'kneighborsclassifier__weights': 'uniform'}\n",
      "Training set score: 0.6672885572139303\n",
      "Test set score: 0.5905707196029777\n",
      "              precision    recall  f1-score   support\n",
      "\n",
      "           0    0.62058   0.80417   0.70054       240\n",
      "           1    0.48913   0.27607   0.35294       163\n",
      "\n",
      "    accuracy                        0.59057       403\n",
      "   macro avg    0.55485   0.54012   0.52674       403\n",
      "weighted avg    0.56741   0.59057   0.55995       403\n",
      "\n",
      "[[0.47890819 0.11662531]\n",
      " [0.29280397 0.11166253]]\n"
     ]
    },
    {
     "data": {
      "image/png": "[encoded data removed]",
      "text/plain": [
       "<Figure size 432x288 with 2 Axes>"
      ]
     },
     "metadata": {
      "needs_background": "light"
     },
     "output_type": "display_data"
    },
    {
     "data": {
      "image/png": "[encoded data removed]",
      "text/plain": [
       "<Figure size 1440x360 with 3 Axes>"
      ]
     },
     "metadata": {
      "needs_background": "light"
     },
     "output_type": "display_data"
    }
   ],
   "source": [
    "# define names for model\n",
    "model_name = knn\n",
    "param_grid = knn_param_grid\n",
    "scorer = make_scorer(accuracy_score)\n",
    "#scorer = make_scorer(recall_score)\n",
    "\n",
    "# run model workflow\n",
    "search_train_evaluate_plot(model_name, param_grid, scorer)"
   ]
  },
  {
   "cell_type": "code",
   "execution_count": 31,
   "metadata": {},
   "outputs": [],
   "source": [
    "# define workflow for training and printing model evaluation metrics\n",
    "def train_and_evaluate(scaler,model_name):\n",
    "    \n",
    "    # make pipeline steps\n",
    "    pipe = make_pipeline(scaler,model_name)\n",
    "\n",
    "    # fit data to model\n",
    "    pipe.fit(X_train, y_train)\n",
    "\n",
    "    # save predictions on test set\n",
    "    predictions = pipe.predict(X_test)\n",
    "\n",
    "    # display results and metrics\n",
    "    model_metrics(predictions, pipe)\n"
   ]
  },
  {
   "cell_type": "code",
   "execution_count": 39,
   "metadata": {},
   "outputs": [
    {
     "name": "stdout",
     "output_type": "stream",
     "text": [
      "training model:LogisticRegression(max_iter=1000, random_state=7, solver='liblinear')\n",
      "Fitting 4 folds for each of 12 candidates, totalling 48 fits\n",
      "{'logisticregression__C': 0.001, 'logisticregression__penalty': 'l1'}\n",
      "Training set score: 0.5970149253731343\n",
      "Test set score: 0.5955334987593052\n",
      "              precision    recall  f1-score   support\n",
      "\n",
      "           0    0.59553   1.00000   0.74650       240\n",
      "           1    0.00000   0.00000   0.00000       163\n",
      "\n",
      "    accuracy                        0.59553       403\n",
      "   macro avg    0.29777   0.50000   0.37325       403\n",
      "weighted avg    0.35466   0.59553   0.44457       403\n",
      "\n",
      "[[0.5955335 0.       ]\n",
      " [0.4044665 0.       ]]\n"
     ]
    },
    {
     "name": "stderr",
     "output_type": "stream",
     "text": [
      "/Users/lachlan/opt/anaconda3/lib/python3.8/site-packages/sklearn/metrics/_classification.py:1471: UndefinedMetricWarning: Precision and F-score are ill-defined and being set to 0.0 in labels with no predicted samples. Use `zero_division` parameter to control this behavior.\n",
      "  _warn_prf(average, modifier, msg_start, len(result))\n",
      "/Users/lachlan/opt/anaconda3/lib/python3.8/site-packages/sklearn/metrics/_classification.py:1471: UndefinedMetricWarning: Precision and F-score are ill-defined and being set to 0.0 in labels with no predicted samples. Use `zero_division` parameter to control this behavior.\n",
      "  _warn_prf(average, modifier, msg_start, len(result))\n",
      "/Users/lachlan/opt/anaconda3/lib/python3.8/site-packages/sklearn/metrics/_classification.py:1471: UndefinedMetricWarning: Precision and F-score are ill-defined and being set to 0.0 in labels with no predicted samples. Use `zero_division` parameter to control this behavior.\n",
      "  _warn_prf(average, modifier, msg_start, len(result))\n"
     ]
    },
    {
     "data": {
      "image/png": "[encoded data removed]",
      "text/plain": [
       "<Figure size 432x288 with 2 Axes>"
      ]
     },
     "metadata": {
      "needs_background": "light"
     },
     "output_type": "display_data"
    },
    {
     "data": {
      "image/png": "[encoded data removed]",
      "text/plain": [
       "<Figure size 1440x360 with 2 Axes>"
      ]
     },
     "metadata": {
      "needs_background": "light"
     },
     "output_type": "display_data"
    },
    {
     "name": "stdout",
     "output_type": "stream",
     "text": [
      "training model:KNeighborsClassifier(n_neighbors=10)\n",
      "Fitting 4 folds for each of 16 candidates, totalling 64 fits\n",
      "{'kneighborsclassifier__n_neighbors': 7, 'kneighborsclassifier__p': 2, 'kneighborsclassifier__weights': 'uniform'}\n",
      "Training set score: 0.6871890547263682\n",
      "Test set score: 0.5235732009925558\n",
      "              precision    recall  f1-score   support\n",
      "\n",
      "           0    0.58108   0.71667   0.64179       240\n",
      "           1    0.36449   0.23926   0.28889       163\n",
      "\n",
      "    accuracy                        0.52357       403\n",
      "   macro avg    0.47278   0.47797   0.46534       403\n",
      "weighted avg    0.49348   0.52357   0.49905       403\n",
      "\n",
      "[[0.42679901 0.16873449]\n",
      " [0.30769231 0.09677419]]\n"
     ]
    },
    {
     "data": {
      "image/png": "[encoded data removed]",
      "text/plain": [
       "<Figure size 432x288 with 2 Axes>"
      ]
     },
     "metadata": {
      "needs_background": "light"
     },
     "output_type": "display_data"
    },
    {
     "data": {
      "image/png": "[encoded data removed]",
      "text/plain": [
       "<Figure size 1440x360 with 3 Axes>"
      ]
     },
     "metadata": {
      "needs_background": "light"
     },
     "output_type": "display_data"
    },
    {
     "name": "stdout",
     "output_type": "stream",
     "text": [
      "training model:GaussianNB()\n",
      "Training set score: 0.4098258706467662\n",
      "Test set score: 0.4317617866004963\n",
      "              precision    recall  f1-score   support\n",
      "\n",
      "           0    0.78947   0.06250   0.11583       240\n",
      "           1    0.41406   0.97546   0.58135       163\n",
      "\n",
      "    accuracy                        0.43176       403\n",
      "   macro avg    0.60177   0.51898   0.34859       403\n",
      "weighted avg    0.63763   0.43176   0.30412       403\n",
      "\n",
      "[[0.03722084 0.55831266]\n",
      " [0.00992556 0.39454094]]\n",
      "training model:RandomForestClassifier(n_jobs=-1, random_state=7)\n",
      "Fitting 4 folds for each of 720 candidates, totalling 2880 fits\n",
      "{'randomforestclassifier__criterion': 'entropy', 'randomforestclassifier__max_depth': 16, 'randomforestclassifier__max_features': 9, 'randomforestclassifier__max_samples': 0.75, 'randomforestclassifier__n_estimators': 100}\n",
      "Training set score: 0.9900497512437811\n",
      "Test set score: 0.6550868486352357\n",
      "              precision    recall  f1-score   support\n",
      "\n",
      "           0    0.66667   0.84167   0.74401       240\n",
      "           1    0.62000   0.38037   0.47148       163\n",
      "\n",
      "    accuracy                        0.65509       403\n",
      "   macro avg    0.64333   0.61102   0.60775       403\n",
      "weighted avg    0.64779   0.65509   0.63378       403\n",
      "\n",
      "[[0.50124069 0.0942928 ]\n",
      " [0.25062035 0.15384615]]\n"
     ]
    },
    {
     "data": {
      "image/png": "[encoded data removed]",
      "text/plain": [
       "<Figure size 432x288 with 2 Axes>"
      ]
     },
     "metadata": {
      "needs_background": "light"
     },
     "output_type": "display_data"
    },
    {
     "data": {
      "image/png": "[encoded data removed]",
      "text/plain": [
       "<Figure size 432x288 with 2 Axes>"
      ]
     },
     "metadata": {
      "needs_background": "light"
     },
     "output_type": "display_data"
    },
    {
     "data": {
      "image/png": "[encoded data removed]",
      "text/plain": [
       "<Figure size 1440x360 with 5 Axes>"
      ]
     },
     "metadata": {
      "needs_background": "light"
     },
     "output_type": "display_data"
    },
    {
     "name": "stdout",
     "output_type": "stream",
     "text": [
      "training model:GradientBoostingClassifier(random_state=7)\n",
      "Fitting 4 folds for each of 1536 candidates, totalling 6144 fits\n",
      "{'gradientboostingclassifier__learning_rate': 0.1, 'gradientboostingclassifier__loss': 'log_loss', 'gradientboostingclassifier__max_depth': 10, 'gradientboostingclassifier__max_features': 'sqrt', 'gradientboostingclassifier__n_estimators': 25, 'gradientboostingclassifier__subsample': 1}\n",
      "Training set score: 0.9813432835820896\n",
      "Test set score: 0.6451612903225806\n",
      "              precision    recall  f1-score   support\n",
      "\n",
      "           0    0.65696   0.84583   0.73953       240\n",
      "           1    0.60638   0.34969   0.44358       163\n",
      "\n",
      "    accuracy                        0.64516       403\n",
      "   macro avg    0.63167   0.59776   0.59155       403\n",
      "weighted avg    0.63650   0.64516   0.61983       403\n",
      "\n",
      "[[0.50372208 0.09181141]\n",
      " [0.2630273  0.14143921]]\n"
     ]
    },
    {
     "data": {
      "image/png": "[encoded data removed]",
      "text/plain": [
       "<Figure size 432x288 with 2 Axes>"
      ]
     },
     "metadata": {
      "needs_background": "light"
     },
     "output_type": "display_data"
    },
    {
     "data": {
      "image/png": "[encoded data removed]",
      "text/plain": [
       "<Figure size 1440x360 with 6 Axes>"
      ]
     },
     "metadata": {
      "needs_background": "light"
     },
     "output_type": "display_data"
    }
   ],
   "source": [
    "# create loop to test all models at once\n",
    "\n",
    "scorer = make_scorer(accuracy_score)\n",
    "#scorer = make_scorer(recall_score)\n",
    "\n",
    "model_and_param_names = [[lr, lr_param_grid], [knn, knn_param_grid], [nb], [rf, rf_param_grid], [gb, gb_param_grid]]\n",
    "for name in model_and_param_names:\n",
    "    \n",
    "    if name[0] == nb:\n",
    "        \n",
    "        print('training model:' + str(name[0]))\n",
    "    \n",
    "        train_and_evaluate(scaler,name[0])\n",
    "    else:\n",
    "        print('training model:' + str(name[0]))\n",
    "\n",
    "        search_train_evaluate_plot(name[0], name[1], scorer)"
   ]
  },
  {
   "cell_type": "code",
   "execution_count": null,
   "metadata": {},
   "outputs": [],
   "source": []
  },
  {
   "cell_type": "code",
   "execution_count": null,
   "metadata": {},
   "outputs": [],
   "source": []
  },
  {
   "cell_type": "code",
   "execution_count": 32,
   "metadata": {},
   "outputs": [],
   "source": [
    "# define best parameters for each model type\n",
    "\n",
    "# Logistic Regression:\n",
    "best_lr = LogisticRegression(random_state=seed_choice, solver='liblinear', max_iter=1000, penalty='l1', C=10)\n",
    "\n",
    "# K-nearest Neighbors:\n",
    "best_knn = KNeighborsClassifier(n_neighbors=9, weights='uniform', p=2)\n",
    "\n",
    "# Naive Bayes:\n",
    "best_nb = GaussianNB()\n",
    "# There are no meaningful paramters to tune for Naive Bayes model so we willl accept the default implementation.\n",
    "\n",
    "# Random Forest:\n",
    "best_rf = RandomForestClassifier(random_state=seed_choice, criterion='gini', max_depth=5, max_features=9, max_samples=0.5, n_estimators=50)\n",
    "\n",
    "# Gradient Boosted Trees:\n",
    "best_gb = GradientBoostingClassifier(random_state=seed_choice, n_estimators=25, loss='log_loss', learning_rate=.1, subsample=0.75, max_depth=3, max_features=9)\n",
    "\n"
   ]
  },
  {
   "cell_type": "code",
   "execution_count": 33,
   "metadata": {},
   "outputs": [],
   "source": [
    "# define workflow to perform grid search over model types \n",
    "#  and print the summary statistics for the best model \n",
    "#   and plot the results of the cross validation.\n",
    "\n",
    "def model_search_train_evaluate_plot(scorer):\n",
    "    \n",
    "    # define model type parameters\n",
    "    param_grid = [{'classifier': [best_lr]},\n",
    "                  {'classifier': [best_knn]},\n",
    "                  {'classifier': [best_nb]},\n",
    "                  {'classifier': [best_rf]},\n",
    "                  {'classifier': [best_gb]}\n",
    "                 ]\n",
    "\n",
    "    pipe = Pipeline([('scaler', scaler),\n",
    "                     ('classifier', DummyClassifier())\n",
    "                    ])\n",
    "    \n",
    "    \n",
    "    \n",
    "    # define parameter search\n",
    "    grid_search = GridSearchCV(pipe, param_grid, cv=5, refit = True, verbose = 1, return_train_score=True, scoring=scorer, n_jobs=-1) \n",
    "\n",
    "    # train the model on grid search \n",
    "    grid_search.fit(X_train, y_train) \n",
    "\n",
    "    # print best parameters after tuning \n",
    "    print(grid_search.best_params_) \n",
    "    best_predictions = grid_search.predict(X_test) \n",
    "\n",
    "    # print summary of metrics for best parameters\n",
    "    #model_metrics(best_predictions, grid_search)\n",
    "    \n",
    "    # print score for each fit\n",
    "    print('mean test scores:' + str(grid_search.cv_results_['mean_test_score']))\n",
    "    print('mean train scores:' + str(grid_search.cv_results_['mean_train_score']))\n",
    "    x = np.arange(grid_search.cv_results_['mean_test_score'].shape[0])\n",
    "    plt.plot(x, grid_search.cv_results_['mean_test_score'], 'bo-')\n",
    "    plt.plot(x, grid_search.cv_results_['mean_train_score'], 'go-')\n",
    "    \n",
    "    plt.show()\n",
    "    "
   ]
  },
  {
   "cell_type": "code",
   "execution_count": 34,
   "metadata": {},
   "outputs": [
    {
     "name": "stdout",
     "output_type": "stream",
     "text": [
      "Fitting 5 folds for each of 5 candidates, totalling 25 fits\n",
      "{'classifier': RandomForestClassifier(max_depth=5, max_features=9, max_samples=0.5,\n",
      "                       n_estimators=50, random_state=7)}\n",
      "mean test scores:[0.59639519 0.57029082 0.44026431 0.62748786 0.62314003]\n",
      "mean train scores:[0.59732605 0.66993128 0.44932698 0.68594354 0.69449707]\n"
     ]
    },
    {
     "data": {
      "image/png": "[encoded data removed]",
      "text/plain": [
       "<Figure size 432x288 with 1 Axes>"
      ]
     },
     "metadata": {
      "needs_background": "light"
     },
     "output_type": "display_data"
    }
   ],
   "source": [
    "# choose scorer\n",
    "scorer = make_scorer(accuracy_score)\n",
    "#scorer = make_scorer(recall_score)\n",
    "\n",
    "# search over model types\n",
    "model_search_train_evaluate_plot(scorer)"
   ]
  },
  {
   "cell_type": "code",
   "execution_count": 35,
   "metadata": {},
   "outputs": [],
   "source": [
    "## Best model is gradient boosted trees. We now undergo further parameter tuning"
   ]
  },
  {
   "cell_type": "markdown",
   "metadata": {},
   "source": [
    "## How to fix this shit\n",
    "Use the previous parameter tuning grid "
   ]
  },
  {
   "cell_type": "code",
   "execution_count": 54,
   "metadata": {},
   "outputs": [],
   "source": [
    "# Defining a finer parameter grid\n",
    "# Gradient Boosted Trees:\n",
    "gb = GradientBoostingClassifier(random_state=seed_choice)\n",
    "\n",
    "#(random_state=seed_choice, n_estimators=25, loss='log_loss', learning_rate=.1, subsample=0.75, max_depth=3, max_features=9)\n",
    "\n",
    "gb_param_grid = {'gradientboostingclassifier__n_estimators': [20, 25, 30, 40],\n",
    "                 'gradientboostingclassifier__loss': ['log_loss'],\n",
    "                 'gradientboostingclassifier__learning_rate': [0.04, 0.08, 0.1, 0.2],\n",
    "                 'gradientboostingclassifier__subsample': [0.6, 0.7, 0.75, 0.85],\n",
    "                 'gradientboostingclassifier__max_depth': [5, 7, 8, 10],\n",
    "                 'gradientboostingclassifier__max_features': ['sqrt', 'log2'],\n",
    "                }"
   ]
  },
  {
   "cell_type": "code",
   "execution_count": 55,
   "metadata": {},
   "outputs": [
    {
     "name": "stdout",
     "output_type": "stream",
     "text": [
      "Fitting 4 folds for each of 512 candidates, totalling 2048 fits\n",
      "{'gradientboostingclassifier__learning_rate': 0.1, 'gradientboostingclassifier__loss': 'log_loss', 'gradientboostingclassifier__max_depth': 7, 'gradientboostingclassifier__max_features': 'sqrt', 'gradientboostingclassifier__n_estimators': 30, 'gradientboostingclassifier__subsample': 0.75}\n",
      "Training set score: 0.9048507462686567\n",
      "Test set score: 0.6004962779156328\n",
      "              precision    recall  f1-score   support\n",
      "\n",
      "           0    0.62382   0.82917   0.71199       240\n",
      "           1    0.51190   0.26380   0.34818       163\n",
      "\n",
      "    accuracy                        0.60050       403\n",
      "   macro avg    0.56786   0.54649   0.53008       403\n",
      "weighted avg    0.57856   0.60050   0.56484       403\n",
      "\n",
      "[[0.49379653 0.10173697]\n",
      " [0.29776675 0.10669975]]\n"
     ]
    },
    {
     "data": {
      "image/png": "[encoded data removed]",
      "text/plain": [
       "<Figure size 432x288 with 2 Axes>"
      ]
     },
     "metadata": {
      "needs_background": "light"
     },
     "output_type": "display_data"
    },
    {
     "data": {
      "image/png": "[encoded data removed]",
      "text/plain": [
       "<Figure size 1440x360 with 6 Axes>"
      ]
     },
     "metadata": {
      "needs_background": "light"
     },
     "output_type": "display_data"
    }
   ],
   "source": [
    "# define names for model\n",
    "model_name = gb\n",
    "param_grid = gb_param_grid\n",
    "scorer = make_scorer(accuracy_score)\n",
    "#scorer = make_scorer(recall_score)\n",
    "\n",
    "# run model workflow\n",
    "search_train_evaluate_plot(model_name, param_grid, scorer)"
   ]
  },
  {
   "cell_type": "code",
   "execution_count": null,
   "metadata": {},
   "outputs": [],
   "source": []
  },
  {
   "cell_type": "code",
   "execution_count": null,
   "metadata": {},
   "outputs": [],
   "source": []
  },
  {
   "cell_type": "code",
   "execution_count": null,
   "metadata": {},
   "outputs": [],
   "source": []
  },
  {
   "cell_type": "code",
   "execution_count": null,
   "metadata": {},
   "outputs": [],
   "source": []
  },
  {
   "cell_type": "code",
   "execution_count": null,
   "metadata": {},
   "outputs": [],
   "source": []
  },
  {
   "cell_type": "code",
   "execution_count": null,
   "metadata": {},
   "outputs": [],
   "source": []
  },
  {
   "cell_type": "code",
   "execution_count": null,
   "metadata": {},
   "outputs": [],
   "source": []
  },
  {
   "cell_type": "code",
   "execution_count": null,
   "metadata": {},
   "outputs": [],
   "source": []
  },
  {
   "cell_type": "code",
   "execution_count": null,
   "metadata": {},
   "outputs": [],
   "source": []
  },
  {
   "cell_type": "code",
   "execution_count": 46,
   "metadata": {},
   "outputs": [],
   "source": []
  },
  {
   "cell_type": "code",
   "execution_count": null,
   "metadata": {},
   "outputs": [],
   "source": []
  },
  {
   "cell_type": "code",
   "execution_count": null,
   "metadata": {},
   "outputs": [],
   "source": []
  },
  {
   "cell_type": "code",
   "execution_count": null,
   "metadata": {},
   "outputs": [],
   "source": []
  },
  {
   "cell_type": "code",
   "execution_count": null,
   "metadata": {},
   "outputs": [],
   "source": []
  },
  {
   "cell_type": "code",
   "execution_count": null,
   "metadata": {},
   "outputs": [],
   "source": []
  }
 ],
 "metadata": {
  "kernelspec": {
   "display_name": "Python 3",
   "language": "python",
   "name": "python3"
  },
  "language_info": {
   "codemirror_mode": {
    "name": "ipython",
    "version": 3
   },
   "file_extension": ".py",
   "mimetype": "text/x-python",
   "name": "python",
   "nbconvert_exporter": "python",
   "pygments_lexer": "ipython3",
   "version": "3.8.5"
  }
 },
 "nbformat": 4,
 "nbformat_minor": 4
}
